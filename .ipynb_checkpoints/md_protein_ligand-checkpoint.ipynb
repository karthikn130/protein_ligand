{
 "cells": [
  {
   "cell_type": "markdown",
   "metadata": {},
   "source": [
    "#### Required imports for analysis part"
   ]
  },
  {
   "cell_type": "code",
   "execution_count": null,
   "metadata": {
    "scrolled": true
   },
   "outputs": [],
   "source": [
    "import matplotlib as mpl\n",
    "import matplotlib.pyplot as plt\n",
    "import numpy as np"
   ]
  },
  {
   "cell_type": "code",
   "execution_count": null,
   "metadata": {},
   "outputs": [],
   "source": [
    "#check all mdp files\n",
    "1. number of steps\n",
    "2. columb type\n",
    "3. temperature coupling groups"
   ]
  },
  {
   "cell_type": "markdown",
   "metadata": {},
   "source": [
    "#### Create ligand pdb"
   ]
  },
  {
   "cell_type": "code",
   "execution_count": null,
   "metadata": {
    "scrolled": true
   },
   "outputs": [],
   "source": [
    "# separates ligand from protein ligand complex and create ligand.pdb file\n",
    "# change the ligand name wherever needed\n",
    "ligand = \"JZ4\"\n",
    "! grep $ligand protein.pdb > ligand.pdb"
   ]
  },
  {
   "cell_type": "markdown",
   "metadata": {},
   "source": [
    "#### Remove waters and non-standard residues"
   ]
  },
  {
   "cell_type": "code",
   "execution_count": null,
   "metadata": {
    "scrolled": true
   },
   "outputs": [],
   "source": [
    "# pdb2gmx takes only protein file containing standard amino acid residues,\n",
    "    # so check the protein file, should contain only standard residues\n",
    "! grep -v HETATM protein.pdb > protein_processed.pdb"
   ]
  },
  {
   "cell_type": "markdown",
   "metadata": {},
   "source": [
    "#### 1. Protein topology"
   ]
  },
  {
   "cell_type": "code",
   "execution_count": null,
   "metadata": {
    "scrolled": true
   },
   "outputs": [],
   "source": [
    "# this command prepares protein topology file and sets water model\n",
    "#system topology topol.top, a position restraint file posre.itp (included in the topology file), and a coordinate file.gro\n",
    "! printf \"1\" | gmx pdb2gmx -f protein_processed.pdb -o protein_processed.gro -water spc"
   ]
  },
  {
   "cell_type": "code",
   "execution_count": null,
   "metadata": {
    "scrolled": true
   },
   "outputs": [],
   "source": [
    "! tail topol.top"
   ]
  },
  {
   "cell_type": "markdown",
   "metadata": {},
   "source": [
    "#### 2. Ligand tolpology"
   ]
  },
  {
   "cell_type": "code",
   "execution_count": 5,
   "metadata": {
    "scrolled": true
   },
   "outputs": [
    {
     "name": "stdout",
     "output_type": "stream",
     "text": [
      "1 molecule converted\r\n"
     ]
    }
   ],
   "source": [
    "# for ligand toplogy\n",
    "# 1. convert to mol2 file\n",
    "# 2. Check the ligand variable in 1st step\n",
    "# 3. change number before ligand column to \"1\" and ligand name in mol2 file\n",
    "! obabel ligand.pdb --title $ligand -O ligand.mol2 -h"
   ]
  },
  {
   "cell_type": "code",
   "execution_count": null,
   "metadata": {
    "scrolled": true
   },
   "outputs": [],
   "source": [
    "# 4. fix bond order with perl script\n",
    "! perl sort_mol2_bonds.pl ligand.mol2 ligand_fix.mol2"
   ]
  },
  {
   "cell_type": "code",
   "execution_count": null,
   "metadata": {
    "scrolled": true
   },
   "outputs": [],
   "source": [
    "\n",
    "# 5. goto cgenFF website and upload the previous mol2 file and get the corresponding .str file. \n",
    "    #(cgenFF website is used only if CHARMM36 Forcefield is used)\n",
    "    #The CHARMM stream file is the ligand topology - atom types,charges, and bonded connectivity.\n",
    "# Examine the contents of .str and look at the penalties for the charges and the new dihedral parameters. \n",
    "    #If all of them are very low, this topology is of very good quality \n",
    "        #and can be used directly for our simulation.\n",
    "\n",
    "# 6. Use the cgenff_charmm2gmx.py script that downloaded from the MacKerell website.    \n",
    "        #this command creates jz4_ini.pdb ligand structure file, ligand.prm dihedral parameters\n",
    "# Change ligand id in below command - important\n",
    "\n",
    "! python3 cgenff_charmm2gmx_py3_nx2.py JZ4 ligand_fix.mol2 ligand_fix.str charmm36-feb2021.ff/"
   ]
  },
  {
   "cell_type": "markdown",
   "metadata": {},
   "source": [
    "#### Build the Complex - Combine .gro files"
   ]
  },
  {
   "cell_type": "code",
   "execution_count": null,
   "metadata": {
    "scrolled": true
   },
   "outputs": [],
   "source": [
    "# This command creates ligand.gro file\n",
    "# We have \"jz4_ini.pdb\" from cgenff_charmm2gmx.py that has all of the necessary H atoms \n",
    "    #and matches the atom names in the ligand topology. Convert this .pdb file to .gro format with editconf\n",
    "# Change the input file name in below command - important\n",
    "! gmx editconf -f jz4_ini.pdb -o ligand.gro"
   ]
  },
  {
   "cell_type": "code",
   "execution_count": null,
   "metadata": {
    "scrolled": true
   },
   "outputs": [],
   "source": [
    "# now we have .gro files for protein and ligand, now combine them into complex.gro file\n",
    "\n",
    "# Copy protein_processed.gro to a new file \"complex.gro,\"\n",
    "# Next, copy ligand.gro and paste it into \"complex.gro\", below the last line of the protein atoms, \n",
    "    #and before the box vectors \n",
    "# 5.99500   5.19182   9.66100   0.00000   0.00000  -2.99750   0.00000   0.00000   0.00000\n",
    "# increment the second line of complex.gro and add number of ligand atoms to reflect this change."
   ]
  },
  {
   "cell_type": "markdown",
   "metadata": {},
   "source": [
    "#### Build the Topology - combine topology files"
   ]
  },
  {
   "cell_type": "code",
   "execution_count": null,
   "metadata": {
    "scrolled": true
   },
   "outputs": [],
   "source": [
    "# 1. insert a line #include \"ligand.itp\" into topol.top after the position restraint file is included. \n",
    "#    The inclusion of position restraints indicates the end of the \"Protein\" moleculetype section.\n",
    "# 2. The ligand introduces new dihedral parameters, which were written to \"ligand.prm\" by the cgenff_charmm2gmx.py script\n",
    "    #so At the TOP of topol.top, insert an #include \"ligand.prm\" statement,\n",
    "    #after #include \"./charmm36-mar2019.ff/forcefield.itp\" forcefield parameters\n",
    "# 3. The last adjustment to be made is in the [ molecules ] directive. \n",
    "    #To account for the fact that there is a new molecule in complex.gro, we have to add it here, like so:\n",
    "#    ligand        1\n",
    "\n",
    "# The topology and coordinate file are now in agreement with respect to the contents of the system."
   ]
  },
  {
   "cell_type": "markdown",
   "metadata": {},
   "source": [
    "#### 3. create box and add water in box"
   ]
  },
  {
   "cell_type": "code",
   "execution_count": null,
   "metadata": {},
   "outputs": [],
   "source": [
    "# c- center the molecule in box, d-distance from box edge also centers the system, bt-box type\n",
    "! gmx editconf -f complex.gro -o complex_box.gro -bt dodecahedron -d 1.0"
   ]
  },
  {
   "cell_type": "code",
   "execution_count": null,
   "metadata": {},
   "outputs": [],
   "source": [
    "# cp - protein conf, cs - solute conf\n",
    "# if you want you can visualize complex_solv.gro\n",
    "! gmx solvate -cp complex_box.gro -cs spc216.gro -p topol.top -o complex_solv.gro"
   ]
  },
  {
   "cell_type": "markdown",
   "metadata": {},
   "source": [
    "#### 4. Adding Ions"
   ]
  },
  {
   "cell_type": "code",
   "execution_count": null,
   "metadata": {
    "scrolled": true
   },
   "outputs": [],
   "source": [
    "! gmx grompp -f ions.mdp -c complex_solv.gro -p topol.top -o ions.tpr"
   ]
  },
  {
   "cell_type": "code",
   "execution_count": null,
   "metadata": {
    "scrolled": true
   },
   "outputs": [],
   "source": [
    "! printf \"15\" | gmx genion -s ions.tpr -o complex_solv_ions.gro -p topol.top -pname NA -nname CL -neutral"
   ]
  },
  {
   "cell_type": "code",
   "execution_count": null,
   "metadata": {
    "scrolled": true
   },
   "outputs": [],
   "source": [
    "! tail topol.top"
   ]
  },
  {
   "cell_type": "markdown",
   "metadata": {},
   "source": [
    "#### 5. Energy Minimization and potential energy graph"
   ]
  },
  {
   "cell_type": "code",
   "execution_count": null,
   "metadata": {
    "scrolled": true
   },
   "outputs": [],
   "source": [
    "# review nsteps\n",
    "! gmx grompp -f em.mdp -c complex_solv_ions.gro -p topol.top -o em.tpr"
   ]
  },
  {
   "cell_type": "code",
   "execution_count": null,
   "metadata": {},
   "outputs": [],
   "source": [
    "! gmx mdrun -v -deffnm em -nt 8"
   ]
  },
  {
   "cell_type": "code",
   "execution_count": null,
   "metadata": {
    "scrolled": true
   },
   "outputs": [],
   "source": [
    "# view potential after energy minimization\n",
    "! printf \"11\" | gmx energy -f em.edr -o potential.xvg"
   ]
  },
  {
   "cell_type": "code",
   "execution_count": null,
   "metadata": {
    "scrolled": true
   },
   "outputs": [],
   "source": [
    "potential = np.genfromtxt([i for i in open('potential.xvg').read().splitlines() \n",
    "    if not i.startswith(('#','@'))])\n",
    "\n",
    "plt.plot(*potential.T)\n",
    "plt.xlabel('stop')\n",
    "plt.ylabel('potential')"
   ]
  },
  {
   "cell_type": "markdown",
   "metadata": {},
   "source": [
    "#### 6. Equilibration"
   ]
  },
  {
   "cell_type": "code",
   "execution_count": null,
   "metadata": {
    "scrolled": true
   },
   "outputs": [],
   "source": [
    "# There are a few special considerations, in this case:\n",
    "\n",
    "# 1. Applying restraints to the ligand\n",
    "# 2. Treatment of temperature coupling groups"
   ]
  },
  {
   "cell_type": "markdown",
   "metadata": {},
   "source": [
    "##### Restraining the Ligand"
   ]
  },
  {
   "cell_type": "code",
   "execution_count": null,
   "metadata": {
    "scrolled": true
   },
   "outputs": [],
   "source": [
    "# Run in terminal\n",
    "\n",
    "# To restrain the ligand, we will need to generate a position restraint topology for it. \n",
    "#    First, create an index group for JZ4 that contains only its non-hydrogen atoms:\n",
    "! gmx make_ndx -f ligand.gro -o index_ligand.ndx\n",
    "# ...\n",
    "# > 0 & ! a H*\n",
    "# > q\n",
    "# "
   ]
  },
  {
   "cell_type": "code",
   "execution_count": null,
   "metadata": {
    "scrolled": true
   },
   "outputs": [],
   "source": [
    "#  execute the genrestr module and give this newly created index group \n",
    "    #(which will be group 3 in the index_jz4.ndx file)\n",
    "\n",
    "! printf \"3\" | gmx genrestr -f ligand.gro -n index_ligand.ndx -o posre_jz4.itp -fc 1000 1000 1000"
   ]
  },
  {
   "cell_type": "code",
   "execution_count": null,
   "metadata": {
    "scrolled": true
   },
   "outputs": [],
   "source": [
    "# Now, we need to include this information in our topology. \n",
    "    #We can do this in several ways, depending upon the conditions we wish to use. \n",
    "    #If we simply want to restrain the ligand whenever the protein is also restrained, \n",
    "    #add the following lines to your topology in the location indicated\n"
   ]
  },
  {
   "cell_type": "code",
   "execution_count": null,
   "metadata": {
    "scrolled": true
   },
   "outputs": [],
   "source": [
    "; Include Position restraint file\n",
    "#ifdef POSRES\n",
    "#include \"posre.itp\"\n",
    "#endif\n",
    "\n",
    "; Include ligand topology\n",
    "#include \"jz4.itp\"\n",
    "\n",
    "--->; Ligand position restraints\n",
    "#ifdef POSRES\n",
    "#include \"posre_jz4.itp\"\n",
    "#endif\n",
    "\n",
    "; Include water topology\n",
    "#include \"./charmm36-mar2019.ff/tip3p.itp\""
   ]
  },
  {
   "cell_type": "markdown",
   "metadata": {},
   "source": [
    "##### Thermostats"
   ]
  },
  {
   "cell_type": "code",
   "execution_count": null,
   "metadata": {
    "scrolled": true
   },
   "outputs": [],
   "source": [
    "# Run in terminal\n",
    "# create an index which contain protein and ligand for the purpose of thermostats\n",
    "    # this is for temperature coupling \n",
    "    # check temperature coupling groups in nvt.mdp, npt.mdp and md.mdp files\n",
    "    # coupling should be between \"protein_ligand\" and \"other groups\"\n",
    "! gmx make_ndx -f em.gro -o protein_ligand.ndx\n",
    "# > 1 | 13\n",
    "# > q\n"
   ]
  },
  {
   "cell_type": "markdown",
   "metadata": {},
   "source": [
    "#### NVT equilibration and temperature graph"
   ]
  },
  {
   "cell_type": "code",
   "execution_count": null,
   "metadata": {
    "scrolled": true
   },
   "outputs": [],
   "source": [
    "# check temperature coupling groups in mdp file\n",
    "! gmx grompp -f nvt.mdp -c em.gro -r em.gro -p topol.top -n protein_ligand.ndx -o nvt.tpr"
   ]
  },
  {
   "cell_type": "code",
   "execution_count": null,
   "metadata": {
    "scrolled": true
   },
   "outputs": [],
   "source": [
    " ! gmx mdrun -v -deffnm nvt -nt 8"
   ]
  },
  {
   "cell_type": "code",
   "execution_count": null,
   "metadata": {
    "scrolled": true
   },
   "outputs": [],
   "source": [
    "# energy graph after nvt\n",
    "! printf \"15\" | gmx energy -f nvt.edr -o temperature.xvg "
   ]
  },
  {
   "cell_type": "code",
   "execution_count": null,
   "metadata": {
    "scrolled": true
   },
   "outputs": [],
   "source": [
    "temperature = np.genfromtxt([i for i in open('temperature.xvg').read().splitlines() \n",
    "    if not i.startswith(('#','@'))]) \n",
    "\n",
    "plt.plot(*temperature.T)\n",
    "plt.xlabel('stop')\n",
    "plt.ylabel('temperature')"
   ]
  },
  {
   "cell_type": "markdown",
   "metadata": {},
   "source": [
    "##### 7. NPT equilibration, pressure and density graph"
   ]
  },
  {
   "cell_type": "code",
   "execution_count": null,
   "metadata": {
    "scrolled": true
   },
   "outputs": [],
   "source": [
    "# check temperature coupling groups in mdp file\n",
    "! gmx grompp -f npt.mdp -c nvt.gro -t nvt.cpt -r nvt.gro -p topol.top -n protein_ligand.ndx -o npt.tpr"
   ]
  },
  {
   "cell_type": "code",
   "execution_count": null,
   "metadata": {},
   "outputs": [],
   "source": [
    "! gmx mdrun -v -deffnm npt -nt 8"
   ]
  },
  {
   "cell_type": "code",
   "execution_count": null,
   "metadata": {
    "scrolled": true
   },
   "outputs": [],
   "source": [
    "! printf \"17\" | gmx energy -f npt.edr -o pressure.xvg "
   ]
  },
  {
   "cell_type": "code",
   "execution_count": null,
   "metadata": {
    "scrolled": true
   },
   "outputs": [],
   "source": [
    "pressure = np.genfromtxt([i for i in open('pressure.xvg').read().splitlines() \n",
    "    if not i.startswith(('#','@'))])\n",
    "\n",
    "plt.plot(*pressure.T)\n",
    "plt.xlabel('stop')\n",
    "plt.ylabel('pressure')"
   ]
  },
  {
   "cell_type": "code",
   "execution_count": null,
   "metadata": {
    "scrolled": true
   },
   "outputs": [],
   "source": [
    "! printf \"24\" | gmx energy -f npt.edr -o density.xvg "
   ]
  },
  {
   "cell_type": "code",
   "execution_count": null,
   "metadata": {
    "scrolled": true
   },
   "outputs": [],
   "source": [
    "density = np.genfromtxt([i for i in open('density.xvg').read().splitlines() \n",
    "    if not i.startswith(('#','@'))]) \n",
    "\n",
    "plt.plot(*density.T)\n",
    "plt.xlabel('stop')\n",
    "plt.ylabel('density')"
   ]
  },
  {
   "cell_type": "markdown",
   "metadata": {},
   "source": [
    "#### 8. Production MD"
   ]
  },
  {
   "cell_type": "code",
   "execution_count": null,
   "metadata": {
    "scrolled": false
   },
   "outputs": [],
   "source": [
    "# check temperature coupling groups in mdp file\n",
    "! gmx grompp -f md.mdp -c npt.gro -t npt.cpt -p topol.top -n protein_ligand.ndx -o md.tpr\n"
   ]
  },
  {
   "cell_type": "code",
   "execution_count": null,
   "metadata": {},
   "outputs": [],
   "source": [
    "! gmx mdrun -v -deffnm md\n",
    "# if md run is interruprted continue operation like previous command"
   ]
  },
  {
   "cell_type": "markdown",
   "metadata": {},
   "source": [
    "#### 9. Analysis"
   ]
  },
  {
   "cell_type": "markdown",
   "metadata": {},
   "source": [
    "#### Removing periodicities in the trajectories"
   ]
  },
  {
   "cell_type": "code",
   "execution_count": null,
   "metadata": {
    "scrolled": true
   },
   "outputs": [],
   "source": [
    "# correct trajectory of md\n",
    "# when prompted give 1,1 for protein only or 0,0 for System itself\n",
    "# change printf statement if you want\n",
    "\n",
    "! printf \"Protein \\n System \\n\" | gmx trjconv -s md.tpr -f md.xtc -o md_corrected.xtc -pbc mol -ur compact -center"
   ]
  },
  {
   "cell_type": "code",
   "execution_count": null,
   "metadata": {
    "scrolled": true
   },
   "outputs": [],
   "source": [
    "# For even smoother visualization, it may be beneficial to perform rotational and translational fitting. Execute trjconv as follows:\n",
    "# Choose \"Backbone\" to perform least-squares fitting to the protein backbone, and \"System\" for output. \n",
    "# change printf statement if you want\n",
    "\n",
    "! printf \"Backbone \\n System \\n\" | gmx trjconv -s md.tpr -f md_corrected.xtc -o md_fit.xtc -fit rot+trans"
   ]
  },
  {
   "cell_type": "markdown",
   "metadata": {},
   "source": [
    "#### RMSD, RMSF, Gyrate, HBonds"
   ]
  },
  {
   "cell_type": "code",
   "execution_count": null,
   "metadata": {
    "scrolled": true
   },
   "outputs": [],
   "source": [
    "# RMSD: Root Mean Square Deviation\n",
    "# Enter what w.r.t what\n",
    "# change printf statement\n",
    "# when prompted give 4,4 for Backbone\n",
    "\n",
    "! printf \"Backbone \\n Backbone \\n\" | gmx rms -s md.tpr -f md_corrected.xtc -o rmsd.xvg\n",
    "\n",
    "xvg_file = np.genfromtxt([i for i in open(\"rmsd.xvg\").read().splitlines() \n",
    "    if not i.startswith(('#','@'))]) \n",
    "plt.plot(*xvg_file.T)"
   ]
  },
  {
   "cell_type": "code",
   "execution_count": null,
   "metadata": {
    "scrolled": true
   },
   "outputs": [],
   "source": [
    "# RMSF: Root Mean Square Fluctuation\n",
    "# Enter what w.r.t what\n",
    "# change printf statement\n",
    "# when prompted give 3,3 for C-alpha\n",
    "\n",
    "! printf \"C-alpha \\n C-alpha \\n\" | gmx rmsf -s md.tpr -f md_corrected.xtc -o rmsf.xvg -res \n",
    "\n",
    "xvg_file = np.genfromtxt([i for i in open(\"rmsf.xvg\").read().splitlines() \n",
    "    if not i.startswith(('#','@'))]) \n",
    "plt.plot(*xvg_file.T)"
   ]
  },
  {
   "cell_type": "code",
   "execution_count": null,
   "metadata": {
    "scrolled": true
   },
   "outputs": [],
   "source": [
    "# Gyrate: Radius of Gyration\n",
    "# when prompted give 1,1 for Protein \n",
    "\n",
    "! printf \"Protein \\n Protein \\n\" | gmx gyrate -s md_corrected.xtc -f md_corrected.xtc -o gyration.xvg\n",
    "\n",
    "xvg_file = np.genfromtxt([i for i in open(\"gyration.xvg\").read().splitlines() \n",
    "    if not i.startswith(('#','@'))]) \n",
    "plt.plot(*xvg_file.T)"
   ]
  },
  {
   "cell_type": "code",
   "execution_count": null,
   "metadata": {
    "scrolled": true
   },
   "outputs": [],
   "source": [
    "# hbonds: Hydrogen Bonds\n",
    "# Enter what w.r.t what\n",
    "# change printf statement\n",
    "# when prompted give 1,1 for Protein\n",
    "\n",
    "! printf \"Protein \\n Protein \\n\" | gmx hbond -s md.tpr -f md_corrected.xtc -num hbond.xvg\n",
    "\n",
    "xvg_file = np.genfromtxt([i for i in open(\"hbond.xvg\").read().splitlines() \n",
    "    if not i.startswith(('#','@'))]) \n",
    "plt.plot(*xvg_file.T)"
   ]
  },
  {
   "cell_type": "code",
   "execution_count": null,
   "metadata": {
    "scrolled": true
   },
   "outputs": [],
   "source": []
  }
 ],
 "metadata": {
  "interpreter": {
   "hash": "71aecfd13c06d9860e97006eb09fbdbed6c053b19fa8fb509513eff45f012d82"
  },
  "kernelspec": {
   "display_name": "Python 3",
   "language": "python",
   "name": "python3"
  },
  "language_info": {
   "codemirror_mode": {
    "name": "ipython",
    "version": 3
   },
   "file_extension": ".py",
   "mimetype": "text/x-python",
   "name": "python",
   "nbconvert_exporter": "python",
   "pygments_lexer": "ipython3",
   "version": "3.8.8"
  }
 },
 "nbformat": 4,
 "nbformat_minor": 2
}
