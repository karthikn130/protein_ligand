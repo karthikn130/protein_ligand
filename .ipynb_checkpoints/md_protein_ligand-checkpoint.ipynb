{
 "cells": [
  {
   "cell_type": "markdown",
   "metadata": {},
   "source": [
    "#### Start"
   ]
  },
  {
   "cell_type": "markdown",
   "metadata": {},
   "source": [
    "#### Required imports for analysis part"
   ]
  },
  {
   "cell_type": "code",
   "execution_count": null,
   "metadata": {
    "scrolled": false
   },
   "outputs": [],
   "source": [
    "import matplotlib as mpl\n",
    "import matplotlib.pyplot as plt\n",
    "import numpy as np"
   ]
  },
  {
   "cell_type": "code",
   "execution_count": 5,
   "metadata": {
    "scrolled": false
   },
   "outputs": [
    {
     "ename": "ModuleNotFoundError",
     "evalue": "No module named 'nglview'",
     "output_type": "error",
     "traceback": [
      "\u001b[0;31m---------------------------------------------------------------------------\u001b[0m",
      "\u001b[0;31mModuleNotFoundError\u001b[0m                       Traceback (most recent call last)",
      "\u001b[0;32m<ipython-input-5-cb68b64d2924>\u001b[0m in \u001b[0;36m<module>\u001b[0;34m\u001b[0m\n\u001b[1;32m      1\u001b[0m \u001b[0;32mimport\u001b[0m \u001b[0mpytraj\u001b[0m \u001b[0;32mas\u001b[0m \u001b[0mpt\u001b[0m\u001b[0;34m\u001b[0m\u001b[0;34m\u001b[0m\u001b[0m\n\u001b[0;32m----> 2\u001b[0;31m \u001b[0;32mimport\u001b[0m \u001b[0mnglview\u001b[0m \u001b[0;32mas\u001b[0m \u001b[0mnv\u001b[0m\u001b[0;34m\u001b[0m\u001b[0;34m\u001b[0m\u001b[0m\n\u001b[0m",
      "\u001b[0;31mModuleNotFoundError\u001b[0m: No module named 'nglview'"
     ]
    }
   ],
   "source": [
    "import pytraj as pt\n",
    "import nglview as nv"
   ]
  },
  {
   "cell_type": "markdown",
   "metadata": {},
   "source": [
    "#### Create ligand pdb"
   ]
  },
  {
   "cell_type": "code",
   "execution_count": 3,
   "metadata": {
    "scrolled": false
   },
   "outputs": [],
   "source": [
    "# separates ligand from protein ligand complex and create ligand.pdb file\n",
    "# change the ligand name wherever needed\n",
    "ligand = \"JZ4\"\n",
    "! grep $ligand protein.pdb > ligand.pdb"
   ]
  },
  {
   "cell_type": "markdown",
   "metadata": {},
   "source": [
    "#### Remove waters and non-standard residues"
   ]
  },
  {
   "cell_type": "code",
   "execution_count": 2,
   "metadata": {
    "scrolled": false
   },
   "outputs": [],
   "source": [
    "# pdb2gmx takes only protein file containing standard amino acid residues,\n",
    "    # so check the protein file should contain only standard residues\n",
    "! grep -v HETATM protein.pdb > protein_processed.pdb"
   ]
  },
  {
   "cell_type": "markdown",
   "metadata": {},
   "source": [
    "#### 1. Protein topology"
   ]
  },
  {
   "cell_type": "code",
   "execution_count": 3,
   "metadata": {
    "scrolled": true
   },
   "outputs": [
    {
     "name": "stdout",
     "output_type": "stream",
     "text": [
      "                     :-) GROMACS - gmx pdb2gmx, 2021.2 (-:\n",
      "\n",
      "                            GROMACS is written by:\n",
      "     Andrey Alekseenko              Emile Apol              Rossen Apostolov     \n",
      "         Paul Bauer           Herman J.C. Berendsen           Par Bjelkmar       \n",
      "       Christian Blau           Viacheslav Bolnykh             Kevin Boyd        \n",
      "     Aldert van Buuren           Rudi van Drunen             Anton Feenstra      \n",
      "    Gilles Gouaillardet             Alan Gray               Gerrit Groenhof      \n",
      "       Anca Hamuraru            Vincent Hindriksen          M. Eric Irrgang      \n",
      "      Aleksei Iupinov           Christoph Junghans             Joe Jordan        \n",
      "    Dimitrios Karkoulis            Peter Kasson                Jiri Kraus        \n",
      "      Carsten Kutzner              Per Larsson              Justin A. Lemkul     \n",
      "       Viveca Lindahl            Magnus Lundborg             Erik Marklund       \n",
      "        Pascal Merz             Pieter Meulenhoff            Teemu Murtola       \n",
      "        Szilard Pall               Sander Pronk              Roland Schulz       \n",
      "       Michael Shirts            Alexey Shvetsov             Alfons Sijbers      \n",
      "       Peter Tieleman              Jon Vincent              Teemu Virolainen     \n",
      "     Christian Wennberg            Maarten Wolf              Artem Zhmurov       \n",
      "                           and the project leaders:\n",
      "        Mark Abraham, Berk Hess, Erik Lindahl, and David van der Spoel\n",
      "\n",
      "Copyright (c) 1991-2000, University of Groningen, The Netherlands.\n",
      "Copyright (c) 2001-2019, The GROMACS development team at\n",
      "Uppsala University, Stockholm University and\n",
      "the Royal Institute of Technology, Sweden.\n",
      "check out http://www.gromacs.org for more information.\n",
      "\n",
      "GROMACS is free software; you can redistribute it and/or modify it\n",
      "under the terms of the GNU Lesser General Public License\n",
      "as published by the Free Software Foundation; either version 2.1\n",
      "of the License, or (at your option) any later version.\n",
      "\n",
      "GROMACS:      gmx pdb2gmx, version 2021.2\n",
      "Executable:   /usr/local/gromacs/bin/gmx\n",
      "Data prefix:  /usr/local/gromacs\n",
      "Working dir:  /home/karthi/python_documents/md_notebook_copy1\n",
      "Command line:\n",
      "  gmx pdb2gmx -f protein_processed.pdb -o protein_processed.gro -water spc\n",
      "\n",
      "Select the Force Field:\n",
      "\n",
      "From current directory:\n",
      "\n",
      " 1: CHARMM36 all-atom force field (July 2020)\n",
      "\n",
      "From '/usr/local/gromacs/share/gromacs/top':\n",
      "\n",
      " 2: AMBER03 protein, nucleic AMBER94 (Duan et al., J. Comp. Chem. 24, 1999-2012, 2003)\n",
      "\n",
      " 3: AMBER94 force field (Cornell et al., JACS 117, 5179-5197, 1995)\n",
      "\n",
      " 4: AMBER96 protein, nucleic AMBER94 (Kollman et al., Acc. Chem. Res. 29, 461-469, 1996)\n",
      "\n",
      " 5: AMBER99 protein, nucleic AMBER94 (Wang et al., J. Comp. Chem. 21, 1049-1074, 2000)\n",
      "\n",
      " 6: AMBER99SB protein, nucleic AMBER94 (Hornak et al., Proteins 65, 712-725, 2006)\n",
      "\n",
      " 7: AMBER99SB-ILDN protein, nucleic AMBER94 (Lindorff-Larsen et al., Proteins 78, 1950-58, 2010)\n",
      "\n",
      " 8: AMBERGS force field (Garcia & Sanbonmatsu, PNAS 99, 2782-2787, 2002)\n",
      "\n",
      " 9: CHARMM27 all-atom force field (CHARM22 plus CMAP for proteins)\n",
      "\n",
      "10: GROMOS96 43a1 force field\n",
      "\n",
      "11: GROMOS96 43a2 force field (improved alkane dihedrals)\n",
      "\n",
      "12: GROMOS96 45a3 force field (Schuler JCC 2001 22 1205)\n",
      "\n",
      "13: GROMOS96 53a5 force field (JCC 2004 vol 25 pag 1656)\n",
      "\n",
      "14: GROMOS96 53a6 force field (JCC 2004 vol 25 pag 1656)\n",
      "\n",
      "15: GROMOS96 54a7 force field (Eur. Biophys. J. (2011), 40,, 843-856, DOI: 10.1007/s00249-011-0700-9)\n",
      "\n",
      "16: OPLS-AA/L all-atom force field (2001 aminoacid dihedrals)\n",
      "\n",
      "Using the Charmm36-feb2021 force field in directory ./charmm36-feb2021.ff\n",
      "\n",
      "going to rename ./charmm36-feb2021.ff/merged.r2b\n",
      "Opening force field file ./charmm36-feb2021.ff/merged.r2b\n",
      "Reading protein_processed.pdb...\n",
      "WARNING: all CONECT records are ignored\n",
      "Read 'LYSOZYME', 1364 atoms\n",
      "\n",
      "Analyzing pdb file\n",
      "Splitting chemical chains based on TER records or chain id changing.\n",
      "\n",
      "There are 1 chains and 0 blocks of water and 163 residues with 1364 atoms\n",
      "\n",
      "  chain  #res #atoms\n",
      "\n",
      "  1 'A'   163   1364  \n",
      "\n",
      "there were 0 atoms with zero occupancy and 178 atoms with          occupancy unequal to one (out of 1364 atoms). Check your pdb file.\n",
      "there were 0 atoms with zero occupancy and 178 atoms with          occupancy unequal to one (out of 1364 atoms). Check your pdb file.\n",
      "Opening force field file ./charmm36-feb2021.ff/atomtypes.atp\n",
      "\n",
      "Reading residue database... (Charmm36-feb2021)\n",
      "Opening force field file ./charmm36-feb2021.ff/merged.rtp\n",
      "Opening force field file ./charmm36-feb2021.ff/merged.hdb\n",
      "Opening force field file ./charmm36-feb2021.ff/merged.n.tdb\n",
      "Opening force field file ./charmm36-feb2021.ff/merged.c.tdb\n",
      "\n",
      "Processing chain 1 'A' (1364 atoms, 163 residues)\n",
      "Analysing hydrogen-bonding network for automated assignment of histidine\n",
      " protonation. 273 donors and 248 acceptors were found.\n",
      "There are 347 hydrogen bonds\n",
      "Will use HISD for residue 31\n",
      "\n",
      "Identified residue MET1 as a starting terminus.\n",
      "\n",
      "Identified residue ASN163 as a ending terminus.\n",
      "8 out of 8 lines of specbond.dat converted successfully\n",
      "Special Atom Distance matrix:\n",
      "                    MET1    MET6   HIS31   CYS54   CYS97  MET106\n",
      "                    SD10    SD56  NE2276   SG446   SG808   SD883\n",
      "    MET6    SD56   0.631\n",
      "   HIS31  NE2276   2.196   1.931\n",
      "   CYS54   SG446   2.781   2.718   1.052\n",
      "   CYS97   SG808   0.820   0.539   2.117   2.897\n",
      "  MET106   SD883   1.900   1.314   1.848   2.841   1.635\n",
      "  MET120   SD982   2.525   2.014   3.286   4.293   2.112   1.520\n",
      "Start terminus MET-1: NH3+\n",
      "End terminus ASN-163: COO-\n",
      "Opening force field file ./charmm36-feb2021.ff/merged.arn\n",
      "\n",
      "Checking for duplicate atoms....\n",
      "\n",
      "Now there are 1300 atoms. Deleted 64 duplicates.\n",
      "\n",
      "Generating any missing hydrogen atoms and/or adding termini.\n",
      "\n",
      "Now there are 163 residues with 2614 atoms\n",
      "\n",
      "Making bonds...\n",
      "\n",
      "Number of bonds was 2634, now 2634\n",
      "\n",
      "Generating angles, dihedrals and pairs...\n",
      "Before cleaning: 6889 pairs\n",
      "Before cleaning: 6924 dihedrals\n",
      "Keeping all generated dihedrals\n",
      "\n",
      "Making cmap torsions...\n",
      "\n",
      "There are  161 cmap torsion pairs\n",
      "\n",
      "There are 6924 dihedrals,  458 impropers, 4751 angles\n",
      "          6847 pairs,     2634 bonds and     0 virtual sites\n",
      "\n",
      "Total mass 18512.245 a.m.u.\n",
      "\n",
      "Total charge 6.000 e\n",
      "\n",
      "Writing topology\n",
      "\n",
      "Writing coordinate file...\n",
      "\n",
      "\t\t--------- PLEASE NOTE ------------\n",
      "\n",
      "You have successfully generated a topology from: protein_processed.pdb.\n",
      "\n",
      "The Charmm36-feb2021 force field and the spc water model are used.\n",
      "\n",
      "\t\t--------- ETON ESAELP ------------\n",
      "\n",
      "GROMACS reminds you: \"Creativity in science, as in art, cannot be organized. It arises spontaneously from individual talent. Well-run laboratories can foster it, but hierarchical organizations, inflexible bureaucratic rules, and mountains of futile paperwork can kill it.\" (Max Perutz)\n",
      "\n"
     ]
    }
   ],
   "source": [
    "# this command prepares protein topology file\n",
    "! printf \"1\" | gmx pdb2gmx -f protein_processed.pdb -o protein_processed.gro -water spc"
   ]
  },
  {
   "cell_type": "code",
   "execution_count": 4,
   "metadata": {
    "scrolled": false
   },
   "outputs": [
    {
     "name": "stdout",
     "output_type": "stream",
     "text": [
      "; Include topology for ions\r\n",
      "#include \"./charmm36-feb2021.ff/ions.itp\"\r\n",
      "\r\n",
      "[ system ]\r\n",
      "; Name\r\n",
      "LYSOZYME\r\n",
      "\r\n",
      "[ molecules ]\r\n",
      "; Compound        #mols\r\n",
      "Protein_chain_A     1\r\n"
     ]
    }
   ],
   "source": [
    "! tail topol.top"
   ]
  },
  {
   "cell_type": "markdown",
   "metadata": {},
   "source": [
    "#### 2. Ligand tolpology"
   ]
  },
  {
   "cell_type": "code",
   "execution_count": 5,
   "metadata": {
    "scrolled": false
   },
   "outputs": [
    {
     "name": "stdout",
     "output_type": "stream",
     "text": [
      "1 molecule converted\r\n"
     ]
    }
   ],
   "source": [
    "# for ligand toplogy\n",
    "# 1. convert to mol2 file\n",
    "# 2. The first change that needs to be made is in the MOLECULE heading. \n",
    "#   Replace \"*****\" with ligand name eg.\n",
    "#   @<TRIPOS>MOLECULE\n",
    "#   JZ4\n",
    "# 3. change number before ligand column to \"1\"\n",
    "! obabel ligand.pdb -O ligand.mol2 -h"
   ]
  },
  {
   "cell_type": "code",
   "execution_count": 6,
   "metadata": {
    "scrolled": false
   },
   "outputs": [
    {
     "name": "stdout",
     "output_type": "stream",
     "text": [
      "Found 22 atoms in the molecule, with 22 bonds.\r\n"
     ]
    }
   ],
   "source": [
    "# 4. fix bond order with perl script\n",
    "! perl sort_mol2_bonds.pl ligand.mol2 ligand_fix.mol2"
   ]
  },
  {
   "cell_type": "code",
   "execution_count": 7,
   "metadata": {
    "scrolled": false
   },
   "outputs": [
    {
     "name": "stdout",
     "output_type": "stream",
     "text": [
      "NOTE 1: Code tested with Python 3.5.2 and 3.7.3. Your version: 3.8.8 (default, Apr 13 2021, 19:58:26) \n",
      "[GCC 7.3.0]\n",
      "\n",
      "NOTE 2: Code tested with NetworkX 2.3. Your version: 2.3\n",
      "\n",
      "NOTE 3: Please be sure to use the same version of CGenFF in your simulations that was used during parameter generation:\n",
      "--Version of CGenFF detected in  jz4.str : 3.0.1\n",
      "--Version of CGenFF detected in  charmm36-feb2021.ff//forcefield.doc : 4.4\n",
      "\n",
      "WARNING: CGenFF versions are not equivalent!\n",
      "\n",
      "\n",
      "NOTE 4: To avoid duplicated parameters, do NOT select the 'Include parameters that are already in CGenFF' option when uploading a molecule into CGenFF.\n",
      "============ DONE ============\n",
      "Conversion complete.\n",
      "The molecule topology has been written to jz4.itp\n",
      "Additional parameters needed by the molecule are written to jz4.prm, which needs to be included in the system .top\n",
      "\n",
      "PLEASE NOTE: If your topology has lone pairs, you must use GROMACS version 2020 or newer to use 2fd construction\n",
      "Older GROMACS versions WILL NOT WORK as they do not support 2fd virtual site construction\n",
      "\n",
      "============ DONE ============\n"
     ]
    }
   ],
   "source": [
    "\n",
    "# 5. goto cgenFF website and upload the previous mol2 file and get the corresponding .str file. \n",
    "    #(cgenFF website is used only if CHARMM36 Forcefield is used)\n",
    "    #The CHARMM stream file contains all of the topology information - atom types,charges, and bonded connectivity.\n",
    "# Examine the contents of .str and look at the penalties for the charges and the new dihedral parameters. \n",
    "    #All of them are very low, suggesting that this topology is of very good quality \n",
    "        #and can be used directly for our simulation.\n",
    "\n",
    "# 6. Use the cgenff_charmm2gmx.py script that downloaded from the MacKerell website.    \n",
    "#       The script name will include the version, _py2 or _py3, \n",
    "#       python3.6.0 used with networkx 2.3\n",
    "#       python2.7 used with networkx 1.1\n",
    "# 7. set python interpreter to 3.6.0 very important\n",
    "# if not works then run in terminal\n",
    "# Enter ligand id in below command - important\n",
    "\n",
    "! python3 cgenff_charmm2gmx_py3_nx2.py JZ4 ligand_fix.mol2 jz4.str charmm36-feb2021.ff/"
   ]
  },
  {
   "cell_type": "markdown",
   "metadata": {},
   "source": [
    "#### Build the Complex"
   ]
  },
  {
   "cell_type": "code",
   "execution_count": 8,
   "metadata": {
    "scrolled": false
   },
   "outputs": [
    {
     "name": "stdout",
     "output_type": "stream",
     "text": [
      "                     :-) GROMACS - gmx editconf, 2021.2 (-:\r\n",
      "\r\n",
      "                            GROMACS is written by:\r\n",
      "     Andrey Alekseenko              Emile Apol              Rossen Apostolov     \r\n",
      "         Paul Bauer           Herman J.C. Berendsen           Par Bjelkmar       \r\n",
      "       Christian Blau           Viacheslav Bolnykh             Kevin Boyd        \r\n",
      "     Aldert van Buuren           Rudi van Drunen             Anton Feenstra      \r\n",
      "    Gilles Gouaillardet             Alan Gray               Gerrit Groenhof      \r\n",
      "       Anca Hamuraru            Vincent Hindriksen          M. Eric Irrgang      \r\n",
      "      Aleksei Iupinov           Christoph Junghans             Joe Jordan        \r\n",
      "    Dimitrios Karkoulis            Peter Kasson                Jiri Kraus        \r\n",
      "      Carsten Kutzner              Per Larsson              Justin A. Lemkul     \r\n",
      "       Viveca Lindahl            Magnus Lundborg             Erik Marklund       \r\n",
      "        Pascal Merz             Pieter Meulenhoff            Teemu Murtola       \r\n",
      "        Szilard Pall               Sander Pronk              Roland Schulz       \r\n",
      "       Michael Shirts            Alexey Shvetsov             Alfons Sijbers      \r\n",
      "       Peter Tieleman              Jon Vincent              Teemu Virolainen     \r\n",
      "     Christian Wennberg            Maarten Wolf              Artem Zhmurov       \r\n",
      "                           and the project leaders:\r\n",
      "        Mark Abraham, Berk Hess, Erik Lindahl, and David van der Spoel\r\n",
      "\r\n",
      "Copyright (c) 1991-2000, University of Groningen, The Netherlands.\r\n",
      "Copyright (c) 2001-2019, The GROMACS development team at\r\n",
      "Uppsala University, Stockholm University and\r\n",
      "the Royal Institute of Technology, Sweden.\r\n",
      "check out http://www.gromacs.org for more information.\r\n",
      "\r\n",
      "GROMACS is free software; you can redistribute it and/or modify it\r\n",
      "under the terms of the GNU Lesser General Public License\r\n",
      "as published by the Free Software Foundation; either version 2.1\r\n",
      "of the License, or (at your option) any later version.\r\n",
      "\r\n",
      "GROMACS:      gmx editconf, version 2021.2\r\n",
      "Executable:   /usr/local/gromacs/bin/gmx\r\n",
      "Data prefix:  /usr/local/gromacs\r\n",
      "Working dir:  /home/karthi/python_documents/md_notebook_copy1\r\n",
      "Command line:\r\n",
      "  gmx editconf -f jz4_ini.pdb -o ligand.gro\r\n",
      "\r\n",
      "Note that major changes are planned in future for editconf, to improve usability and utility.\r\n",
      "Read 22 atoms\r\n",
      "No velocities found\r\n",
      "\r\n",
      "GROMACS reminds you: \"We all understand the twinge of discomfort at the thought that we share a common ancestor with the apes. No one can embarrass you like a relative.\" (Neal DeGrasse Tyson)\r\n",
      "\r\n"
     ]
    }
   ],
   "source": [
    "# this command creates ligand .gro file\n",
    "# We have \"jz4_ini.pdb\" from cgenff_charmm2gmx.py that has all of the necessary H atoms \n",
    "    #and matches the atom names in the ligand topology. Convert this .pdb file to .gro format with editconf\n",
    "# check the input file name in below command - important\n",
    "! gmx editconf -f jz4_ini.pdb -o ligand.gro"
   ]
  },
  {
   "cell_type": "code",
   "execution_count": null,
   "metadata": {
    "scrolled": false
   },
   "outputs": [],
   "source": [
    "# now we have .gro files for protein and ligand so combine them into one file\n",
    "\n",
    "# Copy protein_processed.gro to a new file \"complex.gro,\"\n",
    "# Next, copy jz4.gro and paste it into \"complex.gro\", below the last line of the protein atoms, \n",
    "    #and before the box vectors \n",
    "# 5.99500   5.19182   9.66100   0.00000   0.00000  -2.99750   0.00000   0.00000   0.00000\n",
    "# increment the second line of complex.gro and add number of ligand atoms to reflect this change."
   ]
  },
  {
   "cell_type": "markdown",
   "metadata": {},
   "source": [
    "#### Build the Topology\n"
   ]
  },
  {
   "cell_type": "code",
   "execution_count": null,
   "metadata": {
    "scrolled": false
   },
   "outputs": [],
   "source": [
    "# 1. insert a line #include \"jz4.itp\" into topol.top after the position restraint file is included. \n",
    "#    The inclusion of position restraints indicates the end of the \"Protein\" moleculetype section.\n",
    "# 2. The ligand introduces new dihedral parameters, which were written to \"jz4.prm\" by the cgenff_charmm2gmx.py script\n",
    "    #so At the TOP of topol.top, insert an #include \"jz4.prm\" statement,\n",
    "    #after #include \"./charmm36-mar2019.ff/forcefield.itp\" forcefield parameters\n",
    "# 3. The last adjustment to be made is in the [ molecules ] directive. \n",
    "    #To account for the fact that there is a new molecule in complex.gro, we have to add it here, like so:\n",
    "#    JZ4        1\n",
    "\n",
    "# The topology and coordinate file are now in agreement with respect to the contents of the system."
   ]
  },
  {
   "cell_type": "markdown",
   "metadata": {},
   "source": [
    "#### 3. Defining the Unit Cell & Adding Solvent"
   ]
  },
  {
   "cell_type": "code",
   "execution_count": 9,
   "metadata": {
    "scrolled": true
   },
   "outputs": [
    {
     "name": "stdout",
     "output_type": "stream",
     "text": [
      "                     :-) GROMACS - gmx editconf, 2021.2 (-:\n",
      "\n",
      "                            GROMACS is written by:\n",
      "     Andrey Alekseenko              Emile Apol              Rossen Apostolov     \n",
      "         Paul Bauer           Herman J.C. Berendsen           Par Bjelkmar       \n",
      "       Christian Blau           Viacheslav Bolnykh             Kevin Boyd        \n",
      "     Aldert van Buuren           Rudi van Drunen             Anton Feenstra      \n",
      "    Gilles Gouaillardet             Alan Gray               Gerrit Groenhof      \n",
      "       Anca Hamuraru            Vincent Hindriksen          M. Eric Irrgang      \n",
      "      Aleksei Iupinov           Christoph Junghans             Joe Jordan        \n",
      "    Dimitrios Karkoulis            Peter Kasson                Jiri Kraus        \n",
      "      Carsten Kutzner              Per Larsson              Justin A. Lemkul     \n",
      "       Viveca Lindahl            Magnus Lundborg             Erik Marklund       \n",
      "        Pascal Merz             Pieter Meulenhoff            Teemu Murtola       \n",
      "        Szilard Pall               Sander Pronk              Roland Schulz       \n",
      "       Michael Shirts            Alexey Shvetsov             Alfons Sijbers      \n",
      "       Peter Tieleman              Jon Vincent              Teemu Virolainen     \n",
      "     Christian Wennberg            Maarten Wolf              Artem Zhmurov       \n",
      "                           and the project leaders:\n",
      "        Mark Abraham, Berk Hess, Erik Lindahl, and David van der Spoel\n",
      "\n",
      "Copyright (c) 1991-2000, University of Groningen, The Netherlands.\n",
      "Copyright (c) 2001-2019, The GROMACS development team at\n",
      "Uppsala University, Stockholm University and\n",
      "the Royal Institute of Technology, Sweden.\n",
      "check out http://www.gromacs.org for more information.\n",
      "\n",
      "GROMACS is free software; you can redistribute it and/or modify it\n",
      "under the terms of the GNU Lesser General Public License\n",
      "as published by the Free Software Foundation; either version 2.1\n",
      "of the License, or (at your option) any later version.\n",
      "\n",
      "GROMACS:      gmx editconf, version 2021.2\n",
      "Executable:   /usr/local/gromacs/bin/gmx\n",
      "Data prefix:  /usr/local/gromacs\n",
      "Working dir:  /home/karthi/python_documents/md_notebook_copy1\n",
      "Command line:\n",
      "  gmx editconf -f complex.gro -o complex_box.gro -bt dodecahedron -d 1.0\n",
      "\n",
      "Note that major changes are planned in future for editconf, to improve usability and utility.\n",
      "Read 2636 atoms\n",
      "Volume: 300.698 nm^3, corresponds to roughly 135300 electrons\n",
      "No velocities found\n",
      "    system size :  4.069  4.192  5.073 (nm)\n",
      "    diameter    :  5.849               (nm)\n",
      "    center      :  2.241 -1.669 -0.935 (nm)\n",
      "    box vectors :  5.995  5.995  9.661 (nm)\n",
      "    box angles  :  90.00  90.00 120.00 (degrees)\n",
      "    box volume  : 300.70               (nm^3)\n",
      "    shift       :  3.646  7.556  3.710 (nm)\n",
      "new center      :  5.887  5.887  2.775 (nm)\n",
      "new box vectors :  7.849  7.849  7.849 (nm)\n",
      "new box angles  :  60.00  60.00  90.00 (degrees)\n",
      "new box volume  : 341.95               (nm^3)\n",
      "\n",
      "GROMACS reminds you: \"If you know you are on the right track, if you have this inner knowledge, then nobody can turn you off... no matter what they say.\" (Barbara McClintock)\n",
      "\n",
      "                     :-) GROMACS - gmx solvate, 2021.2 (-:\n",
      "\n",
      "                            GROMACS is written by:\n",
      "     Andrey Alekseenko              Emile Apol              Rossen Apostolov     \n",
      "         Paul Bauer           Herman J.C. Berendsen           Par Bjelkmar       \n",
      "       Christian Blau           Viacheslav Bolnykh             Kevin Boyd        \n",
      "     Aldert van Buuren           Rudi van Drunen             Anton Feenstra      \n",
      "    Gilles Gouaillardet             Alan Gray               Gerrit Groenhof      \n",
      "       Anca Hamuraru            Vincent Hindriksen          M. Eric Irrgang      \n",
      "      Aleksei Iupinov           Christoph Junghans             Joe Jordan        \n",
      "    Dimitrios Karkoulis            Peter Kasson                Jiri Kraus        \n",
      "      Carsten Kutzner              Per Larsson              Justin A. Lemkul     \n",
      "       Viveca Lindahl            Magnus Lundborg             Erik Marklund       \n",
      "        Pascal Merz             Pieter Meulenhoff            Teemu Murtola       \n",
      "        Szilard Pall               Sander Pronk              Roland Schulz       \n",
      "       Michael Shirts            Alexey Shvetsov             Alfons Sijbers      \n",
      "       Peter Tieleman              Jon Vincent              Teemu Virolainen     \n",
      "     Christian Wennberg            Maarten Wolf              Artem Zhmurov       \n",
      "                           and the project leaders:\n",
      "        Mark Abraham, Berk Hess, Erik Lindahl, and David van der Spoel\n",
      "\n",
      "Copyright (c) 1991-2000, University of Groningen, The Netherlands.\n",
      "Copyright (c) 2001-2019, The GROMACS development team at\n",
      "Uppsala University, Stockholm University and\n",
      "the Royal Institute of Technology, Sweden.\n",
      "check out http://www.gromacs.org for more information.\n",
      "\n",
      "GROMACS is free software; you can redistribute it and/or modify it\n",
      "under the terms of the GNU Lesser General Public License\n",
      "as published by the Free Software Foundation; either version 2.1\n",
      "of the License, or (at your option) any later version.\n",
      "\n",
      "GROMACS:      gmx solvate, version 2021.2\n",
      "Executable:   /usr/local/gromacs/bin/gmx\n",
      "Data prefix:  /usr/local/gromacs\n",
      "Working dir:  /home/karthi/python_documents/md_notebook_copy1\n",
      "Command line:\n",
      "  gmx solvate -cp complex_box.gro -cs spc216.gro -p topol.top -o complex_solv.gro\n",
      "\n",
      "Reading solute configuration\n",
      "Reading solvent configuration\n",
      "\n",
      "Initialising inter-atomic distances...\n",
      "\n",
      "WARNING: Masses and atomic (Van der Waals) radii will be guessed\n",
      "         based on residue and atom names, since they could not be\n",
      "         definitively assigned from the information in your input\n",
      "         files. These guessed numbers might deviate from the mass\n",
      "         and radius of the atom type. Please check the output\n",
      "         files if necessary.\n",
      "\n",
      "NOTE: From version 5.0 gmx solvate uses the Van der Waals radii\n",
      "from the source below. This means the results may be different\n",
      "compared to previous GROMACS versions.\n",
      "\n",
      "++++ PLEASE READ AND CITE THE FOLLOWING REFERENCE ++++\n",
      "A. Bondi\n",
      "van der Waals Volumes and Radii\n",
      "J. Phys. Chem. 68 (1964) pp. 441-451\n",
      "-------- -------- --- Thank You --- -------- --------\n",
      "\n",
      "Generating solvent configuration\n",
      "Will generate new solvent configuration of 5x5x3 boxes\n",
      "Solvent box contains 37314 atoms in 12438 residues\n",
      "Removed 3990 solvent atoms due to solvent-solvent overlap\n",
      "Removed 2442 solvent atoms due to solute-solvent overlap\n",
      "Sorting configuration\n",
      "Found 1 molecule type:\n",
      "    SOL (   3 atoms): 10294 residues\n",
      "Generated solvent containing 30882 atoms in 10294 residues\n",
      "Writing generated configuration to complex_solv.gro\n",
      "\n",
      "Output configuration contains 33518 atoms in 10458 residues\n",
      "Volume                 :     341.949 (nm^3)\n",
      "Density                :      997.43 (g/l)\n",
      "Number of solvent molecules:  10294   \n",
      "\n",
      "Processing topology\n",
      "Adding line for 10294 solvent molecules with resname (SOL) to topology file (topol.top)\n",
      "\n",
      "Back Off! I just backed up topol.top to ./#topol.top.1#\n",
      "\n",
      "GROMACS reminds you: \"The scientific method is an integral part of human intelligence, and when it has once been set at work it can only be dismissed by dismissing the intelligence itself\" (George H. Mead)\n",
      "\n"
     ]
    }
   ],
   "source": [
    "# c- center, d-distance from box edge, bt-box type\n",
    "! gmx editconf -f complex.gro -o complex_box.gro -bt dodecahedron -d 1.0\n",
    "\n",
    "! gmx solvate -cp complex_box.gro -cs spc216.gro -p topol.top -o complex_solv.gro\n",
    "\n",
    "# if you want you can visualize complex_solv.gro\n"
   ]
  },
  {
   "cell_type": "markdown",
   "metadata": {},
   "source": [
    "#### 4. Adding Ions"
   ]
  },
  {
   "cell_type": "code",
   "execution_count": 10,
   "metadata": {
    "scrolled": true
   },
   "outputs": [
    {
     "name": "stdout",
     "output_type": "stream",
     "text": [
      "                      :-) GROMACS - gmx grompp, 2021.2 (-:\n",
      "\n",
      "                            GROMACS is written by:\n",
      "     Andrey Alekseenko              Emile Apol              Rossen Apostolov     \n",
      "         Paul Bauer           Herman J.C. Berendsen           Par Bjelkmar       \n",
      "       Christian Blau           Viacheslav Bolnykh             Kevin Boyd        \n",
      "     Aldert van Buuren           Rudi van Drunen             Anton Feenstra      \n",
      "    Gilles Gouaillardet             Alan Gray               Gerrit Groenhof      \n",
      "       Anca Hamuraru            Vincent Hindriksen          M. Eric Irrgang      \n",
      "      Aleksei Iupinov           Christoph Junghans             Joe Jordan        \n",
      "    Dimitrios Karkoulis            Peter Kasson                Jiri Kraus        \n",
      "      Carsten Kutzner              Per Larsson              Justin A. Lemkul     \n",
      "       Viveca Lindahl            Magnus Lundborg             Erik Marklund       \n",
      "        Pascal Merz             Pieter Meulenhoff            Teemu Murtola       \n",
      "        Szilard Pall               Sander Pronk              Roland Schulz       \n",
      "       Michael Shirts            Alexey Shvetsov             Alfons Sijbers      \n",
      "       Peter Tieleman              Jon Vincent              Teemu Virolainen     \n",
      "     Christian Wennberg            Maarten Wolf              Artem Zhmurov       \n",
      "                           and the project leaders:\n",
      "        Mark Abraham, Berk Hess, Erik Lindahl, and David van der Spoel\n",
      "\n",
      "Copyright (c) 1991-2000, University of Groningen, The Netherlands.\n",
      "Copyright (c) 2001-2019, The GROMACS development team at\n",
      "Uppsala University, Stockholm University and\n",
      "the Royal Institute of Technology, Sweden.\n",
      "check out http://www.gromacs.org for more information.\n",
      "\n",
      "GROMACS is free software; you can redistribute it and/or modify it\n",
      "under the terms of the GNU Lesser General Public License\n",
      "as published by the Free Software Foundation; either version 2.1\n",
      "of the License, or (at your option) any later version.\n",
      "\n",
      "GROMACS:      gmx grompp, version 2021.2\n",
      "Executable:   /usr/local/gromacs/bin/gmx\n",
      "Data prefix:  /usr/local/gromacs\n",
      "Working dir:  /home/karthi/python_documents/md_notebook_copy1\n",
      "Command line:\n",
      "  gmx grompp -f ions.mdp -c complex_solv.gro -p topol.top -o ions.tpr\n",
      "\n",
      "Ignoring obsolete mdp entry 'title'\n",
      "Ignoring obsolete mdp entry 'ns_type'\n",
      "\n",
      "NOTE 1 [file ions.mdp]:\n",
      "  With Verlet lists the optimal nstlist is >= 10, with GPUs >= 20. Note\n",
      "  that with the Verlet scheme, nstlist has no effect on the accuracy of\n",
      "  your simulation.\n",
      "\n",
      "Setting the LD random seed to -270024898\n",
      "\n",
      "Generated 100465 of the 100576 non-bonded parameter combinations\n",
      "Generating 1-4 interactions: fudge = 1\n",
      "\n",
      "Generated 66298 of the 100576 1-4 parameter combinations\n",
      "\n",
      "Excluding 3 bonded neighbours molecule type 'Protein_chain_A'\n",
      "\n",
      "Excluding 3 bonded neighbours molecule type 'JZ4'\n",
      "\n",
      "Excluding 2 bonded neighbours molecule type 'SOL'\n",
      "\n",
      "NOTE 2 [file topol.top, line 24626]:\n",
      "  System has non-zero total charge: 6.000000\n",
      "  Total charge should normally be an integer. See\n",
      "  http://www.gromacs.org/Documentation/Floating_Point_Arithmetic\n",
      "  for discussion on how close it should be to an integer.\n",
      "  \n",
      "\n",
      "\n",
      "Analysing residue names:\n",
      "There are:   163    Protein residues\n",
      "There are:     1      Other residues\n",
      "There are: 10294      Water residues\n",
      "Analysing Protein...\n",
      "Analysing residues not classified as Protein/DNA/RNA/Water and splitting into groups...\n",
      "Number of degrees of freedom in T-Coupling group rest is 69669.00\n",
      "\n",
      "NOTE 3 [file ions.mdp]:\n",
      "  You are using a plain Coulomb cut-off, which might produce artifacts.\n",
      "  You might want to consider using PME electrostatics.\n",
      "\n",
      "\n",
      "\n",
      "This run will generate roughly 3 Mb of data\n",
      "\n",
      "There were 3 notes\n",
      "\n",
      "GROMACS reminds you: \"We Look Pretty Sharp In These Clothes\" (F. Zappa)\n",
      "\n"
     ]
    }
   ],
   "source": [
    "! gmx grompp -f ions.mdp -c complex_solv.gro -p topol.top -o ions.tpr\n"
   ]
  },
  {
   "cell_type": "code",
   "execution_count": 11,
   "metadata": {
    "scrolled": true
   },
   "outputs": [
    {
     "name": "stdout",
     "output_type": "stream",
     "text": [
      "                      :-) GROMACS - gmx genion, 2021.2 (-:\n",
      "\n",
      "                            GROMACS is written by:\n",
      "     Andrey Alekseenko              Emile Apol              Rossen Apostolov     \n",
      "         Paul Bauer           Herman J.C. Berendsen           Par Bjelkmar       \n",
      "       Christian Blau           Viacheslav Bolnykh             Kevin Boyd        \n",
      "     Aldert van Buuren           Rudi van Drunen             Anton Feenstra      \n",
      "    Gilles Gouaillardet             Alan Gray               Gerrit Groenhof      \n",
      "       Anca Hamuraru            Vincent Hindriksen          M. Eric Irrgang      \n",
      "      Aleksei Iupinov           Christoph Junghans             Joe Jordan        \n",
      "    Dimitrios Karkoulis            Peter Kasson                Jiri Kraus        \n",
      "      Carsten Kutzner              Per Larsson              Justin A. Lemkul     \n",
      "       Viveca Lindahl            Magnus Lundborg             Erik Marklund       \n",
      "        Pascal Merz             Pieter Meulenhoff            Teemu Murtola       \n",
      "        Szilard Pall               Sander Pronk              Roland Schulz       \n",
      "       Michael Shirts            Alexey Shvetsov             Alfons Sijbers      \n",
      "       Peter Tieleman              Jon Vincent              Teemu Virolainen     \n",
      "     Christian Wennberg            Maarten Wolf              Artem Zhmurov       \n",
      "                           and the project leaders:\n",
      "        Mark Abraham, Berk Hess, Erik Lindahl, and David van der Spoel\n",
      "\n",
      "Copyright (c) 1991-2000, University of Groningen, The Netherlands.\n",
      "Copyright (c) 2001-2019, The GROMACS development team at\n",
      "Uppsala University, Stockholm University and\n",
      "the Royal Institute of Technology, Sweden.\n",
      "check out http://www.gromacs.org for more information.\n",
      "\n",
      "GROMACS is free software; you can redistribute it and/or modify it\n",
      "under the terms of the GNU Lesser General Public License\n",
      "as published by the Free Software Foundation; either version 2.1\n",
      "of the License, or (at your option) any later version.\n",
      "\n",
      "GROMACS:      gmx genion, version 2021.2\n",
      "Executable:   /usr/local/gromacs/bin/gmx\n",
      "Data prefix:  /usr/local/gromacs\n",
      "Working dir:  /home/karthi/python_documents/md_notebook_copy1\n",
      "Command line:\n",
      "  gmx genion -s ions.tpr -o complex_solv_ions.gro -p topol.top -pname NA -nname CL -neutral\n",
      "\n",
      "Reading file ions.tpr, VERSION 2021.2 (single precision)\n",
      "Reading file ions.tpr, VERSION 2021.2 (single precision)\n",
      "Will try to add 0 NA ions and 6 CL ions.\n",
      "Select a continuous group of solvent molecules\n",
      "Group     0 (         System) has 33518 elements\n",
      "Group     1 (        Protein) has  2614 elements\n",
      "Group     2 (      Protein-H) has  1301 elements\n",
      "Group     3 (        C-alpha) has   163 elements\n",
      "Group     4 (       Backbone) has   489 elements\n",
      "Group     5 (      MainChain) has   651 elements\n",
      "Group     6 (   MainChain+Cb) has   803 elements\n",
      "Group     7 (    MainChain+H) has   813 elements\n",
      "Group     8 (      SideChain) has  1801 elements\n",
      "Group     9 (    SideChain-H) has   650 elements\n",
      "Group    10 (    Prot-Masses) has  2614 elements\n",
      "Group    11 (    non-Protein) has 30904 elements\n",
      "Group    12 (          Other) has    22 elements\n",
      "Group    13 (            JZ4) has    22 elements\n",
      "Group    14 (          Water) has 30882 elements\n",
      "Group    15 (            SOL) has 30882 elements\n",
      "Group    16 (      non-Water) has  2636 elements\n",
      "Select a group: Selected 15: 'SOL'\n",
      "Number of (3-atomic) solvent molecules: 10294\n",
      "\n",
      "Processing topology\n",
      "Replacing 6 solute molecules in topology file (topol.top)  by 0 NA and 6 CL ions.\n",
      "\n",
      "Back Off! I just backed up topol.top to ./#topol.top.2#\n",
      "Using random seed 1472121311.\n",
      "Replacing solvent molecule 1088 (atom 5900) with CL\n",
      "Replacing solvent molecule 8022 (atom 26702) with CL\n",
      "Replacing solvent molecule 2173 (atom 9155) with CL\n",
      "Replacing solvent molecule 5952 (atom 20492) with CL\n",
      "Replacing solvent molecule 2800 (atom 11036) with CL\n",
      "Replacing solvent molecule 5143 (atom 18065) with CL\n",
      "\n",
      "\n",
      "GROMACS reminds you: \"Christianity may be OK between consenting adults in private but should not be taught to young children.\" (Francis Crick)\n",
      "\n"
     ]
    }
   ],
   "source": [
    "# We now pass our .tpr file to genion\n",
    "! printf \"15\" | gmx genion -s ions.tpr -o complex_solv_ions.gro -p topol.top -pname NA -nname CL -neutral\n",
    "# The specified atom names are always the elemental symbol in all capital letters, along with the [ moleculetype]. \n",
    "    #Residue names may or may not append the sign 1of the charge (+/-). \n",
    "    #Refer to ions.itp for proper nomenclature if you encounter difficulties."
   ]
  },
  {
   "cell_type": "code",
   "execution_count": 12,
   "metadata": {
    "scrolled": false
   },
   "outputs": [
    {
     "name": "stdout",
     "output_type": "stream",
     "text": [
      "[ system ]\r\n",
      "; Name\r\n",
      "LYSOZYME in water\r\n",
      "\r\n",
      "[ molecules ]\r\n",
      "; Compound        #mols\r\n",
      "Protein_chain_A     1\r\n",
      "JZ4        1\r\n",
      "SOL         10288\r\n",
      "CL               6\r\n"
     ]
    }
   ],
   "source": [
    "# check Your [ molecules ] directive for ions\n",
    "! tail topol.top"
   ]
  },
  {
   "cell_type": "markdown",
   "metadata": {},
   "source": [
    "#### 5. Energy Minimization"
   ]
  },
  {
   "cell_type": "code",
   "execution_count": 15,
   "metadata": {
    "scrolled": true
   },
   "outputs": [
    {
     "name": "stdout",
     "output_type": "stream",
     "text": [
      "                      :-) GROMACS - gmx grompp, 2021.2 (-:\n",
      "\n",
      "                            GROMACS is written by:\n",
      "     Andrey Alekseenko              Emile Apol              Rossen Apostolov     \n",
      "         Paul Bauer           Herman J.C. Berendsen           Par Bjelkmar       \n",
      "       Christian Blau           Viacheslav Bolnykh             Kevin Boyd        \n",
      "     Aldert van Buuren           Rudi van Drunen             Anton Feenstra      \n",
      "    Gilles Gouaillardet             Alan Gray               Gerrit Groenhof      \n",
      "       Anca Hamuraru            Vincent Hindriksen          M. Eric Irrgang      \n",
      "      Aleksei Iupinov           Christoph Junghans             Joe Jordan        \n",
      "    Dimitrios Karkoulis            Peter Kasson                Jiri Kraus        \n",
      "      Carsten Kutzner              Per Larsson              Justin A. Lemkul     \n",
      "       Viveca Lindahl            Magnus Lundborg             Erik Marklund       \n",
      "        Pascal Merz             Pieter Meulenhoff            Teemu Murtola       \n",
      "        Szilard Pall               Sander Pronk              Roland Schulz       \n",
      "       Michael Shirts            Alexey Shvetsov             Alfons Sijbers      \n",
      "       Peter Tieleman              Jon Vincent              Teemu Virolainen     \n",
      "     Christian Wennberg            Maarten Wolf              Artem Zhmurov       \n",
      "                           and the project leaders:\n",
      "        Mark Abraham, Berk Hess, Erik Lindahl, and David van der Spoel\n",
      "\n",
      "Copyright (c) 1991-2000, University of Groningen, The Netherlands.\n",
      "Copyright (c) 2001-2019, The GROMACS development team at\n",
      "Uppsala University, Stockholm University and\n",
      "the Royal Institute of Technology, Sweden.\n",
      "check out http://www.gromacs.org for more information.\n",
      "\n",
      "GROMACS is free software; you can redistribute it and/or modify it\n",
      "under the terms of the GNU Lesser General Public License\n",
      "as published by the Free Software Foundation; either version 2.1\n",
      "of the License, or (at your option) any later version.\n",
      "\n",
      "GROMACS:      gmx grompp, version 2021.2\n",
      "Executable:   /usr/local/gromacs/bin/gmx\n",
      "Data prefix:  /usr/local/gromacs\n",
      "Working dir:  /home/karthi/python_documents/md_notebook_copy1\n",
      "Command line:\n",
      "  gmx grompp -f em.mdp -c complex_solv_ions.gro -p topol.top -o em.tpr\n",
      "\n",
      "Ignoring obsolete mdp entry 'title'\n",
      "Ignoring obsolete mdp entry 'ns_type'\n",
      "\n",
      "NOTE 1 [file em.mdp]:\n",
      "  With Verlet lists the optimal nstlist is >= 10, with GPUs >= 20. Note\n",
      "  that with the Verlet scheme, nstlist has no effect on the accuracy of\n",
      "  your simulation.\n",
      "\n",
      "Setting the LD random seed to -560644297\n",
      "\n",
      "Generated 100465 of the 100576 non-bonded parameter combinations\n",
      "Generating 1-4 interactions: fudge = 1\n",
      "\n",
      "Generated 66298 of the 100576 1-4 parameter combinations\n",
      "\n",
      "Excluding 3 bonded neighbours molecule type 'Protein_chain_A'\n",
      "\n",
      "Excluding 3 bonded neighbours molecule type 'JZ4'\n",
      "\n",
      "Excluding 2 bonded neighbours molecule type 'SOL'\n",
      "\n",
      "Excluding 1 bonded neighbours molecule type 'CL'\n",
      "Analysing residue names:\n",
      "There are:   163    Protein residues\n",
      "There are:     1      Other residues\n",
      "There are: 10288      Water residues\n",
      "There are:     6        Ion residues\n",
      "Analysing Protein...\n",
      "Analysing residues not classified as Protein/DNA/RNA/Water and splitting into groups...\n",
      "Analysing residues not classified as Protein/DNA/RNA/Water and splitting into groups...\n",
      "Number of degrees of freedom in T-Coupling group rest is 69651.00\n",
      "Calculating fourier grid dimensions for X Y Z\n",
      "Using a fourier grid of 72x72x72, spacing 0.109 0.109 0.109\n",
      "\n",
      "Estimate for the relative computational load of the PME mesh part: 0.22\n",
      "\n",
      "This run will generate roughly 3 Mb of data\n",
      "\n",
      "There was 1 note\n",
      "\n",
      "GROMACS reminds you: \"Religion is a culture of faith; science is a culture of doubt.\" (Richard Feynman)\n",
      "\n",
      "                      :-) GROMACS - gmx mdrun, 2021.2 (-:\n",
      "\n",
      "                            GROMACS is written by:\n",
      "     Andrey Alekseenko              Emile Apol              Rossen Apostolov     \n",
      "         Paul Bauer           Herman J.C. Berendsen           Par Bjelkmar       \n",
      "       Christian Blau           Viacheslav Bolnykh             Kevin Boyd        \n",
      "     Aldert van Buuren           Rudi van Drunen             Anton Feenstra      \n",
      "    Gilles Gouaillardet             Alan Gray               Gerrit Groenhof      \n",
      "       Anca Hamuraru            Vincent Hindriksen          M. Eric Irrgang      \n",
      "      Aleksei Iupinov           Christoph Junghans             Joe Jordan        \n",
      "    Dimitrios Karkoulis            Peter Kasson                Jiri Kraus        \n",
      "      Carsten Kutzner              Per Larsson              Justin A. Lemkul     \n",
      "       Viveca Lindahl            Magnus Lundborg             Erik Marklund       \n",
      "        Pascal Merz             Pieter Meulenhoff            Teemu Murtola       \n",
      "        Szilard Pall               Sander Pronk              Roland Schulz       \n",
      "       Michael Shirts            Alexey Shvetsov             Alfons Sijbers      \n",
      "       Peter Tieleman              Jon Vincent              Teemu Virolainen     \n",
      "     Christian Wennberg            Maarten Wolf              Artem Zhmurov       \n",
      "                           and the project leaders:\n",
      "        Mark Abraham, Berk Hess, Erik Lindahl, and David van der Spoel\n",
      "\n",
      "Copyright (c) 1991-2000, University of Groningen, The Netherlands.\n",
      "Copyright (c) 2001-2019, The GROMACS development team at\n",
      "Uppsala University, Stockholm University and\n",
      "the Royal Institute of Technology, Sweden.\n",
      "check out http://www.gromacs.org for more information.\n",
      "\n",
      "GROMACS is free software; you can redistribute it and/or modify it\n",
      "under the terms of the GNU Lesser General Public License\n",
      "as published by the Free Software Foundation; either version 2.1\n",
      "of the License, or (at your option) any later version.\n",
      "\n",
      "GROMACS:      gmx mdrun, version 2021.2\n",
      "Executable:   /usr/local/gromacs/bin/gmx\n",
      "Data prefix:  /usr/local/gromacs\n",
      "Working dir:  /home/karthi/python_documents/md_notebook_copy1\n",
      "Command line:\n",
      "  gmx mdrun -v -deffnm em\n",
      "\n",
      "Reading file em.tpr, VERSION 2021.2 (single precision)\n",
      "Using 1 MPI thread\n",
      "Using 8 OpenMP threads \n",
      "\n",
      "\n",
      "Steepest Descents:\n",
      "   Tolerance (Fmax)   =  1.00000e+03\n",
      "   Number of steps    =        50000\n",
      "Step=    0, Dmax= 1.0e-02 nm, Epot=  8.05130e+06 Fmax= 3.63237e+08, atom= 2628\n",
      "Step=    1, Dmax= 1.0e-02 nm, Epot=  2.76335e+06 Fmax= 4.88861e+07, atom= 2626\n",
      "Step=    2, Dmax= 1.2e-02 nm, Epot=  8.62466e+05 Fmax= 1.09972e+07, atom= 2615\n",
      "Step=    3, Dmax= 1.4e-02 nm, Epot=  2.51919e+05 Fmax= 3.66901e+06, atom= 2623\n",
      "Step=    4, Dmax= 1.7e-02 nm, Epot=  1.11689e+05 Fmax= 1.47791e+06, atom= 2615\n",
      "Step=    5, Dmax= 2.1e-02 nm, Epot=  4.40368e+04 Fmax= 1.81485e+06, atom= 2623\n",
      "Step=    6, Dmax= 2.5e-02 nm, Epot=  1.90506e+04 Fmax= 6.25128e+05, atom= 2615\n",
      "Step=    7, Dmax= 3.0e-02 nm, Epot= -2.79843e+04 Fmax= 3.74902e+05, atom= 2623\n",
      "Step=    8, Dmax= 3.6e-02 nm, Epot= -7.63334e+04 Fmax= 3.43153e+05, atom= 2615\n",
      "Step=    9, Dmax= 4.3e-02 nm, Epot= -1.21705e+05 Fmax= 3.89584e+05, atom= 2623\n",
      "Step=   10, Dmax= 5.2e-02 nm, Epot= -1.34176e+05 Fmax= 1.26825e+06, atom= 2623\n",
      "Step=   11, Dmax= 6.2e-02 nm, Epot= -1.55810e+05 Fmax= 4.18267e+05, atom= 2623\n",
      "Step=   12, Dmax= 7.4e-02 nm, Epot= -1.92822e+05 Fmax= 1.84041e+05, atom= 2615\n",
      "Step=   14, Dmax= 4.5e-02 nm, Epot= -2.22023e+05 Fmax= 5.49442e+05, atom= 2615\n",
      "Step=   15, Dmax= 5.3e-02 nm, Epot= -2.24041e+05 Fmax= 4.60737e+05, atom= 2615\n",
      "Step=   16, Dmax= 6.4e-02 nm, Epot= -2.43738e+05 Fmax= 1.81865e+05, atom= 2615\n",
      "Step=   18, Dmax= 3.9e-02 nm, Epot= -2.54208e+05 Fmax= 2.10738e+05, atom= 2615\n",
      "Step=   19, Dmax= 4.6e-02 nm, Epot= -2.65226e+05 Fmax= 6.89905e+05, atom= 2615\n",
      "Step=   20, Dmax= 5.5e-02 nm, Epot= -2.66643e+05 Fmax= 3.01062e+05, atom= 2615\n",
      "Step=   21, Dmax= 6.7e-02 nm, Epot= -2.78612e+05 Fmax= 6.56700e+05, atom= 2615\n",
      "Step=   22, Dmax= 8.0e-02 nm, Epot= -2.79265e+05 Fmax= 3.96963e+05, atom= 2623\n",
      "Step=   24, Dmax= 4.8e-02 nm, Epot= -2.95010e+05 Fmax= 8.56655e+04, atom= 2615\n",
      "Step=   25, Dmax= 5.8e-02 nm, Epot= -3.00086e+05 Fmax= 1.42521e+06, atom= 2626\n",
      "Step=   26, Dmax= 6.9e-02 nm, Epot= -3.15393e+05 Fmax= 3.05255e+05, atom= 2615\n",
      "Step=   27, Dmax= 8.3e-02 nm, Epot= -3.18143e+05 Fmax= 1.03240e+05, atom= 2635\n",
      "Step=   29, Dmax= 5.0e-02 nm, Epot= -3.36415e+05 Fmax= 1.42502e+05, atom= 2615\n",
      "Step=   30, Dmax= 6.0e-02 nm, Epot= -3.40750e+05 Fmax= 2.82813e+05, atom= 2626\n",
      "Step=   31, Dmax= 7.2e-02 nm, Epot= -3.43842e+05 Fmax= 1.17655e+05, atom= 2626\n"
     ]
    },
    {
     "name": "stdout",
     "output_type": "stream",
     "text": [
      "Step=   32, Dmax= 8.6e-02 nm, Epot= -3.46546e+05 Fmax= 3.51194e+05, atom= 2624\n",
      "Step=   34, Dmax= 5.2e-02 nm, Epot= -3.51655e+05 Fmax= 1.71177e+05, atom= 2624\n",
      "Step=   35, Dmax= 6.2e-02 nm, Epot= -3.57855e+05 Fmax= 3.36952e+05, atom= 2624\n",
      "Step=   36, Dmax= 7.4e-02 nm, Epot= -3.62165e+05 Fmax= 8.29874e+04, atom= 2624\n",
      "Step=   38, Dmax= 4.5e-02 nm, Epot= -3.65513e+05 Fmax= 4.34732e+05, atom= 2633\n",
      "Step=   39, Dmax= 5.3e-02 nm, Epot= -3.67456e+05 Fmax= 1.39957e+05, atom= 2633\n",
      "Step=   40, Dmax= 6.4e-02 nm, Epot= -3.70841e+05 Fmax= 2.79188e+05, atom= 2633\n",
      "Step=   42, Dmax= 3.8e-02 nm, Epot= -3.74081e+05 Fmax= 6.11466e+04, atom= 2624\n",
      "Step=   43, Dmax= 4.6e-02 nm, Epot= -3.79274e+05 Fmax= 1.09799e+05, atom= 2624\n",
      "Step=   45, Dmax= 2.8e-02 nm, Epot= -3.81243e+05 Fmax= 4.48229e+04, atom= 2624\n",
      "Step=   47, Dmax= 1.7e-02 nm, Epot= -3.83995e+05 Fmax= 3.44931e+04, atom= 2626\n",
      "Step=   48, Dmax= 2.0e-02 nm, Epot= -3.85970e+05 Fmax= 6.70308e+04, atom= 2633\n",
      "Step=   49, Dmax= 2.4e-02 nm, Epot= -3.88224e+05 Fmax= 5.39081e+04, atom= 2633\n",
      "Step=   50, Dmax= 2.9e-02 nm, Epot= -3.89799e+05 Fmax= 8.52245e+04, atom= 2633\n",
      "Step=   51, Dmax= 3.4e-02 nm, Epot= -3.91654e+05 Fmax= 5.30966e+04, atom= 2633\n",
      "Step=   53, Dmax= 2.1e-02 nm, Epot= -3.93884e+05 Fmax= 2.89074e+04, atom= 2624\n",
      "Step=   54, Dmax= 2.5e-02 nm, Epot= -3.96274e+05 Fmax= 6.75420e+04, atom= 2633\n",
      "Step=   55, Dmax= 3.0e-02 nm, Epot= -3.98384e+05 Fmax= 4.14577e+04, atom= 2633\n",
      "Step=   56, Dmax= 3.6e-02 nm, Epot= -3.99977e+05 Fmax= 6.25833e+04, atom= 2624\n",
      "Step=   57, Dmax= 4.3e-02 nm, Epot= -4.02637e+05 Fmax= 5.96293e+04, atom= 2626\n",
      "Step=   59, Dmax= 2.6e-02 nm, Epot= -4.04601e+05 Fmax= 3.77501e+04, atom= 2626\n",
      "Step=   60, Dmax= 3.1e-02 nm, Epot= -4.06225e+05 Fmax= 1.25797e+05, atom= 2632\n",
      "Step=   61, Dmax= 3.7e-02 nm, Epot= -4.06833e+05 Fmax= 7.06700e+04, atom= 2632\n",
      "Step=   62, Dmax= 4.4e-02 nm, Epot= -4.07921e+05 Fmax= 1.37031e+05, atom= 2632\n",
      "Step=   64, Dmax= 2.7e-02 nm, Epot= -4.09502e+05 Fmax= 2.82160e+04, atom= 2624\n",
      "Step=   66, Dmax= 1.6e-02 nm, Epot= -4.11121e+05 Fmax= 2.64519e+04, atom= 2632\n",
      "Step=   67, Dmax= 1.9e-02 nm, Epot= -4.12338e+05 Fmax= 4.61006e+04, atom= 2632\n",
      "Step=   68, Dmax= 2.3e-02 nm, Epot= -4.13497e+05 Fmax= 5.41332e+04, atom= 2632\n",
      "Step=   69, Dmax= 2.8e-02 nm, Epot= -4.14065e+05 Fmax= 5.91191e+04, atom= 2632\n",
      "Step=   70, Dmax= 3.3e-02 nm, Epot= -4.14932e+05 Fmax= 9.95512e+04, atom= 2632\n",
      "Step=   71, Dmax= 4.0e-02 nm, Epot= -4.15256e+05 Fmax= 6.92004e+04, atom= 2632\n",
      "Step=   72, Dmax= 4.8e-02 nm, Epot= -4.15334e+05 Fmax= 1.88765e+05, atom= 2632\n",
      "Step=   73, Dmax= 5.7e-02 nm, Epot= -4.15924e+05 Fmax= 7.09975e+04, atom= 2632\n",
      "Step=   75, Dmax= 3.4e-02 nm, Epot= -4.18650e+05 Fmax= 1.89745e+04, atom= 2619\n",
      "Step=   76, Dmax= 4.1e-02 nm, Epot= -4.19803e+05 Fmax= 1.53811e+05, atom= 2626\n",
      "Step=   77, Dmax= 5.0e-02 nm, Epot= -4.20548e+05 Fmax= 1.69594e+05, atom= 2632\n",
      "Step=   78, Dmax= 5.9e-02 nm, Epot= -4.21311e+05 Fmax= 1.29209e+05, atom= 2632\n",
      "Step=   80, Dmax= 3.6e-02 nm, Epot= -4.23024e+05 Fmax= 2.88916e+04, atom= 2628\n",
      "Step=   81, Dmax= 4.3e-02 nm, Epot= -4.23891e+05 Fmax= 1.83323e+05, atom= 2632\n",
      "Step=   83, Dmax= 2.6e-02 nm, Epot= -4.26092e+05 Fmax= 5.79061e+04, atom= 2632\n",
      "Step=   84, Dmax= 3.1e-02 nm, Epot= -4.26586e+05 Fmax= 9.89362e+04, atom= 2632\n",
      "Step=   85, Dmax= 3.7e-02 nm, Epot= -4.26812e+05 Fmax= 1.17742e+05, atom= 2633\n",
      "Step=   87, Dmax= 2.2e-02 nm, Epot= -4.27858e+05 Fmax= 3.08876e+04, atom= 2633\n",
      "Step=   88, Dmax= 2.7e-02 nm, Epot= -4.28771e+05 Fmax= 1.24973e+05, atom= 2633\n",
      "Step=   89, Dmax= 3.2e-02 nm, Epot= -4.29301e+05 Fmax= 8.43651e+04, atom= 2632\n",
      "Step=   90, Dmax= 3.8e-02 nm, Epot= -4.30189e+05 Fmax= 4.42264e+04, atom= 2632\n",
      "Step=   91, Dmax= 4.6e-02 nm, Epot= -4.31796e+05 Fmax= 7.69873e+04, atom= 2632\n",
      "Step=   93, Dmax= 2.8e-02 nm, Epot= -4.32980e+05 Fmax= 3.17054e+04, atom= 2633\n",
      "Step=   94, Dmax= 3.3e-02 nm, Epot= -4.33303e+05 Fmax= 1.17019e+05, atom= 2632\n",
      "Step=   95, Dmax= 4.0e-02 nm, Epot= -4.35232e+05 Fmax= 2.32682e+04, atom= 2626\n",
      "Step=   96, Dmax= 4.8e-02 nm, Epot= -4.37876e+05 Fmax= 2.79328e+04, atom= 2626\n",
      "Step=   98, Dmax= 2.9e-02 nm, Epot= -4.39055e+05 Fmax= 4.06635e+04, atom= 2632\n",
      "Step=   99, Dmax= 3.4e-02 nm, Epot= -4.40024e+05 Fmax= 2.15551e+04, atom= 2632\n",
      "Step=  100, Dmax= 4.1e-02 nm, Epot= -4.41870e+05 Fmax= 1.38853e+04, atom= 2632\n",
      "Step=  101, Dmax= 4.9e-02 nm, Epot= -4.43003e+05 Fmax= 8.94290e+04, atom= 2632\n",
      "Step=  102, Dmax= 5.9e-02 nm, Epot= -4.45455e+05 Fmax= 8.80881e+03, atom= 2628\n",
      "Step=  104, Dmax= 3.6e-02 nm, Epot= -4.47888e+05 Fmax= 2.14037e+04, atom= 2632\n",
      "Step=  105, Dmax= 4.3e-02 nm, Epot= -4.49225e+05 Fmax= 1.80771e+04, atom= 2615\n",
      "Step=  106, Dmax= 5.1e-02 nm, Epot= -4.50296e+05 Fmax= 2.87066e+04, atom= 2615\n",
      "Step=  107, Dmax= 6.2e-02 nm, Epot= -4.51193e+05 Fmax= 2.80757e+04, atom= 2626\n",
      "Step=  108, Dmax= 7.4e-02 nm, Epot= -4.51516e+05 Fmax= 5.36552e+04, atom= 2626\n",
      "Step=  109, Dmax= 8.9e-02 nm, Epot= -4.53415e+05 Fmax= 3.35135e+04, atom= 2626\n",
      "Step=  111, Dmax= 5.3e-02 nm, Epot= -4.55608e+05 Fmax= 1.10971e+04, atom= 2626\n",
      "Step=  113, Dmax= 3.2e-02 nm, Epot= -4.56663e+05 Fmax= 2.02137e+04, atom= 2626\n",
      "Step=  114, Dmax= 3.8e-02 nm, Epot= -4.57727e+05 Fmax= 1.57505e+04, atom= 2626\n",
      "Step=  116, Dmax= 2.3e-02 nm, Epot= -4.58724e+05 Fmax= 6.02414e+03, atom= 2626\n",
      "Step=  118, Dmax= 1.4e-02 nm, Epot= -4.59515e+05 Fmax= 1.07653e+04, atom= 1615\n",
      "Step=  119, Dmax= 1.7e-02 nm, Epot= -4.60207e+05 Fmax= 1.18952e+04, atom= 1615\n",
      "Step=  120, Dmax= 2.0e-02 nm, Epot= -4.60767e+05 Fmax= 1.54753e+04, atom= 1615\n",
      "Step=  121, Dmax= 2.4e-02 nm, Epot= -4.61320e+05 Fmax= 1.70576e+04, atom= 1615\n",
      "Step=  122, Dmax= 2.9e-02 nm, Epot= -4.61688e+05 Fmax= 2.24101e+04, atom= 1615\n",
      "Step=  123, Dmax= 3.4e-02 nm, Epot= -4.62142e+05 Fmax= 2.43148e+04, atom= 1615\n",
      "Step=  124, Dmax= 4.1e-02 nm, Epot= -4.62172e+05 Fmax= 3.26493e+04, atom= 1615\n",
      "Step=  125, Dmax= 4.9e-02 nm, Epot= -4.62533e+05 Fmax= 3.44309e+04, atom= 1615\n",
      "Step=  127, Dmax= 3.0e-02 nm, Epot= -4.64465e+05 Fmax= 5.73333e+03, atom= 1615\n",
      "Step=  129, Dmax= 1.8e-02 nm, Epot= -4.65126e+05 Fmax= 1.91108e+04, atom= 1615\n",
      "Step=  130, Dmax= 2.1e-02 nm, Epot= -4.65843e+05 Fmax= 9.94079e+03, atom= 1615\n",
      "Step=  131, Dmax= 2.6e-02 nm, Epot= -4.66036e+05 Fmax= 2.48492e+04, atom= 1615\n",
      "Step=  132, Dmax= 3.1e-02 nm, Epot= -4.66851e+05 Fmax= 1.72711e+04, atom= 1615\n",
      "Step=  134, Dmax= 1.8e-02 nm, Epot= -4.67473e+05 Fmax= 8.00865e+03, atom= 1615\n",
      "Step=  135, Dmax= 2.2e-02 nm, Epot= -4.67832e+05 Fmax= 2.22367e+04, atom= 1615\n",
      "Step=  136, Dmax= 2.7e-02 nm, Epot= -4.68533e+05 Fmax= 1.40719e+04, atom= 1615\n",
      "Step=  138, Dmax= 1.6e-02 nm, Epot= -4.69029e+05 Fmax= 7.66040e+03, atom= 1615\n",
      "Step=  139, Dmax= 1.9e-02 nm, Epot= -4.69439e+05 Fmax= 1.84464e+04, atom= 1615\n",
      "Step=  140, Dmax= 2.3e-02 nm, Epot= -4.69991e+05 Fmax= 1.30140e+04, atom= 1615\n",
      "Step=  141, Dmax= 2.8e-02 nm, Epot= -4.70113e+05 Fmax= 2.43561e+04, atom= 1615\n",
      "Step=  142, Dmax= 3.3e-02 nm, Epot= -4.70669e+05 Fmax= 2.10723e+04, atom= 1615\n",
      "Step=  144, Dmax= 2.0e-02 nm, Epot= -4.71351e+05 Fmax= 6.16604e+03, atom= 1615\n",
      "Step=  145, Dmax= 2.4e-02 nm, Epot= -4.71717e+05 Fmax= 2.63670e+04, atom= 1615\n",
      "Step=  146, Dmax= 2.9e-02 nm, Epot= -4.72530e+05 Fmax= 1.27639e+04, atom= 1615\n",
      "Step=  148, Dmax= 1.7e-02 nm, Epot= -4.72924e+05 Fmax= 1.06841e+04, atom= 1615\n",
      "Step=  149, Dmax= 2.1e-02 nm, Epot= -4.73224e+05 Fmax= 1.73440e+04, atom= 1615\n",
      "Step=  150, Dmax= 2.5e-02 nm, Epot= -4.73614e+05 Fmax= 1.65415e+04, atom= 1615\n",
      "Step=  151, Dmax= 3.0e-02 nm, Epot= -4.73767e+05 Fmax= 2.36677e+04, atom= 1615\n",
      "Step=  152, Dmax= 3.5e-02 nm, Epot= -4.74082e+05 Fmax= 2.52432e+04, atom= 1615\n",
      "Step=  154, Dmax= 2.1e-02 nm, Epot= -4.74867e+05 Fmax= 4.11396e+03, atom= 1615\n",
      "Step=  155, Dmax= 2.6e-02 nm, Epot= -4.75497e+05 Fmax= 3.07062e+04, atom= 1615\n",
      "Step=  156, Dmax= 3.1e-02 nm, Epot= -4.76442e+05 Fmax= 1.14924e+04, atom= 1615\n",
      "Step=  158, Dmax= 1.8e-02 nm, Epot= -4.76747e+05 Fmax= 1.39003e+04, atom= 1615\n",
      "Step=  159, Dmax= 2.2e-02 nm, Epot= -4.77028e+05 Fmax= 1.62186e+04, atom= 1615\n",
      "Step=  160, Dmax= 2.6e-02 nm, Epot= -4.77260e+05 Fmax= 2.03317e+04, atom= 1615\n",
      "Step=  161, Dmax= 3.2e-02 nm, Epot= -4.77482e+05 Fmax= 2.29409e+04, atom= 1615\n",
      "Step=  162, Dmax= 3.8e-02 nm, Epot= -4.77552e+05 Fmax= 2.97547e+04, atom= 1615\n",
      "Step=  163, Dmax= 4.6e-02 nm, Epot= -4.77692e+05 Fmax= 3.23906e+04, atom= 1615\n"
     ]
    },
    {
     "name": "stdout",
     "output_type": "stream",
     "text": [
      "Step=  165, Dmax= 2.7e-02 nm, Epot= -4.78763e+05 Fmax= 4.80812e+03, atom= 1615\n",
      "Step=  167, Dmax= 1.6e-02 nm, Epot= -4.79189e+05 Fmax= 1.81203e+04, atom= 1615\n",
      "Step=  168, Dmax= 2.0e-02 nm, Epot= -4.79612e+05 Fmax= 8.81947e+03, atom= 1615\n",
      "Step=  169, Dmax= 2.4e-02 nm, Epot= -4.79710e+05 Fmax= 2.33453e+04, atom= 1615\n",
      "Step=  170, Dmax= 2.8e-02 nm, Epot= -4.80202e+05 Fmax= 1.56226e+04, atom= 1615\n",
      "Step=  172, Dmax= 1.7e-02 nm, Epot= -4.80556e+05 Fmax= 7.76914e+03, atom= 1615\n",
      "Step=  173, Dmax= 2.1e-02 nm, Epot= -4.80728e+05 Fmax= 2.03085e+04, atom= 1615\n",
      "Step=  174, Dmax= 2.5e-02 nm, Epot= -4.81135e+05 Fmax= 1.33115e+04, atom= 1615\n",
      "Step=  176, Dmax= 1.5e-02 nm, Epot= -4.81439e+05 Fmax= 6.81207e+03, atom= 1615\n",
      "Step=  177, Dmax= 1.8e-02 nm, Epot= -4.81657e+05 Fmax= 1.73414e+04, atom= 1615\n",
      "Step=  178, Dmax= 2.1e-02 nm, Epot= -4.82006e+05 Fmax= 1.17553e+04, atom= 1615\n",
      "Step=  179, Dmax= 2.6e-02 nm, Epot= -4.82021e+05 Fmax= 2.28471e+04, atom= 1615\n",
      "Step=  180, Dmax= 3.1e-02 nm, Epot= -4.82384e+05 Fmax= 1.91394e+04, atom= 1615\n",
      "Step=  182, Dmax= 1.8e-02 nm, Epot= -4.82817e+05 Fmax= 6.07314e+03, atom= 1615\n",
      "Step=  183, Dmax= 2.2e-02 nm, Epot= -4.82927e+05 Fmax= 2.41347e+04, atom= 1615\n",
      "Step=  184, Dmax= 2.6e-02 nm, Epot= -4.83461e+05 Fmax= 1.21041e+04, atom= 1615\n",
      "Step=  186, Dmax= 1.6e-02 nm, Epot= -4.83708e+05 Fmax= 9.58389e+03, atom= 1615\n",
      "Step=  187, Dmax= 1.9e-02 nm, Epot= -4.83854e+05 Fmax= 1.63700e+04, atom= 1615\n",
      "Step=  188, Dmax= 2.3e-02 nm, Epot= -4.84104e+05 Fmax= 1.49534e+04, atom= 1615\n",
      "Step=  189, Dmax= 2.7e-02 nm, Epot= -4.84130e+05 Fmax= 2.22900e+04, atom= 1615\n",
      "Step=  190, Dmax= 3.3e-02 nm, Epot= -4.84336e+05 Fmax= 2.29016e+04, atom= 1615\n",
      "Step=  192, Dmax= 2.0e-02 nm, Epot= -4.84883e+05 Fmax= 4.27374e+03, atom= 1615\n",
      "Step=  193, Dmax= 2.4e-02 nm, Epot= -4.85027e+05 Fmax= 2.81240e+04, atom= 1615\n",
      "Step=  194, Dmax= 2.8e-02 nm, Epot= -4.85717e+05 Fmax= 1.09522e+04, atom= 1615\n",
      "Step=  196, Dmax= 1.7e-02 nm, Epot= -4.85902e+05 Fmax= 1.24671e+04, atom= 1615\n",
      "Step=  197, Dmax= 2.0e-02 nm, Epot= -4.86050e+05 Fmax= 1.54418e+04, atom= 1615\n",
      "Step=  198, Dmax= 2.5e-02 nm, Epot= -4.86188e+05 Fmax= 1.83081e+04, atom= 1615\n",
      "Step=  199, Dmax= 2.9e-02 nm, Epot= -4.86274e+05 Fmax= 2.17793e+04, atom= 1615\n",
      "Step=  200, Dmax= 3.5e-02 nm, Epot= -4.86299e+05 Fmax= 2.68826e+04, atom= 1615\n",
      "Step=  202, Dmax= 2.1e-02 nm, Epot= -4.86982e+05 Fmax= 2.42000e+03, atom= 1615\n",
      "Step=  203, Dmax= 2.5e-02 nm, Epot= -4.87491e+05 Fmax= 3.20325e+04, atom= 1615\n",
      "Step=  204, Dmax= 3.1e-02 nm, Epot= -4.88341e+05 Fmax= 1.01619e+04, atom= 1615\n",
      "Step=  206, Dmax= 1.8e-02 nm, Epot= -4.88458e+05 Fmax= 1.52961e+04, atom= 1615\n",
      "Step=  207, Dmax= 2.2e-02 nm, Epot= -4.88636e+05 Fmax= 1.47091e+04, atom= 1615\n",
      "Step=  208, Dmax= 2.6e-02 nm, Epot= -4.88654e+05 Fmax= 2.17261e+04, atom= 1615\n",
      "Step=  209, Dmax= 3.2e-02 nm, Epot= -4.88820e+05 Fmax= 2.14241e+04, atom= 1615\n",
      "Step=  211, Dmax= 1.9e-02 nm, Epot= -4.89274e+05 Fmax= 4.37831e+03, atom= 1615\n",
      "Step=  212, Dmax= 2.3e-02 nm, Epot= -4.89311e+05 Fmax= 2.66616e+04, atom= 1615\n",
      "Step=  213, Dmax= 2.7e-02 nm, Epot= -4.89903e+05 Fmax= 1.06294e+04, atom= 1615\n",
      "Step=  215, Dmax= 1.6e-02 nm, Epot= -4.90051e+05 Fmax= 1.17340e+04, atom= 1615\n",
      "Step=  216, Dmax= 2.0e-02 nm, Epot= -4.90161e+05 Fmax= 1.52220e+04, atom= 1615\n",
      "Step=  217, Dmax= 2.4e-02 nm, Epot= -4.90278e+05 Fmax= 1.69401e+04, atom= 1615\n",
      "Step=  218, Dmax= 2.8e-02 nm, Epot= -4.90308e+05 Fmax= 2.19857e+04, atom= 1615\n",
      "Step=  219, Dmax= 3.4e-02 nm, Epot= -4.90370e+05 Fmax= 2.42598e+04, atom= 1615\n",
      "Step=  221, Dmax= 2.0e-02 nm, Epot= -4.90931e+05 Fmax= 3.36633e+03, atom= 1615\n",
      "Step=  223, Dmax= 1.2e-02 nm, Epot= -4.91169e+05 Fmax= 1.35527e+04, atom= 1615\n",
      "Step=  224, Dmax= 1.5e-02 nm, Epot= -4.91397e+05 Fmax= 6.45695e+03, atom= 1615\n",
      "Step=  225, Dmax= 1.8e-02 nm, Epot= -4.91451e+05 Fmax= 1.74738e+04, atom= 1615\n",
      "Step=  226, Dmax= 2.1e-02 nm, Epot= -4.91721e+05 Fmax= 1.14144e+04, atom= 1615\n",
      "Step=  228, Dmax= 1.3e-02 nm, Epot= -4.91911e+05 Fmax= 5.96225e+03, atom= 1615\n",
      "Step=  229, Dmax= 1.5e-02 nm, Epot= -4.92007e+05 Fmax= 1.49137e+04, atom= 1615\n",
      "Step=  230, Dmax= 1.8e-02 nm, Epot= -4.92227e+05 Fmax= 1.00818e+04, atom= 1615\n",
      "Step=  232, Dmax= 1.1e-02 nm, Epot= -4.92400e+05 Fmax= 4.87039e+03, atom= 1615\n",
      "Step=  233, Dmax= 1.3e-02 nm, Epot= -4.92532e+05 Fmax= 1.30779e+04, atom= 1615\n",
      "Step=  234, Dmax= 1.6e-02 nm, Epot= -4.92733e+05 Fmax= 8.50177e+03, atom= 1615\n",
      "Step=  235, Dmax= 1.9e-02 nm, Epot= -4.92744e+05 Fmax= 1.72513e+04, atom= 1615\n",
      "Step=  236, Dmax= 2.3e-02 nm, Epot= -4.92964e+05 Fmax= 1.38625e+04, atom= 1615\n",
      "Step=  238, Dmax= 1.4e-02 nm, Epot= -4.93202e+05 Fmax= 4.85624e+03, atom= 1615\n",
      "Step=  239, Dmax= 1.6e-02 nm, Epot= -4.93264e+05 Fmax= 1.76138e+04, atom= 1615\n",
      "Step=  240, Dmax= 2.0e-02 nm, Epot= -4.93559e+05 Fmax= 9.30995e+03, atom= 1615\n",
      "Step=  242, Dmax= 1.2e-02 nm, Epot= -4.93710e+05 Fmax= 6.79124e+03, atom= 1615\n",
      "Step=  243, Dmax= 1.4e-02 nm, Epot= -4.93797e+05 Fmax= 1.25058e+04, atom= 1615\n",
      "Step=  244, Dmax= 1.7e-02 nm, Epot= -4.93957e+05 Fmax= 1.07226e+04, atom= 1615\n",
      "Step=  245, Dmax= 2.0e-02 nm, Epot= -4.93964e+05 Fmax= 1.69921e+04, atom= 1615\n",
      "Step=  246, Dmax= 2.4e-02 nm, Epot= -4.94111e+05 Fmax= 1.64977e+04, atom= 1615\n",
      "Step=  248, Dmax= 1.5e-02 nm, Epot= -4.94419e+05 Fmax= 3.66586e+03, atom= 1615\n",
      "Step=  249, Dmax= 1.8e-02 nm, Epot= -4.94472e+05 Fmax= 2.04842e+04, atom= 1615\n",
      "Step=  250, Dmax= 2.1e-02 nm, Epot= -4.94867e+05 Fmax= 8.52078e+03, atom= 1615\n",
      "Step=  252, Dmax= 1.3e-02 nm, Epot= -4.94989e+05 Fmax= 8.82983e+03, atom= 1615\n",
      "Step=  253, Dmax= 1.5e-02 nm, Epot= -4.95073e+05 Fmax= 1.19260e+04, atom= 1615\n",
      "Step=  254, Dmax= 1.8e-02 nm, Epot= -4.95176e+05 Fmax= 1.30867e+04, atom= 1615\n",
      "Step=  255, Dmax= 2.2e-02 nm, Epot= -4.95209e+05 Fmax= 1.67393e+04, atom= 1615\n",
      "Step=  256, Dmax= 2.6e-02 nm, Epot= -4.95260e+05 Fmax= 1.93161e+04, atom= 1615\n",
      "Step=  258, Dmax= 1.6e-02 nm, Epot= -4.95659e+05 Fmax= 2.40842e+03, atom= 1615\n",
      "Step=  259, Dmax= 1.9e-02 nm, Epot= -4.95800e+05 Fmax= 2.34805e+04, atom= 1615\n",
      "Step=  260, Dmax= 2.3e-02 nm, Epot= -4.96316e+05 Fmax= 7.78175e+03, atom= 1615\n",
      "Step=  262, Dmax= 1.4e-02 nm, Epot= -4.96400e+05 Fmax= 1.09599e+04, atom= 1615\n",
      "Step=  263, Dmax= 1.6e-02 nm, Epot= -4.96505e+05 Fmax= 1.13659e+04, atom= 1615\n",
      "Step=  264, Dmax= 2.0e-02 nm, Epot= -4.96538e+05 Fmax= 1.55896e+04, atom= 1615\n",
      "Step=  265, Dmax= 2.4e-02 nm, Epot= -4.96620e+05 Fmax= 1.65107e+04, atom= 1615\n",
      "Step=  267, Dmax= 1.4e-02 nm, Epot= -4.96929e+05 Fmax= 2.67165e+03, atom= 1615\n",
      "Step=  268, Dmax= 1.7e-02 nm, Epot= -4.97013e+05 Fmax= 2.04287e+04, atom= 1615\n",
      "Step=  269, Dmax= 2.0e-02 nm, Epot= -4.97434e+05 Fmax= 7.25172e+03, atom= 1615\n",
      "Step=  271, Dmax= 1.2e-02 nm, Epot= -4.97522e+05 Fmax= 9.36260e+03, atom= 1615\n",
      "Step=  272, Dmax= 1.5e-02 nm, Epot= -4.97610e+05 Fmax= 1.06695e+04, atom= 1615\n",
      "Step=  273, Dmax= 1.8e-02 nm, Epot= -4.97663e+05 Fmax= 1.32521e+04, atom= 1615\n",
      "Step=  274, Dmax= 2.1e-02 nm, Epot= -4.97711e+05 Fmax= 1.56356e+04, atom= 1615\n",
      "Step=  276, Dmax= 1.3e-02 nm, Epot= -4.98008e+05 Fmax= 1.75906e+03, atom= 1615\n",
      "Step=  277, Dmax= 1.5e-02 nm, Epot= -4.98254e+05 Fmax= 1.90150e+04, atom= 1615\n",
      "Step=  278, Dmax= 1.8e-02 nm, Epot= -4.98646e+05 Fmax= 6.04207e+03, atom= 1615\n",
      "Step=  280, Dmax= 1.1e-02 nm, Epot= -4.98725e+05 Fmax= 8.99108e+03, atom= 1615\n",
      "Step=  281, Dmax= 1.3e-02 nm, Epot= -4.98823e+05 Fmax= 8.92648e+03, atom= 1615\n",
      "Step=  282, Dmax= 1.6e-02 nm, Epot= -4.98861e+05 Fmax= 1.26896e+04, atom= 1615\n",
      "Step=  283, Dmax= 1.9e-02 nm, Epot= -4.98946e+05 Fmax= 1.30825e+04, atom= 1615\n",
      "Step=  285, Dmax= 1.1e-02 nm, Epot= -4.99174e+05 Fmax= 2.33248e+03, atom= 1615\n",
      "Step=  286, Dmax= 1.4e-02 nm, Epot= -4.99280e+05 Fmax= 1.61842e+04, atom= 1615\n",
      "Step=  287, Dmax= 1.6e-02 nm, Epot= -4.99589e+05 Fmax= 6.04103e+03, atom= 1615\n",
      "Step=  289, Dmax= 9.8e-03 nm, Epot= -4.99673e+05 Fmax= 7.30371e+03, atom= 1615\n",
      "Step=  290, Dmax= 1.2e-02 nm, Epot= -4.99749e+05 Fmax= 8.77085e+03, atom= 1615\n",
      "Step=  291, Dmax= 1.4e-02 nm, Epot= -4.99812e+05 Fmax= 1.04413e+04, atom= 1615\n",
      "Step=  292, Dmax= 1.7e-02 nm, Epot= -4.99854e+05 Fmax= 1.27339e+04, atom= 1615\n",
      "Step=  293, Dmax= 2.0e-02 nm, Epot= -4.99877e+05 Fmax= 1.49142e+04, atom= 1615\n",
      "Step=  295, Dmax= 1.2e-02 nm, Epot= -5.00188e+05 Fmax= 1.62142e+03, atom= 1615\n",
      "Step=  296, Dmax= 1.5e-02 nm, Epot= -5.00300e+05 Fmax= 1.83462e+04, atom= 1615\n",
      "Step=  297, Dmax= 1.8e-02 nm, Epot= -5.00764e+05 Fmax= 5.52932e+03, atom= 1615\n"
     ]
    },
    {
     "name": "stdout",
     "output_type": "stream",
     "text": [
      "Step=  299, Dmax= 1.1e-02 nm, Epot= -5.00810e+05 Fmax= 8.76613e+03, atom= 1615\n",
      "Step=  300, Dmax= 1.3e-02 nm, Epot= -5.00901e+05 Fmax= 8.50854e+03, atom= 1615\n",
      "Step=  302, Dmax= 7.6e-03 nm, Epot= -5.01053e+05 Fmax= 1.86450e+03, atom= 1615\n",
      "Step=  303, Dmax= 9.1e-03 nm, Epot= -5.01178e+05 Fmax= 1.06245e+04, atom= 1615\n",
      "Step=  304, Dmax= 1.1e-02 nm, Epot= -5.01376e+05 Fmax= 4.32074e+03, atom= 1615\n",
      "Step=  306, Dmax= 6.6e-03 nm, Epot= -5.01459e+05 Fmax= 4.63846e+03, atom= 1615\n",
      "Step=  307, Dmax= 7.9e-03 nm, Epot= -5.01531e+05 Fmax= 6.08486e+03, atom= 1615\n",
      "Step=  308, Dmax= 9.4e-03 nm, Epot= -5.01605e+05 Fmax= 6.82289e+03, atom= 1615\n",
      "Step=  309, Dmax= 1.1e-02 nm, Epot= -5.01653e+05 Fmax= 8.60528e+03, atom= 1615\n",
      "Step=  310, Dmax= 1.4e-02 nm, Epot= -5.01701e+05 Fmax= 9.98952e+03, atom= 1615\n",
      "Step=  311, Dmax= 1.6e-02 nm, Epot= -5.01706e+05 Fmax= 1.22106e+04, atom= 1615\n",
      "Step=  313, Dmax= 9.8e-03 nm, Epot= -5.01995e+05 Fmax= 1.07583e+03, atom= 1615\n",
      "Step=  314, Dmax= 1.2e-02 nm, Epot= -5.02157e+05 Fmax= 1.49353e+04, atom= 1615\n",
      "Step=  315, Dmax= 1.4e-02 nm, Epot= -5.02613e+05 Fmax= 4.23150e+03, atom= 1615\n",
      "Step=  317, Dmax= 8.5e-03 nm, Epot= -5.02643e+05 Fmax= 7.23196e+03, atom= 1615\n",
      "Step=  318, Dmax= 1.0e-02 nm, Epot= -5.02735e+05 Fmax= 6.63032e+03, atom= 1615\n",
      "Step=  320, Dmax= 6.1e-03 nm, Epot= -5.02873e+05 Fmax= 1.68423e+03, atom= 1615\n",
      "Step=  321, Dmax= 7.3e-03 nm, Epot= -5.02948e+05 Fmax= 8.34229e+03, atom= 1615\n",
      "Step=  322, Dmax= 8.8e-03 nm, Epot= -5.03131e+05 Fmax= 3.63894e+03, atom= 1615\n",
      "Step=  324, Dmax= 5.3e-03 nm, Epot= -5.03208e+05 Fmax= 3.54843e+03, atom= 1615\n",
      "Step=  325, Dmax= 6.3e-03 nm, Epot= -5.03267e+05 Fmax= 5.05255e+03, atom= 1615\n",
      "Step=  326, Dmax= 7.6e-03 nm, Epot= -5.03336e+05 Fmax= 5.30057e+03, atom= 1615\n",
      "Step=  327, Dmax= 9.1e-03 nm, Epot= -5.03365e+05 Fmax= 7.07807e+03, atom= 1615\n",
      "Step=  328, Dmax= 1.1e-02 nm, Epot= -5.03413e+05 Fmax= 7.83505e+03, atom= 1615\n",
      "Step=  330, Dmax= 6.5e-03 nm, Epot= -5.03611e+05 Fmax= 1.12350e+03, atom= 1615\n",
      "Step=  331, Dmax= 7.9e-03 nm, Epot= -5.03715e+05 Fmax= 9.64191e+03, atom= 1615\n",
      "Step=  332, Dmax= 9.4e-03 nm, Epot= -5.03984e+05 Fmax= 3.25263e+03, atom= 1615\n",
      "Step=  334, Dmax= 5.7e-03 nm, Epot= -5.04042e+05 Fmax= 4.48810e+03, atom= 1615\n",
      "Step=  335, Dmax= 6.8e-03 nm, Epot= -5.04107e+05 Fmax= 4.76303e+03, atom= 1615\n",
      "Step=  336, Dmax= 8.1e-03 nm, Epot= -5.04138e+05 Fmax= 6.37848e+03, atom= 1615\n",
      "Step=  337, Dmax= 9.8e-03 nm, Epot= -5.04188e+05 Fmax= 6.93798e+03, atom= 1615\n",
      "Step=  339, Dmax= 5.9e-03 nm, Epot= -5.04366e+05 Fmax= 1.05763e+03, atom= 2045\n",
      "Step=  340, Dmax= 7.0e-03 nm, Epot= -5.04451e+05 Fmax= 8.68967e+03, atom= 2045\n",
      "Step=  341, Dmax= 8.4e-03 nm, Epot= -5.04708e+05 Fmax= 2.94448e+03, atom= 2045\n",
      "Step=  343, Dmax= 5.1e-03 nm, Epot= -5.04766e+05 Fmax= 4.04169e+03, atom= 2045\n",
      "Step=  344, Dmax= 6.1e-03 nm, Epot= -5.04830e+05 Fmax= 4.30248e+03, atom= 2045\n",
      "Step=  345, Dmax= 7.3e-03 nm, Epot= -5.04867e+05 Fmax= 5.74698e+03, atom= 2045\n",
      "Step=  346, Dmax= 8.8e-03 nm, Epot= -5.04919e+05 Fmax= 6.26257e+03, atom= 2045\n",
      "Step=  348, Dmax= 5.3e-03 nm, Epot= -5.05071e+05 Fmax= 9.30714e+02, atom= 2045\n",
      "\n",
      "writing lowest energy coordinates.\n",
      "\n",
      "Steepest Descents converged to Fmax < 1000 in 349 steps\n",
      "Potential Energy  = -5.0507066e+05\n",
      "Maximum force     =  9.3071356e+02 on atom 2045\n",
      "Norm of force     =  3.9853042e+01\n",
      "\n",
      "GROMACS reminds you: \"Fresh Air, Green Hair\" (Frank Black)\n",
      "\n"
     ]
    }
   ],
   "source": [
    "! gmx grompp -f em.mdp -c complex_solv_ions.gro -p topol.top -o em.tpr\n",
    "\n",
    "! gmx mdrun -v -deffnm em\n",
    "# ! gmx mdrun -v -deffnm em -nt 8 &\n",
    "# ampersand used to continue running even the shell is closed in linux shells in general"
   ]
  },
  {
   "cell_type": "markdown",
   "metadata": {},
   "source": [
    "#### view potential graph of Energy minimisation"
   ]
  },
  {
   "cell_type": "code",
   "execution_count": null,
   "metadata": {},
   "outputs": [],
   "source": [
    "# view potential after energy minimization\n",
    "# run in terminal\n",
    "gmx energy -f em.edr -o potential.xvg"
   ]
  },
  {
   "cell_type": "code",
   "execution_count": null,
   "metadata": {},
   "outputs": [],
   "source": [
    "potential = np.genfromtxt([i for i in open('potential.xvg').read().splitlines() \n",
    "    if not i.startswith(('#','@'))])\n",
    "\n",
    "plt.plot(*potential.T)\n",
    "plt.xlabel('stop')\n",
    "plt.ylabel('potential')"
   ]
  },
  {
   "cell_type": "markdown",
   "metadata": {},
   "source": [
    "#### 6. Equilibration"
   ]
  },
  {
   "cell_type": "code",
   "execution_count": null,
   "metadata": {
    "scrolled": false
   },
   "outputs": [],
   "source": [
    "# There are a few special considerations, in this case:\n",
    "\n",
    "# 1. Applying restraints to the ligand\n",
    "# 2. Treatment of temperature coupling groups"
   ]
  },
  {
   "cell_type": "markdown",
   "metadata": {},
   "source": [
    "##### Restraining the Ligand"
   ]
  },
  {
   "cell_type": "code",
   "execution_count": null,
   "metadata": {
    "scrolled": false
   },
   "outputs": [],
   "source": [
    "# Run in terminal\n",
    "\n",
    "# To restrain the ligand, we will need to generate a position restraint topology for it. \n",
    "#    First, create an index group for JZ4 that contains only its non-hydrogen atoms:\n",
    "! gmx make_ndx -f ligand.gro -o index_ligand.ndx\n",
    "# ...\n",
    "# > 0 & ! a H*\n",
    "# > q\n",
    "# "
   ]
  },
  {
   "cell_type": "code",
   "execution_count": null,
   "metadata": {
    "scrolled": false
   },
   "outputs": [],
   "source": [
    "# Run in terminal\n",
    "\n",
    "# Then, execute the genrestr module and give this newly created index group \n",
    "    #(which will be group 3 in the index_jz4.ndx file)\n",
    "\n",
    "! gmx genrestr -f ligand.gro -n index_ligand.ndx -o posre_jz4.itp -fc 1000 1000 1000"
   ]
  },
  {
   "cell_type": "code",
   "execution_count": null,
   "metadata": {
    "scrolled": false
   },
   "outputs": [],
   "source": [
    "# Now, we need to include this information in our topology. \n",
    "    #We can do this in several ways, depending upon the conditions we wish to use. \n",
    "    #If we simply want to restrain the ligand whenever the protein is also restrained, \n",
    "    #add the following lines to your topology in the location indicated\n"
   ]
  },
  {
   "cell_type": "code",
   "execution_count": null,
   "metadata": {
    "scrolled": false
   },
   "outputs": [],
   "source": [
    "; Include Position restraint file\n",
    "#ifdef POSRES\n",
    "#include \"posre.itp\"\n",
    "#endif\n",
    "\n",
    "; Include ligand topology\n",
    "#include \"jz4.itp\"\n",
    "\n",
    "\n",
    "; Include water topology\n",
    "#include \"./charmm36-mar2019.ff/tip3p.itp\""
   ]
  },
  {
   "cell_type": "markdown",
   "metadata": {},
   "source": [
    "##### Thermostats"
   ]
  },
  {
   "cell_type": "code",
   "execution_count": null,
   "metadata": {
    "scrolled": false
   },
   "outputs": [],
   "source": [
    "# Run in terminal\n",
    "# Coupling every moleculetype to its own thermostatting group is a bad idea. For instance, if you do the following:\n",
    "    #tc-grps = Protein JZ4 SOL CL\n",
    "    # Your system will probably blow up, since the temperature coupling algorithms\n",
    "    #are not stable enough to control the fluctuations in kinetic energy that groups with a few atoms \n",
    "    #(i.e., JZ4 and CL) will produce. Do not couple every single species in your system separately.\n",
    "\n",
    "# create an index which contain protein and ligand for the purpose of thermostats\n",
    "    # this is for temperature coupling \n",
    "! gmx make_ndx -f em.gro -o index_protein_ligand.ndx\n",
    "# > 1 | 13\n",
    "# > q\n"
   ]
  },
  {
   "cell_type": "markdown",
   "metadata": {},
   "source": [
    "##### NVT equilibration"
   ]
  },
  {
   "cell_type": "code",
   "execution_count": 16,
   "metadata": {
    "scrolled": true
   },
   "outputs": [
    {
     "name": "stdout",
     "output_type": "stream",
     "text": [
      "                      :-) GROMACS - gmx grompp, 2021.2 (-:\n",
      "\n",
      "                            GROMACS is written by:\n",
      "     Andrey Alekseenko              Emile Apol              Rossen Apostolov     \n",
      "         Paul Bauer           Herman J.C. Berendsen           Par Bjelkmar       \n",
      "       Christian Blau           Viacheslav Bolnykh             Kevin Boyd        \n",
      "     Aldert van Buuren           Rudi van Drunen             Anton Feenstra      \n",
      "    Gilles Gouaillardet             Alan Gray               Gerrit Groenhof      \n",
      "       Anca Hamuraru            Vincent Hindriksen          M. Eric Irrgang      \n",
      "      Aleksei Iupinov           Christoph Junghans             Joe Jordan        \n",
      "    Dimitrios Karkoulis            Peter Kasson                Jiri Kraus        \n",
      "      Carsten Kutzner              Per Larsson              Justin A. Lemkul     \n",
      "       Viveca Lindahl            Magnus Lundborg             Erik Marklund       \n",
      "        Pascal Merz             Pieter Meulenhoff            Teemu Murtola       \n",
      "        Szilard Pall               Sander Pronk              Roland Schulz       \n",
      "       Michael Shirts            Alexey Shvetsov             Alfons Sijbers      \n",
      "       Peter Tieleman              Jon Vincent              Teemu Virolainen     \n",
      "     Christian Wennberg            Maarten Wolf              Artem Zhmurov       \n",
      "                           and the project leaders:\n",
      "        Mark Abraham, Berk Hess, Erik Lindahl, and David van der Spoel\n",
      "\n",
      "Copyright (c) 1991-2000, University of Groningen, The Netherlands.\n",
      "Copyright (c) 2001-2019, The GROMACS development team at\n",
      "Uppsala University, Stockholm University and\n",
      "the Royal Institute of Technology, Sweden.\n",
      "check out http://www.gromacs.org for more information.\n",
      "\n",
      "GROMACS is free software; you can redistribute it and/or modify it\n",
      "under the terms of the GNU Lesser General Public License\n",
      "as published by the Free Software Foundation; either version 2.1\n",
      "of the License, or (at your option) any later version.\n",
      "\n",
      "GROMACS:      gmx grompp, version 2021.2\n",
      "Executable:   /usr/local/gromacs/bin/gmx\n",
      "Data prefix:  /usr/local/gromacs\n",
      "Working dir:  /home/karthi/python_documents/md_notebook_copy1\n",
      "Command line:\n",
      "  gmx grompp -f nvt.mdp -c em.gro -r em.gro -p topol.top -n index_protein_ligand.ndx -o nvt.tpr\n",
      "\n",
      "Ignoring obsolete mdp entry 'title'\n",
      "Ignoring obsolete mdp entry 'ns_type'\n",
      "Setting the LD random seed to -19660838\n",
      "\n",
      "Generated 100465 of the 100576 non-bonded parameter combinations\n",
      "Generating 1-4 interactions: fudge = 1\n",
      "\n",
      "Generated 66298 of the 100576 1-4 parameter combinations\n",
      "\n",
      "Excluding 3 bonded neighbours molecule type 'Protein_chain_A'\n",
      "\n",
      "turning H bonds into constraints...\n",
      "\n",
      "Excluding 3 bonded neighbours molecule type 'JZ4'\n",
      "\n",
      "turning H bonds into constraints...\n",
      "\n",
      "Excluding 2 bonded neighbours molecule type 'SOL'\n",
      "\n",
      "turning H bonds into constraints...\n",
      "\n",
      "Excluding 1 bonded neighbours molecule type 'CL'\n",
      "\n",
      "turning H bonds into constraints...\n",
      "\n",
      "Setting gen_seed to -449053069\n",
      "\n",
      "Velocities were taken from a Maxwell distribution at 300 K\n",
      "Number of degrees of freedom in T-Coupling group Protein_JZ4 is 6582.71\n",
      "Number of degrees of freedom in T-Coupling group Water_and_ions is 61743.29\n",
      "\n",
      "Determining Verlet buffer for a tolerance of 0.005 kJ/mol/ps at 300 K\n",
      "\n",
      "Calculated rlist for 1x1 atom pair-list as 1.293 nm, buffer size 0.093 nm\n",
      "\n",
      "Set rlist, assuming 4x4 atom pair-list, to 1.221 nm, buffer size 0.021 nm\n",
      "\n",
      "Note that mdrun will redetermine rlist based on the actual pair-list setup\n",
      "Calculating fourier grid dimensions for X Y Z\n",
      "Using a fourier grid of 52x52x52, spacing 0.151 0.151 0.151\n",
      "\n",
      "Estimate for the relative computational load of the PME mesh part: 0.16\n",
      "\n",
      "This run will generate roughly 19 Mb of data\n",
      "\n",
      "GROMACS reminds you: \"Product of optimism and knowledge is a constant.\" (Lev Landau)\n",
      "\n",
      "                      :-) GROMACS - gmx mdrun, 2021.2 (-:\n",
      "\n",
      "                            GROMACS is written by:\n",
      "     Andrey Alekseenko              Emile Apol              Rossen Apostolov     \n",
      "         Paul Bauer           Herman J.C. Berendsen           Par Bjelkmar       \n",
      "       Christian Blau           Viacheslav Bolnykh             Kevin Boyd        \n",
      "     Aldert van Buuren           Rudi van Drunen             Anton Feenstra      \n",
      "    Gilles Gouaillardet             Alan Gray               Gerrit Groenhof      \n",
      "       Anca Hamuraru            Vincent Hindriksen          M. Eric Irrgang      \n",
      "      Aleksei Iupinov           Christoph Junghans             Joe Jordan        \n",
      "    Dimitrios Karkoulis            Peter Kasson                Jiri Kraus        \n",
      "      Carsten Kutzner              Per Larsson              Justin A. Lemkul     \n",
      "       Viveca Lindahl            Magnus Lundborg             Erik Marklund       \n",
      "        Pascal Merz             Pieter Meulenhoff            Teemu Murtola       \n",
      "        Szilard Pall               Sander Pronk              Roland Schulz       \n",
      "       Michael Shirts            Alexey Shvetsov             Alfons Sijbers      \n",
      "       Peter Tieleman              Jon Vincent              Teemu Virolainen     \n",
      "     Christian Wennberg            Maarten Wolf              Artem Zhmurov       \n",
      "                           and the project leaders:\n",
      "        Mark Abraham, Berk Hess, Erik Lindahl, and David van der Spoel\n",
      "\n",
      "Copyright (c) 1991-2000, University of Groningen, The Netherlands.\n",
      "Copyright (c) 2001-2019, The GROMACS development team at\n",
      "Uppsala University, Stockholm University and\n",
      "the Royal Institute of Technology, Sweden.\n",
      "check out http://www.gromacs.org for more information.\n",
      "\n",
      "GROMACS is free software; you can redistribute it and/or modify it\n",
      "under the terms of the GNU Lesser General Public License\n",
      "as published by the Free Software Foundation; either version 2.1\n",
      "of the License, or (at your option) any later version.\n",
      "\n",
      "GROMACS:      gmx mdrun, version 2021.2\n",
      "Executable:   /usr/local/gromacs/bin/gmx\n",
      "Data prefix:  /usr/local/gromacs\n",
      "Working dir:  /home/karthi/python_documents/md_notebook_copy1\n",
      "Command line:\n",
      "  gmx mdrun -v -deffnm nvt\n",
      "\n",
      "Reading file nvt.tpr, VERSION 2021.2 (single precision)\n",
      "Changing nstlist from 20 to 80, rlist from 1.221 to 1.322\n",
      "\n",
      "Using 1 MPI thread\n",
      "Using 8 OpenMP threads \n",
      "\n",
      "starting mdrun 'LYSOZYME in water'\n",
      "50000 steps,    100.0 ps.\n",
      "step 49900, remaining wall clock time:     0 s          \n",
      "Writing final coordinates.\n",
      "step 50000, remaining wall clock time:     0 s          \n",
      "               Core t (s)   Wall t (s)        (%)\n",
      "       Time:     3105.103      388.138      800.0\n",
      "                 (ns/day)    (hour/ns)\n",
      "Performance:       22.261        1.078\n",
      "\n",
      "GROMACS reminds you: \"Microsecond Here I Come\" (P.J. Van Maaren)\n",
      "\n"
     ]
    }
   ],
   "source": [
    "# ampersand may be used to continue running even the shell is closed in linux shells in general\n",
    "! gmx grompp -f nvt.mdp -c em.gro -r em.gro -p topol.top -n index_protein_ligand.ndx -o nvt.tpr\n",
    "! gmx mdrun -v -deffnm nvt"
   ]
  },
  {
   "cell_type": "code",
   "execution_count": null,
   "metadata": {
    "scrolled": false
   },
   "outputs": [],
   "source": [
    "# ! gmx mdrun -v -deffnm nvt -cpi nvt.cpt -nt 6\n",
    "# if md run is interruprted then uncomment and excecute this cell to continue operation "
   ]
  },
  {
   "cell_type": "markdown",
   "metadata": {},
   "source": [
    "#### view Temperature graph after NVT equilibration"
   ]
  },
  {
   "cell_type": "code",
   "execution_count": null,
   "metadata": {},
   "outputs": [],
   "source": [
    "! printf \"15 0\" | gmx energy -f nvt.edr -o temperature.xvg "
   ]
  },
  {
   "cell_type": "code",
   "execution_count": null,
   "metadata": {},
   "outputs": [],
   "source": [
    "temperature = np.genfromtxt([i for i in open('temperature.xvg').read().splitlines() \n",
    "    if not i.startswith(('#','@'))]) \n",
    "\n",
    "plt.plot(*temperature.T)\n",
    "plt.xlabel('stop')\n",
    "plt.ylabel('temperature')"
   ]
  },
  {
   "cell_type": "markdown",
   "metadata": {},
   "source": [
    "##### 7. NPT equilibration"
   ]
  },
  {
   "cell_type": "code",
   "execution_count": 17,
   "metadata": {
    "scrolled": false
   },
   "outputs": [
    {
     "name": "stdout",
     "output_type": "stream",
     "text": [
      "                      :-) GROMACS - gmx grompp, 2021.2 (-:\n",
      "\n",
      "                            GROMACS is written by:\n",
      "     Andrey Alekseenko              Emile Apol              Rossen Apostolov     \n",
      "         Paul Bauer           Herman J.C. Berendsen           Par Bjelkmar       \n",
      "       Christian Blau           Viacheslav Bolnykh             Kevin Boyd        \n",
      "     Aldert van Buuren           Rudi van Drunen             Anton Feenstra      \n",
      "    Gilles Gouaillardet             Alan Gray               Gerrit Groenhof      \n",
      "       Anca Hamuraru            Vincent Hindriksen          M. Eric Irrgang      \n",
      "      Aleksei Iupinov           Christoph Junghans             Joe Jordan        \n",
      "    Dimitrios Karkoulis            Peter Kasson                Jiri Kraus        \n",
      "      Carsten Kutzner              Per Larsson              Justin A. Lemkul     \n",
      "       Viveca Lindahl            Magnus Lundborg             Erik Marklund       \n",
      "        Pascal Merz             Pieter Meulenhoff            Teemu Murtola       \n",
      "        Szilard Pall               Sander Pronk              Roland Schulz       \n",
      "       Michael Shirts            Alexey Shvetsov             Alfons Sijbers      \n",
      "       Peter Tieleman              Jon Vincent              Teemu Virolainen     \n",
      "     Christian Wennberg            Maarten Wolf              Artem Zhmurov       \n",
      "                           and the project leaders:\n",
      "        Mark Abraham, Berk Hess, Erik Lindahl, and David van der Spoel\n",
      "\n",
      "Copyright (c) 1991-2000, University of Groningen, The Netherlands.\n",
      "Copyright (c) 2001-2019, The GROMACS development team at\n",
      "Uppsala University, Stockholm University and\n",
      "the Royal Institute of Technology, Sweden.\n",
      "check out http://www.gromacs.org for more information.\n",
      "\n",
      "GROMACS is free software; you can redistribute it and/or modify it\n",
      "under the terms of the GNU Lesser General Public License\n",
      "as published by the Free Software Foundation; either version 2.1\n",
      "of the License, or (at your option) any later version.\n",
      "\n",
      "GROMACS:      gmx grompp, version 2021.2\n",
      "Executable:   /usr/local/gromacs/bin/gmx\n",
      "Data prefix:  /usr/local/gromacs\n",
      "Working dir:  /home/karthi/python_documents/md_notebook_copy1\n",
      "Command line:\n",
      "  gmx grompp -f npt.mdp -c nvt.gro -t nvt.cpt -r nvt.gro -p topol.top -n index.ndx -o npt.tpr\n",
      "\n",
      "Ignoring obsolete mdp entry 'title'\n",
      "Ignoring obsolete mdp entry 'ns_type'\n",
      "Setting the LD random seed to 670799837\n",
      "\n",
      "Generated 100465 of the 100576 non-bonded parameter combinations\n",
      "Generating 1-4 interactions: fudge = 1\n",
      "\n",
      "Generated 66298 of the 100576 1-4 parameter combinations\n",
      "\n",
      "Excluding 3 bonded neighbours molecule type 'Protein_chain_A'\n",
      "\n",
      "turning H bonds into constraints...\n",
      "\n",
      "Excluding 3 bonded neighbours molecule type 'JZ4'\n",
      "\n",
      "turning H bonds into constraints...\n",
      "\n",
      "Excluding 2 bonded neighbours molecule type 'SOL'\n",
      "\n",
      "turning H bonds into constraints...\n",
      "\n",
      "Excluding 1 bonded neighbours molecule type 'CL'\n",
      "\n",
      "turning H bonds into constraints...\n",
      "\n",
      "The center of mass of the position restraint coord's is  5.885  5.891  2.783\n",
      "\n",
      "The center of mass of the position restraint coord's is  5.885  5.891  2.783\n",
      "Number of degrees of freedom in T-Coupling group Protein_JZ4 is 6582.71\n",
      "Number of degrees of freedom in T-Coupling group Water_and_ions is 61743.29\n",
      "\n",
      "Determining Verlet buffer for a tolerance of 0.005 kJ/mol/ps at 300 K\n",
      "\n",
      "Calculated rlist for 1x1 atom pair-list as 1.293 nm, buffer size 0.093 nm\n",
      "\n",
      "Set rlist, assuming 4x4 atom pair-list, to 1.221 nm, buffer size 0.021 nm\n",
      "\n",
      "Note that mdrun will redetermine rlist based on the actual pair-list setup\n",
      "\n",
      "Reading Coordinates, Velocities and Box size from old trajectory\n",
      "\n",
      "Will read whole trajectory\n",
      "Last frame         -1 time  100.000   \n",
      "\n",
      "Using frame at t = 100 ps\n",
      "\n",
      "Starting time for run is 0 ps\n",
      "Calculating fourier grid dimensions for X Y Z\n",
      "Using a fourier grid of 52x52x52, spacing 0.151 0.151 0.151\n",
      "\n",
      "Estimate for the relative computational load of the PME mesh part: 0.16\n",
      "\n",
      "This run will generate roughly 19 Mb of data\n",
      "\n",
      "GROMACS reminds you: \"Millions saw the apple fall, Newton was the only one who asked why?\" (Bernard Baruch)\n",
      "\n",
      "                      :-) GROMACS - gmx mdrun, 2021.2 (-:\n",
      "\n",
      "                            GROMACS is written by:\n",
      "     Andrey Alekseenko              Emile Apol              Rossen Apostolov     \n",
      "         Paul Bauer           Herman J.C. Berendsen           Par Bjelkmar       \n",
      "       Christian Blau           Viacheslav Bolnykh             Kevin Boyd        \n",
      "     Aldert van Buuren           Rudi van Drunen             Anton Feenstra      \n",
      "    Gilles Gouaillardet             Alan Gray               Gerrit Groenhof      \n",
      "       Anca Hamuraru            Vincent Hindriksen          M. Eric Irrgang      \n",
      "      Aleksei Iupinov           Christoph Junghans             Joe Jordan        \n",
      "    Dimitrios Karkoulis            Peter Kasson                Jiri Kraus        \n",
      "      Carsten Kutzner              Per Larsson              Justin A. Lemkul     \n",
      "       Viveca Lindahl            Magnus Lundborg             Erik Marklund       \n",
      "        Pascal Merz             Pieter Meulenhoff            Teemu Murtola       \n",
      "        Szilard Pall               Sander Pronk              Roland Schulz       \n",
      "       Michael Shirts            Alexey Shvetsov             Alfons Sijbers      \n",
      "       Peter Tieleman              Jon Vincent              Teemu Virolainen     \n",
      "     Christian Wennberg            Maarten Wolf              Artem Zhmurov       \n",
      "                           and the project leaders:\n",
      "        Mark Abraham, Berk Hess, Erik Lindahl, and David van der Spoel\n",
      "\n",
      "Copyright (c) 1991-2000, University of Groningen, The Netherlands.\n",
      "Copyright (c) 2001-2019, The GROMACS development team at\n",
      "Uppsala University, Stockholm University and\n",
      "the Royal Institute of Technology, Sweden.\n",
      "check out http://www.gromacs.org for more information.\n",
      "\n",
      "GROMACS is free software; you can redistribute it and/or modify it\n",
      "under the terms of the GNU Lesser General Public License\n",
      "as published by the Free Software Foundation; either version 2.1\n",
      "of the License, or (at your option) any later version.\n",
      "\n",
      "GROMACS:      gmx mdrun, version 2021.2\n",
      "Executable:   /usr/local/gromacs/bin/gmx\n",
      "Data prefix:  /usr/local/gromacs\n",
      "Working dir:  /home/karthi/python_documents/md_notebook_copy1\n",
      "Command line:\n",
      "  gmx mdrun -v -deffnm npt\n",
      "\n",
      "Reading file npt.tpr, VERSION 2021.2 (single precision)\n",
      "Changing nstlist from 20 to 80, rlist from 1.221 to 1.322\n",
      "\n",
      "Using 1 MPI thread\n",
      "Using 8 OpenMP threads \n",
      "\n",
      "starting mdrun 'LYSOZYME in water'\n",
      "50000 steps,    100.0 ps.\n",
      "step 49900, remaining wall clock time:     0 s          \n",
      "Writing final coordinates.\n",
      "step 50000, remaining wall clock time:     0 s          \n",
      "               Core t (s)   Wall t (s)        (%)\n",
      "       Time:     3639.141      454.893      800.0\n",
      "                 (ns/day)    (hour/ns)\n",
      "Performance:       18.994        1.264\n",
      "\n",
      "GROMACS reminds you: \"A program that has not been tested does not work.\" (Bjarne Stroustrup)\n",
      "\n"
     ]
    }
   ],
   "source": [
    "# ampersand may be used to continue running even the shell is closed in linux shells in general\n",
    "! gmx grompp -f npt.mdp -c nvt.gro -t nvt.cpt -r nvt.gro -p topol.top -n index_protein_ligand.ndx -o npt.tpr\n",
    "! gmx mdrun -v -deffnm npt"
   ]
  },
  {
   "cell_type": "code",
   "execution_count": null,
   "metadata": {
    "scrolled": false
   },
   "outputs": [],
   "source": [
    "# if md run is interruprted continue operation like previous command"
   ]
  },
  {
   "cell_type": "markdown",
   "metadata": {},
   "source": [
    "#### View Pressure and Density graph after NVT equilibration"
   ]
  },
  {
   "cell_type": "code",
   "execution_count": null,
   "metadata": {},
   "outputs": [],
   "source": [
    "! printf \"17 0\" | gmx energy -f npt.edr -o pressure.xvg "
   ]
  },
  {
   "cell_type": "code",
   "execution_count": null,
   "metadata": {},
   "outputs": [],
   "source": [
    "pressure = np.genfromtxt([i for i in open('pressure.xvg').read().splitlines() \n",
    "    if not i.startswith(('#','@'))])\n",
    "\n",
    "plt.plot(*pressure.T)\n",
    "plt.xlabel('stop')\n",
    "plt.ylabel('pressure')"
   ]
  },
  {
   "cell_type": "code",
   "execution_count": null,
   "metadata": {},
   "outputs": [],
   "source": [
    "! printf \"24 0\" | gmx energy -f npt.edr -o density.xvg "
   ]
  },
  {
   "cell_type": "code",
   "execution_count": null,
   "metadata": {},
   "outputs": [],
   "source": [
    "density = np.genfromtxt([i for i in open('density.xvg').read().splitlines() \n",
    "    if not i.startswith(('#','@'))]) \n",
    "\n",
    "plt.plot(*density.T)\n",
    "plt.xlabel('stop')\n",
    "plt.ylabel('density')"
   ]
  },
  {
   "cell_type": "markdown",
   "metadata": {},
   "source": [
    "#### 8. Production MD"
   ]
  },
  {
   "cell_type": "code",
   "execution_count": null,
   "metadata": {
    "scrolled": false
   },
   "outputs": [],
   "source": [
    "# ampersand may be used to continue running even the shell is closed in linux shells in general\n",
    "! gmx grompp -f md.mdp -c npt.gro -t npt.cpt -p topol.top -n index.ndx -o md.tpr\n",
    "\n",
    "! gmx mdrun -v -deffnm md\n",
    "\n",
    "# if md run is interruprted continue operation like previous command"
   ]
  },
  {
   "cell_type": "markdown",
   "metadata": {},
   "source": [
    "#### 9. Analysis"
   ]
  },
  {
   "cell_type": "markdown",
   "metadata": {},
   "source": [
    "#### Removing periodicities in the trajectories"
   ]
  },
  {
   "cell_type": "code",
   "execution_count": null,
   "metadata": {
    "scrolled": false
   },
   "outputs": [],
   "source": [
    "# correct trajectory of nvt\n",
    "# when prompted give 1,1 for protein only or 0,0 for System itself\n",
    "# change printf statement if you want\n",
    "\n",
    "! printf \"System \\n System \\n\" | gmx trjconv -s nvt.tpr -f nvt.xtc -o nvt_corrected.xtc -pbc mol -ur compact -center\n"
   ]
  },
  {
   "cell_type": "code",
   "execution_count": null,
   "metadata": {
    "scrolled": false
   },
   "outputs": [],
   "source": [
    "# correct trajectory of npt\n",
    "# when prompted give 1,1 for Protein only or 0,0 for system itself\n",
    "# change printf statement if you want\n",
    "\n",
    "! printf \"Protein \\n Protein \\n\" | gmx trjconv -s npt.tpr -f npt.xtc -o npt_corrected.xtc -pbc mol -ur compact -center\n"
   ]
  },
  {
   "cell_type": "code",
   "execution_count": null,
   "metadata": {
    "scrolled": false
   },
   "outputs": [],
   "source": [
    "# correct trajectory of md\n",
    "# when prompted give 1,1 for protein only or 0,0 for System itself\n",
    "# change printf statement if you want\n",
    "\n",
    "! printf \"System \\n System \\n\" | gmx trjconv -s md.tpr -f md.xtc -o md_corrected.xtc -pbc mol -ur compact -center"
   ]
  },
  {
   "cell_type": "code",
   "execution_count": null,
   "metadata": {
    "scrolled": false
   },
   "outputs": [],
   "source": [
    "# For even smoother visualization, it may be beneficial to perform rotational and translational fitting. Execute trjconv as follows:\n",
    "# Choose \"Backbone\" to perform least-squares fitting to the protein backbone, and \"System\" for output. \n",
    "# change printf statement if you want\n",
    "\n",
    "! printf \"Backbone \\n System \\n\" | gmx trjconv -s md.tpr -f md_corrected.xtc -o md_fit.xtc -fit rot+trans"
   ]
  },
  {
   "cell_type": "markdown",
   "metadata": {},
   "source": [
    "#### RMSD, RMSF, Gyrate, HBonds"
   ]
  },
  {
   "cell_type": "code",
   "execution_count": null,
   "metadata": {
    "scrolled": false
   },
   "outputs": [],
   "source": [
    "# RMSD: Root Mean Square Deviation\n",
    "# Enter what w.r.t what\n",
    "# change printf statement\n",
    "# when prompted give 4,4 for Backbone\n",
    "\n",
    "! printf \"Backbone \\n Backbone \\n\" | gmx rms -s md.tpr -f md_corrected.xtc -o rmsd.xvg\n",
    "\n",
    "xvg_file = np.genfromtxt([i for i in open(\"rmsd.xvg\").read().splitlines() \n",
    "    if not i.startswith(('#','@'))]) \n",
    "plt.plot(*xvg_file.T)"
   ]
  },
  {
   "cell_type": "code",
   "execution_count": null,
   "metadata": {
    "scrolled": false
   },
   "outputs": [],
   "source": [
    "# RMSF: Root Mean Square Fluctuation\n",
    "# Enter what w.r.t what\n",
    "# change printf statement\n",
    "# when prompted give 3,3 for C-alpha\n",
    "\n",
    "! printf \"C-alpha \\n C-alpha \\n\" | gmx rmsf -s md.tpr -f md_corrected.xtc -o rmsf.xvg -res \n",
    "\n",
    "xvg_file = np.genfromtxt([i for i in open(\"rmsf.xvg\").read().splitlines() \n",
    "    if not i.startswith(('#','@'))]) \n",
    "plt.plot(*xvg_file.T)"
   ]
  },
  {
   "cell_type": "code",
   "execution_count": null,
   "metadata": {
    "scrolled": false
   },
   "outputs": [],
   "source": [
    "# Gyrate: Radius of Gyration\n",
    "# when prompted give 1,1 for Protein \n",
    "\n",
    "! printf \"Protein \\n Protein \\n\" | gmx gyrate -s md_corrected.xtc -f md_corrected.xtc -o gyration.xvg\n",
    "\n",
    "xvg_file = np.genfromtxt([i for i in open(\"gyration.xvg\").read().splitlines() \n",
    "    if not i.startswith(('#','@'))]) \n",
    "plt.plot(*xvg_file.T)"
   ]
  },
  {
   "cell_type": "code",
   "execution_count": null,
   "metadata": {
    "scrolled": false
   },
   "outputs": [],
   "source": [
    "# hbonds: Hydrogen Bonds\n",
    "# Enter what w.r.t what\n",
    "# change printf statement\n",
    "# when prompted give 1,1 for Protein\n",
    "\n",
    "! printf \"Protein \\n Protein \\n\" | gmx hbond -s md.tpr -f md_corrected.xtc -num hbond.xvg\n",
    "\n",
    "xvg_file = np.genfromtxt([i for i in open(\"hbond.xvg\").read().splitlines() \n",
    "    if not i.startswith(('#','@'))]) \n",
    "plt.plot(*xvg_file.T)"
   ]
  },
  {
   "cell_type": "code",
   "execution_count": null,
   "metadata": {},
   "outputs": [],
   "source": []
  }
 ],
 "metadata": {
  "interpreter": {
   "hash": "71aecfd13c06d9860e97006eb09fbdbed6c053b19fa8fb509513eff45f012d82"
  },
  "kernelspec": {
   "display_name": "Python 3",
   "language": "python",
   "name": "python3"
  },
  "language_info": {
   "codemirror_mode": {
    "name": "ipython",
    "version": 3
   },
   "file_extension": ".py",
   "mimetype": "text/x-python",
   "name": "python",
   "nbconvert_exporter": "python",
   "pygments_lexer": "ipython3",
   "version": "3.8.8"
  }
 },
 "nbformat": 4,
 "nbformat_minor": 2
}
