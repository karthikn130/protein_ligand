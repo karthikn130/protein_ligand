{
 "cells": [
  {
   "cell_type": "markdown",
   "metadata": {},
   "source": [
    "#### Start"
   ]
  },
  {
   "cell_type": "markdown",
   "metadata": {},
   "source": [
    "#### Required imports for analysis part"
   ]
  },
  {
   "cell_type": "code",
   "execution_count": null,
   "metadata": {
    "scrolled": true
   },
   "outputs": [],
   "source": [
    "import matplotlib as mpl\n",
    "import matplotlib.pyplot as plt\n",
    "import numpy as np\n",
    "import importlib\n",
    "impo"
   ]
  },
  {
   "cell_type": "code",
   "execution_count": null,
   "metadata": {
    "scrolled": true
   },
   "outputs": [],
   "source": [
    "#import pytraj as pt\n",
    "import nglview as nv"
   ]
  },
  {
   "cell_type": "markdown",
   "metadata": {},
   "source": [
    "#### Create ligand pdb"
   ]
  },
  {
   "cell_type": "code",
   "execution_count": null,
   "metadata": {
    "scrolled": true
   },
   "outputs": [],
   "source": [
    "# separates ligand from protein ligand complex and create ligand.pdb file\n",
    "# change the ligand name wherever needed\n",
    "ligand = \"JZ4\"\n",
    "! grep $ligand protein.pdb > ligand.pdb"
   ]
  },
  {
   "cell_type": "markdown",
   "metadata": {},
   "source": [
    "#### Remove waters and non-standard residues"
   ]
  },
  {
   "cell_type": "code",
   "execution_count": 6,
   "metadata": {
    "scrolled": true
   },
   "outputs": [],
   "source": [
    "# pdb2gmx takes only protein file containing standard amino acid residues,\n",
    "    # so check the protein file, should contain only standard residues\n",
    "! grep -v HETATM protein.pdb > protein_processed.pdb"
   ]
  },
  {
   "cell_type": "markdown",
   "metadata": {},
   "source": [
    "#### 1. Protein topology"
   ]
  },
  {
   "cell_type": "code",
   "execution_count": 7,
   "metadata": {
    "scrolled": true
   },
   "outputs": [
    {
     "name": "stdout",
     "output_type": "stream",
     "text": [
      "                     :-) GROMACS - gmx pdb2gmx, 2021.2 (-:\n",
      "\n",
      "                            GROMACS is written by:\n",
      "     Andrey Alekseenko              Emile Apol              Rossen Apostolov     \n",
      "         Paul Bauer           Herman J.C. Berendsen           Par Bjelkmar       \n",
      "       Christian Blau           Viacheslav Bolnykh             Kevin Boyd        \n",
      "     Aldert van Buuren           Rudi van Drunen             Anton Feenstra      \n",
      "    Gilles Gouaillardet             Alan Gray               Gerrit Groenhof      \n",
      "       Anca Hamuraru            Vincent Hindriksen          M. Eric Irrgang      \n",
      "      Aleksei Iupinov           Christoph Junghans             Joe Jordan        \n",
      "    Dimitrios Karkoulis            Peter Kasson                Jiri Kraus        \n",
      "      Carsten Kutzner              Per Larsson              Justin A. Lemkul     \n",
      "       Viveca Lindahl            Magnus Lundborg             Erik Marklund       \n",
      "        Pascal Merz             Pieter Meulenhoff            Teemu Murtola       \n",
      "        Szilard Pall               Sander Pronk              Roland Schulz       \n",
      "       Michael Shirts            Alexey Shvetsov             Alfons Sijbers      \n",
      "       Peter Tieleman              Jon Vincent              Teemu Virolainen     \n",
      "     Christian Wennberg            Maarten Wolf              Artem Zhmurov       \n",
      "                           and the project leaders:\n",
      "        Mark Abraham, Berk Hess, Erik Lindahl, and David van der Spoel\n",
      "\n",
      "Copyright (c) 1991-2000, University of Groningen, The Netherlands.\n",
      "Copyright (c) 2001-2019, The GROMACS development team at\n",
      "Uppsala University, Stockholm University and\n",
      "the Royal Institute of Technology, Sweden.\n",
      "check out http://www.gromacs.org for more information.\n",
      "\n",
      "GROMACS is free software; you can redistribute it and/or modify it\n",
      "under the terms of the GNU Lesser General Public License\n",
      "as published by the Free Software Foundation; either version 2.1\n",
      "of the License, or (at your option) any later version.\n",
      "\n",
      "GROMACS:      gmx pdb2gmx, version 2021.2\n",
      "Executable:   /usr/local/gromacs/bin/gmx\n",
      "Data prefix:  /usr/local/gromacs\n",
      "Working dir:  /home/karthi/python_documents/project_for_md/LK01_new\n",
      "Command line:\n",
      "  gmx pdb2gmx -ignh -f protein_processed.pdb -o protein_processed.gro -water spc\n",
      "\n",
      "Select the Force Field:\n",
      "\n",
      "From current directory:\n",
      "\n",
      " 1: CHARMM36 all-atom force field (July 2020)\n",
      "\n",
      "From '/usr/local/gromacs/share/gromacs/top':\n",
      "\n",
      " 2: AMBER03 protein, nucleic AMBER94 (Duan et al., J. Comp. Chem. 24, 1999-2012, 2003)\n",
      "\n",
      " 3: AMBER94 force field (Cornell et al., JACS 117, 5179-5197, 1995)\n",
      "\n",
      " 4: AMBER96 protein, nucleic AMBER94 (Kollman et al., Acc. Chem. Res. 29, 461-469, 1996)\n",
      "\n",
      " 5: AMBER99 protein, nucleic AMBER94 (Wang et al., J. Comp. Chem. 21, 1049-1074, 2000)\n",
      "\n",
      " 6: AMBER99SB protein, nucleic AMBER94 (Hornak et al., Proteins 65, 712-725, 2006)\n",
      "\n",
      " 7: AMBER99SB-ILDN protein, nucleic AMBER94 (Lindorff-Larsen et al., Proteins 78, 1950-58, 2010)\n",
      "\n",
      " 8: AMBERGS force field (Garcia & Sanbonmatsu, PNAS 99, 2782-2787, 2002)\n",
      "\n",
      " 9: CHARMM27 all-atom force field (CHARM22 plus CMAP for proteins)\n",
      "\n",
      "10: GROMOS96 43a1 force field\n",
      "\n",
      "11: GROMOS96 43a2 force field (improved alkane dihedrals)\n",
      "\n",
      "12: GROMOS96 45a3 force field (Schuler JCC 2001 22 1205)\n",
      "\n",
      "13: GROMOS96 53a5 force field (JCC 2004 vol 25 pag 1656)\n",
      "\n",
      "14: GROMOS96 53a6 force field (JCC 2004 vol 25 pag 1656)\n",
      "\n",
      "15: GROMOS96 54a7 force field (Eur. Biophys. J. (2011), 40,, 843-856, DOI: 10.1007/s00249-011-0700-9)\n",
      "\n",
      "16: OPLS-AA/L all-atom force field (2001 aminoacid dihedrals)\n",
      "\n",
      "Using the Charmm36-feb2021 force field in directory ./charmm36-feb2021.ff\n",
      "\n",
      "going to rename ./charmm36-feb2021.ff/merged.r2b\n",
      "Opening force field file ./charmm36-feb2021.ff/merged.r2b\n",
      "Reading protein_processed.pdb...\n",
      "WARNING: all CONECT records are ignored\n",
      "Read '', 3871 atoms\n",
      "\n",
      "Analyzing pdb file\n",
      "Splitting chemical chains based on TER records or chain id changing.\n",
      "\n",
      "There are 1 chains and 0 blocks of water and 512 residues with 3871 atoms\n",
      "\n",
      "  chain  #res #atoms\n",
      "\n",
      "  1 'A'   512   3871  \n",
      "\n",
      "All occupancies are one\n",
      "All occupancies are one\n",
      "Opening force field file ./charmm36-feb2021.ff/atomtypes.atp\n",
      "\n",
      "Reading residue database... (Charmm36-feb2021)\n",
      "Opening force field file ./charmm36-feb2021.ff/merged.rtp\n",
      "Opening force field file ./charmm36-feb2021.ff/merged.hdb\n",
      "Opening force field file ./charmm36-feb2021.ff/merged.n.tdb\n",
      "Opening force field file ./charmm36-feb2021.ff/merged.c.tdb\n",
      "\n",
      "Processing chain 1 'A' (3871 atoms, 512 residues)\n",
      "Analysing hydrogen-bonding network for automated assignment of histidine\n",
      " protonation. 736 donors and 762 acceptors were found.\n",
      "There are 1133 hydrogen bonds\n",
      "Will use HISE for residue 43\n",
      "Will use HISE for residue 72\n",
      "Will use HISE for residue 259\n",
      "Will use HISE for residue 266\n",
      "Will use HISE for residue 305\n",
      "Will use HISE for residue 455\n",
      "Will use HISE for residue 474\n",
      "Will use HISE for residue 479\n",
      "\n",
      "Identified residue THR5 as a starting terminus.\n",
      "\n",
      "Identified residue GLY516 as a ending terminus.\n",
      "8 out of 8 lines of specbond.dat converted successfully\n",
      "Special Atom Distance matrix:\n",
      "                   HIS43   MET51   HIS72  MET159  CYS182  CYS204  MET229\n",
      "                  NE2282   SD337  NE2496  SD1138  SG1310  SG1489  SD1665\n",
      "   MET51   SD337   2.033\n",
      "   HIS72  NE2496   0.999   2.163\n",
      "  MET159  SD1138   5.028   4.967   5.717\n",
      "  CYS182  SG1310   3.642   3.579   4.450   1.746\n",
      "  CYS204  SG1489   3.963   3.384   4.732   2.381   1.076\n",
      "  MET229  SD1665   3.842   3.498   4.711   2.989   1.452   0.931\n",
      "  HIS259 NE21885   3.552   2.213   4.109   3.793   2.445   1.660   1.936\n",
      "  MET261  SD1906   3.494   2.448   4.025   2.869   1.831   1.408   2.109\n",
      "  HIS266 NE21950   4.480   3.403   5.058   2.664   1.998   1.256   2.104\n",
      "  HIS305 NE22266   2.353   2.623   3.056   2.685   1.504   2.139   2.410\n",
      "  CYS312  SG2325   3.347   2.745   3.940   2.276   1.300   1.362   2.081\n",
      "  MET324  SD2403   3.277   2.471   3.906   2.705   1.437   1.088   1.712\n",
      "  CYS353  SG2615   4.147   4.069   4.859   0.936   0.899   1.674   2.278\n",
      "  MET386  SD2854   5.451   5.019   6.132   1.041   1.980   2.107   2.834\n",
      "  HIS455 NE23386   6.880   6.528   7.573   1.960   3.346   3.507   4.103\n",
      "  HIS474 NE23543   7.218   6.838   8.020   2.814   3.583   3.497   3.821\n",
      "  HIS479 NE23580   7.391   6.831   8.147   2.996   3.784   3.567   3.999\n",
      "                  HIS259  MET261  HIS266  HIS305  CYS312  MET324  CYS353\n",
      "                 NE21885  SD1906 NE21950 NE22266  SG2325  SD2403  SG2615\n",
      "  MET261  SD1906   1.171\n",
      "  HIS266 NE21950   1.551   1.045\n",
      "  HIS305 NE22266   2.574   1.886   2.678\n",
      "  CYS312  SG2325   1.799   0.750   1.398   1.330\n",
      "  MET324  SD2403   1.207   0.475   1.216   1.582   0.619\n",
      "  CYS353  SG2615   2.999   2.100   2.136   1.809   1.449   1.863\n",
      "  MET386  SD2854   3.463   2.657   2.090   3.142   2.300   2.586   1.420\n",
      "  HIS455 NE23386   4.905   4.151   3.473   4.545   3.803   4.093   2.742\n",
      "  HIS474 NE23543   4.947   4.517   3.715   5.028   4.291   4.384   3.331\n",
      "  HIS479 NE23580   4.875   4.446   3.553   5.187   4.300   4.382   3.497\n",
      "                  MET386  HIS455  HIS474\n",
      "                  SD2854 NE23386 NE23543\n",
      "  HIS455 NE23386   1.511\n",
      "  HIS474 NE23543   2.218   1.528\n",
      "  HIS479 NE23580   2.215   1.517   0.686\n",
      "Start terminus THR-5: NH3+\n",
      "End terminus GLY-516: COO-\n",
      "Opening force field file ./charmm36-feb2021.ff/merged.arn\n",
      "\n",
      "Checking for duplicate atoms....\n",
      "\n",
      "Generating any missing hydrogen atoms and/or adding termini.\n",
      "\n",
      "Now there are 512 residues with 7743 atoms\n",
      "\n",
      "Making bonds...\n",
      "\n",
      "Number of bonds was 7803, now 7803\n",
      "\n",
      "Generating angles, dihedrals and pairs...\n",
      "Before cleaning: 20489 pairs\n",
      "Before cleaning: 20644 dihedrals\n",
      "Keeping all generated dihedrals\n",
      "\n",
      "Making cmap torsions...\n",
      "\n",
      "There are  510 cmap torsion pairs\n",
      "\n",
      "There are 20644 dihedrals, 1370 impropers, 14146 angles\n",
      "          20399 pairs,     7803 bonds and     0 virtual sites\n",
      "\n",
      "Total mass 54987.218 a.m.u.\n",
      "\n",
      "Total charge -24.000 e\n",
      "\n",
      "Writing topology\n",
      "\n",
      "Back Off! I just backed up posre.itp to ./#posre.itp.1#\n",
      "\n",
      "Writing coordinate file...\n",
      "\n",
      "Back Off! I just backed up protein_processed.gro to ./#protein_processed.gro.1#\n",
      "\n",
      "\t\t--------- PLEASE NOTE ------------\n",
      "\n",
      "You have successfully generated a topology from: protein_processed.pdb.\n",
      "\n",
      "The Charmm36-feb2021 force field and the spc water model are used.\n",
      "\n",
      "\t\t--------- ETON ESAELP ------------\n",
      "\n",
      "GROMACS reminds you: \"I Am a Poor Lonesome Cowboy\" (Lucky Luke)\n",
      "\n"
     ]
    }
   ],
   "source": [
    "# this command prepares protein topology file and sets water model\n",
    "! printf \"1\" | gmx pdb2gmx -ignh -f protein_processed.pdb -o protein_processed.gro -water spc"
   ]
  },
  {
   "cell_type": "code",
   "execution_count": 8,
   "metadata": {
    "scrolled": true
   },
   "outputs": [
    {
     "name": "stdout",
     "output_type": "stream",
     "text": [
      "; Include topology for ions\r\n",
      "#include \"./charmm36-feb2021.ff/ions.itp\"\r\n",
      "\r\n",
      "[ system ]\r\n",
      "; Name\r\n",
      "Protein\r\n",
      "\r\n",
      "[ molecules ]\r\n",
      "; Compound        #mols\r\n",
      "Protein_chain_A     1\r\n"
     ]
    }
   ],
   "source": [
    "! tail topol.top"
   ]
  },
  {
   "cell_type": "markdown",
   "metadata": {},
   "source": [
    "#### 2. Ligand tolpology"
   ]
  },
  {
   "cell_type": "code",
   "execution_count": 9,
   "metadata": {
    "scrolled": true
   },
   "outputs": [
    {
     "name": "stdout",
     "output_type": "stream",
     "text": [
      "1 molecule converted\r\n"
     ]
    }
   ],
   "source": [
    "# for ligand toplogy\n",
    "# 1. convert to mol2 file\n",
    "# 2. The first change that needs to be made is in the MOLECULE heading. \n",
    "#   Replace \"*****\" with ligand name eg.\n",
    "#   @<TRIPOS>MOLECULE\n",
    "#   JZ4\n",
    "# 3. change number before ligand column to \"1\" and ligand name in mol2 file\n",
    "! obabel ligand.pdb -O ligand.mol2 -h"
   ]
  },
  {
   "cell_type": "code",
   "execution_count": 10,
   "metadata": {
    "scrolled": true
   },
   "outputs": [
    {
     "name": "stdout",
     "output_type": "stream",
     "text": [
      "Found 37 atoms in the molecule, with 39 bonds.\r\n"
     ]
    }
   ],
   "source": [
    "# 4. fix bond order with perl script\n",
    "! perl sort_mol2_bonds.pl ligand.mol2 ligand_fix.mol2"
   ]
  },
  {
   "cell_type": "code",
   "execution_count": 13,
   "metadata": {
    "scrolled": true
   },
   "outputs": [
    {
     "name": "stdout",
     "output_type": "stream",
     "text": [
      "NOTE 1: Code tested with Python 3.5.2 and 3.7.3. Your version: 3.8.8 (default, Apr 13 2021, 19:58:26) \n",
      "[GCC 7.3.0]\n",
      "\n",
      "NOTE 2: Code tested with NetworkX 2.3. Your version: 2.3\n",
      "\n",
      "NOTE 3: Please be sure to use the same version of CGenFF in your simulations that was used during parameter generation:\n",
      "--Version of CGenFF detected in  ligand_fix.str : 4.5\n",
      "--Version of CGenFF detected in  charmm36-feb2021.ff//forcefield.doc : 4.4\n",
      "\n",
      "WARNING: CGenFF versions are not equivalent!\n",
      "\n",
      "\n",
      "NOTE 4: To avoid duplicated parameters, do NOT select the 'Include parameters that are already in CGenFF' option when uploading a molecule into CGenFF.\n",
      "============ DONE ============\n",
      "Conversion complete.\n",
      "The molecule topology has been written to ligand.itp\n",
      "Additional parameters needed by the molecule are written to ligand.prm, which needs to be included in the system .top\n",
      "\n",
      "PLEASE NOTE: If your topology has lone pairs, you must use GROMACS version 2020 or newer to use 2fd construction\n",
      "Older GROMACS versions WILL NOT WORK as they do not support 2fd virtual site construction\n",
      "\n",
      "============ DONE ============\n"
     ]
    }
   ],
   "source": [
    "\n",
    "# 5. goto cgenFF website and upload the previous mol2 file and get the corresponding .str file. \n",
    "    #(cgenFF website is used only if CHARMM36 Forcefield is used)\n",
    "    #The CHARMM stream file contains all of the topology information - atom types,charges, and bonded connectivity.\n",
    "# Examine the contents of .str and look at the penalties for the charges and the new dihedral parameters. \n",
    "    #All of them are very low, suggesting that this topology is of very good quality \n",
    "        #and can be used directly for our simulation.\n",
    "\n",
    "# 6. Use the cgenff_charmm2gmx.py script that downloaded from the MacKerell website.    \n",
    "        #Now the ligand topology is ready\n",
    "# if not works then run in terminal\n",
    "# Change ligand id in below command - important\n",
    "\n",
    "! python3 cgenff_charmm2gmx_py3_nx2.py ligand ligand_fix.mol2 ligand_fix.str charmm36-feb2021.ff/"
   ]
  },
  {
   "cell_type": "markdown",
   "metadata": {},
   "source": [
    "#### Build the Complex - Combine .gro files"
   ]
  },
  {
   "cell_type": "code",
   "execution_count": 14,
   "metadata": {
    "scrolled": true
   },
   "outputs": [
    {
     "name": "stdout",
     "output_type": "stream",
     "text": [
      "                     :-) GROMACS - gmx editconf, 2021.2 (-:\r\n",
      "\r\n",
      "                            GROMACS is written by:\r\n",
      "     Andrey Alekseenko              Emile Apol              Rossen Apostolov     \r\n",
      "         Paul Bauer           Herman J.C. Berendsen           Par Bjelkmar       \r\n",
      "       Christian Blau           Viacheslav Bolnykh             Kevin Boyd        \r\n",
      "     Aldert van Buuren           Rudi van Drunen             Anton Feenstra      \r\n",
      "    Gilles Gouaillardet             Alan Gray               Gerrit Groenhof      \r\n",
      "       Anca Hamuraru            Vincent Hindriksen          M. Eric Irrgang      \r\n",
      "      Aleksei Iupinov           Christoph Junghans             Joe Jordan        \r\n",
      "    Dimitrios Karkoulis            Peter Kasson                Jiri Kraus        \r\n",
      "      Carsten Kutzner              Per Larsson              Justin A. Lemkul     \r\n",
      "       Viveca Lindahl            Magnus Lundborg             Erik Marklund       \r\n",
      "        Pascal Merz             Pieter Meulenhoff            Teemu Murtola       \r\n",
      "        Szilard Pall               Sander Pronk              Roland Schulz       \r\n",
      "       Michael Shirts            Alexey Shvetsov             Alfons Sijbers      \r\n",
      "       Peter Tieleman              Jon Vincent              Teemu Virolainen     \r\n",
      "     Christian Wennberg            Maarten Wolf              Artem Zhmurov       \r\n",
      "                           and the project leaders:\r\n",
      "        Mark Abraham, Berk Hess, Erik Lindahl, and David van der Spoel\r\n",
      "\r\n",
      "Copyright (c) 1991-2000, University of Groningen, The Netherlands.\r\n",
      "Copyright (c) 2001-2019, The GROMACS development team at\r\n",
      "Uppsala University, Stockholm University and\r\n",
      "the Royal Institute of Technology, Sweden.\r\n",
      "check out http://www.gromacs.org for more information.\r\n",
      "\r\n",
      "GROMACS is free software; you can redistribute it and/or modify it\r\n",
      "under the terms of the GNU Lesser General Public License\r\n",
      "as published by the Free Software Foundation; either version 2.1\r\n",
      "of the License, or (at your option) any later version.\r\n",
      "\r\n",
      "GROMACS:      gmx editconf, version 2021.2\r\n",
      "Executable:   /usr/local/gromacs/bin/gmx\r\n",
      "Data prefix:  /usr/local/gromacs\r\n",
      "Working dir:  /home/karthi/python_documents/project_for_md/LK01_new\r\n",
      "Command line:\r\n",
      "  gmx editconf -f ligand_ini.pdb -o ligand.gro\r\n",
      "\r\n",
      "Note that major changes are planned in future for editconf, to improve usability and utility.\r\n",
      "Read 37 atoms\r\n",
      "No velocities found\r\n",
      "\r\n",
      "GROMACS reminds you: \"In a Deep Deep Well\" (Nick Cave)\r\n",
      "\r\n"
     ]
    }
   ],
   "source": [
    "# This command creates ligand .gro file\n",
    "# We have \"jz4_ini.pdb\" from cgenff_charmm2gmx.py that has all of the necessary H atoms \n",
    "    #and matches the atom names in the ligand topology. Convert this .pdb file to .gro format with editconf\n",
    "# Change the input file name in below command - important\n",
    "! gmx editconf -f ligand_ini.pdb -o ligand.gro"
   ]
  },
  {
   "cell_type": "code",
   "execution_count": null,
   "metadata": {
    "scrolled": true
   },
   "outputs": [],
   "source": [
    "# now we have .gro files for protein and ligand so combine them into one file\n",
    "\n",
    "# Copy protein_processed.gro to a new file \"complex.gro,\"\n",
    "# Next, copy jz4.gro and paste it into \"complex.gro\", below the last line of the protein atoms, \n",
    "    #and before the box vectors \n",
    "# 5.99500   5.19182   9.66100   0.00000   0.00000  -2.99750   0.00000   0.00000   0.00000\n",
    "# increment the second line of complex.gro and add number of ligand atoms to reflect this change."
   ]
  },
  {
   "cell_type": "markdown",
   "metadata": {},
   "source": [
    "#### Build the Topology - combine topology files"
   ]
  },
  {
   "cell_type": "code",
   "execution_count": null,
   "metadata": {
    "scrolled": true
   },
   "outputs": [],
   "source": [
    "# 1. insert a line #include \"ligand.itp\" into topol.top after the position restraint file is included. \n",
    "#    The inclusion of position restraints indicates the end of the \"Protein\" moleculetype section.\n",
    "# 2. The ligand introduces new dihedral parameters, which were written to \"ligand.prm\" by the cgenff_charmm2gmx.py script\n",
    "    #so At the TOP of topol.top, insert an #include \"ligand.prm\" statement,\n",
    "    #after #include \"./charmm36-mar2019.ff/forcefield.itp\" forcefield parameters\n",
    "# 3. The last adjustment to be made is in the [ molecules ] directive. \n",
    "    #To account for the fact that there is a new molecule in complex.gro, we have to add it here, like so:\n",
    "#    ligand        1\n",
    "\n",
    "# The topology and coordinate file are now in agreement with respect to the contents of the system."
   ]
  },
  {
   "cell_type": "markdown",
   "metadata": {},
   "source": [
    "#### 3. Defining the Unit Cell & Adding Solvent"
   ]
  },
  {
   "cell_type": "code",
   "execution_count": 15,
   "metadata": {
    "scrolled": true
   },
   "outputs": [
    {
     "name": "stdout",
     "output_type": "stream",
     "text": [
      "                     :-) GROMACS - gmx editconf, 2021.2 (-:\n",
      "\n",
      "                            GROMACS is written by:\n",
      "     Andrey Alekseenko              Emile Apol              Rossen Apostolov     \n",
      "         Paul Bauer           Herman J.C. Berendsen           Par Bjelkmar       \n",
      "       Christian Blau           Viacheslav Bolnykh             Kevin Boyd        \n",
      "     Aldert van Buuren           Rudi van Drunen             Anton Feenstra      \n",
      "    Gilles Gouaillardet             Alan Gray               Gerrit Groenhof      \n",
      "       Anca Hamuraru            Vincent Hindriksen          M. Eric Irrgang      \n",
      "      Aleksei Iupinov           Christoph Junghans             Joe Jordan        \n",
      "    Dimitrios Karkoulis            Peter Kasson                Jiri Kraus        \n",
      "      Carsten Kutzner              Per Larsson              Justin A. Lemkul     \n",
      "       Viveca Lindahl            Magnus Lundborg             Erik Marklund       \n",
      "        Pascal Merz             Pieter Meulenhoff            Teemu Murtola       \n",
      "        Szilard Pall               Sander Pronk              Roland Schulz       \n",
      "       Michael Shirts            Alexey Shvetsov             Alfons Sijbers      \n",
      "       Peter Tieleman              Jon Vincent              Teemu Virolainen     \n",
      "     Christian Wennberg            Maarten Wolf              Artem Zhmurov       \n",
      "                           and the project leaders:\n",
      "        Mark Abraham, Berk Hess, Erik Lindahl, and David van der Spoel\n",
      "\n",
      "Copyright (c) 1991-2000, University of Groningen, The Netherlands.\n",
      "Copyright (c) 2001-2019, The GROMACS development team at\n",
      "Uppsala University, Stockholm University and\n",
      "the Royal Institute of Technology, Sweden.\n",
      "check out http://www.gromacs.org for more information.\n",
      "\n",
      "GROMACS is free software; you can redistribute it and/or modify it\n",
      "under the terms of the GNU Lesser General Public License\n",
      "as published by the Free Software Foundation; either version 2.1\n",
      "of the License, or (at your option) any later version.\n",
      "\n",
      "GROMACS:      gmx editconf, version 2021.2\n",
      "Executable:   /usr/local/gromacs/bin/gmx\n",
      "Data prefix:  /usr/local/gromacs\n",
      "Working dir:  /home/karthi/python_documents/project_for_md/LK01_new\n",
      "Command line:\n",
      "  gmx editconf -f complex.gro -o complex_box.gro -bt dodecahedron -d 1.0\n",
      "\n",
      "Note that major changes are planned in future for editconf, to improve usability and utility.\n",
      "Read 7780 atoms\n",
      "Volume: 280.747 nm^3, corresponds to roughly 126300 electrons\n",
      "No velocities found\n",
      "    system size :  4.898 16.182 24.706 (nm)\n",
      "    diameter    : 27.709               (nm)\n",
      "    center      : 17.073 13.467 19.933 (nm)\n",
      "    box vectors :  4.897  6.259  9.159 (nm)\n",
      "    box angles  :  90.00  90.00  90.00 (degrees)\n",
      "    box volume  : 280.75               (nm^3)\n",
      "    shift       :  5.209  8.815 -9.429 (nm)\n",
      "new center      : 22.282 22.282 10.504 (nm)\n",
      "new box vectors : 29.709 29.709 29.709 (nm)\n",
      "new box angles  :  60.00  60.00  90.00 (degrees)\n",
      "new box volume  :18542.08               (nm^3)\n",
      "\n",
      "GROMACS reminds you: \"Everybody is Smashing Things Down\" (Offspring)\n",
      "\n",
      "                     :-) GROMACS - gmx solvate, 2021.2 (-:\n",
      "\n",
      "                            GROMACS is written by:\n",
      "     Andrey Alekseenko              Emile Apol              Rossen Apostolov     \n",
      "         Paul Bauer           Herman J.C. Berendsen           Par Bjelkmar       \n",
      "       Christian Blau           Viacheslav Bolnykh             Kevin Boyd        \n",
      "     Aldert van Buuren           Rudi van Drunen             Anton Feenstra      \n",
      "    Gilles Gouaillardet             Alan Gray               Gerrit Groenhof      \n",
      "       Anca Hamuraru            Vincent Hindriksen          M. Eric Irrgang      \n",
      "      Aleksei Iupinov           Christoph Junghans             Joe Jordan        \n",
      "    Dimitrios Karkoulis            Peter Kasson                Jiri Kraus        \n",
      "      Carsten Kutzner              Per Larsson              Justin A. Lemkul     \n",
      "       Viveca Lindahl            Magnus Lundborg             Erik Marklund       \n",
      "        Pascal Merz             Pieter Meulenhoff            Teemu Murtola       \n",
      "        Szilard Pall               Sander Pronk              Roland Schulz       \n",
      "       Michael Shirts            Alexey Shvetsov             Alfons Sijbers      \n",
      "       Peter Tieleman              Jon Vincent              Teemu Virolainen     \n",
      "     Christian Wennberg            Maarten Wolf              Artem Zhmurov       \n",
      "                           and the project leaders:\n",
      "        Mark Abraham, Berk Hess, Erik Lindahl, and David van der Spoel\n",
      "\n",
      "Copyright (c) 1991-2000, University of Groningen, The Netherlands.\n",
      "Copyright (c) 2001-2019, The GROMACS development team at\n",
      "Uppsala University, Stockholm University and\n",
      "the Royal Institute of Technology, Sweden.\n",
      "check out http://www.gromacs.org for more information.\n",
      "\n",
      "GROMACS is free software; you can redistribute it and/or modify it\n",
      "under the terms of the GNU Lesser General Public License\n",
      "as published by the Free Software Foundation; either version 2.1\n",
      "of the License, or (at your option) any later version.\n",
      "\n",
      "GROMACS:      gmx solvate, version 2021.2\n",
      "Executable:   /usr/local/gromacs/bin/gmx\n",
      "Data prefix:  /usr/local/gromacs\n",
      "Working dir:  /home/karthi/python_documents/project_for_md/LK01_new\n",
      "Command line:\n",
      "  gmx solvate -cp complex_box.gro -cs spc216.gro -p topol.top -o complex_solv.gro\n",
      "\n",
      "Reading solute configuration\n",
      "Reading solvent configuration\n",
      "\n",
      "Initialising inter-atomic distances...\n",
      "\n",
      "WARNING: Masses and atomic (Van der Waals) radii will be guessed\n",
      "         based on residue and atom names, since they could not be\n",
      "         definitively assigned from the information in your input\n",
      "         files. These guessed numbers might deviate from the mass\n",
      "         and radius of the atom type. Please check the output\n",
      "         files if necessary.\n",
      "\n",
      "NOTE: From version 5.0 gmx solvate uses the Van der Waals radii\n",
      "from the source below. This means the results may be different\n",
      "compared to previous GROMACS versions.\n",
      "\n",
      "++++ PLEASE READ AND CITE THE FOLLOWING REFERENCE ++++\n",
      "A. Bondi\n",
      "van der Waals Volumes and Radii\n",
      "J. Phys. Chem. 68 (1964) pp. 441-451\n",
      "-------- -------- --- Thank You --- -------- --------\n",
      "\n",
      "Generating solvent configuration\n",
      "Will generate new solvent configuration of 16x16x12 boxes\n",
      "Solvent box contains 1893888 atoms in 631296 residues\n",
      "Removed 72606 solvent atoms due to solvent-solvent overlap\n",
      "Removed 7404 solvent atoms due to solute-solvent overlap\n",
      "Sorting configuration\n",
      "Found 1 molecule type:\n",
      "    SOL (   3 atoms): 604626 residues\n",
      "Generated solvent containing 1813878 atoms in 604626 residues\n",
      "Writing generated configuration to complex_solv.gro\n",
      "\n",
      "Output configuration contains 1821658 atoms in 605140 residues\n",
      "Volume                 :     18542.1 (nm^3)\n",
      "Density                :     980.783 (g/l)\n",
      "Number of solvent molecules:  604626   \n",
      "\n",
      "Processing topology\n",
      "Adding line for 604626 solvent molecules with resname (SOL) to topology file (topol.top)\n",
      "\n",
      "Back Off! I just backed up topol.top to ./#topol.top.1#\n",
      "\n",
      "GROMACS reminds you: \"Don't Push Me, Cause I'm Close to the Edge\" (Grandmaster Flash)\n",
      "\n"
     ]
    }
   ],
   "source": [
    "# c- center, d-distance from box edge also centers the system, bt-box type\n",
    "! gmx editconf -f complex.gro -o complex_box.gro -bt dodecahedron -d 1.0\n",
    "\n",
    "! gmx solvate -cp complex_box.gro -cs spc216.gro -p topol.top -o complex_solv.gro\n",
    "# cp - protein conf, cs - solute conf\n",
    "# if you want you can visualize complex_solv.gro\n"
   ]
  },
  {
   "cell_type": "markdown",
   "metadata": {},
   "source": [
    "#### 4. Adding Ions"
   ]
  },
  {
   "cell_type": "code",
   "execution_count": 16,
   "metadata": {
    "scrolled": true
   },
   "outputs": [
    {
     "name": "stdout",
     "output_type": "stream",
     "text": [
      "                      :-) GROMACS - gmx grompp, 2021.2 (-:\n",
      "\n",
      "                            GROMACS is written by:\n",
      "     Andrey Alekseenko              Emile Apol              Rossen Apostolov     \n",
      "         Paul Bauer           Herman J.C. Berendsen           Par Bjelkmar       \n",
      "       Christian Blau           Viacheslav Bolnykh             Kevin Boyd        \n",
      "     Aldert van Buuren           Rudi van Drunen             Anton Feenstra      \n",
      "    Gilles Gouaillardet             Alan Gray               Gerrit Groenhof      \n",
      "       Anca Hamuraru            Vincent Hindriksen          M. Eric Irrgang      \n",
      "      Aleksei Iupinov           Christoph Junghans             Joe Jordan        \n",
      "    Dimitrios Karkoulis            Peter Kasson                Jiri Kraus        \n",
      "      Carsten Kutzner              Per Larsson              Justin A. Lemkul     \n",
      "       Viveca Lindahl            Magnus Lundborg             Erik Marklund       \n",
      "        Pascal Merz             Pieter Meulenhoff            Teemu Murtola       \n",
      "        Szilard Pall               Sander Pronk              Roland Schulz       \n",
      "       Michael Shirts            Alexey Shvetsov             Alfons Sijbers      \n",
      "       Peter Tieleman              Jon Vincent              Teemu Virolainen     \n",
      "     Christian Wennberg            Maarten Wolf              Artem Zhmurov       \n",
      "                           and the project leaders:\n",
      "        Mark Abraham, Berk Hess, Erik Lindahl, and David van der Spoel\n",
      "\n",
      "Copyright (c) 1991-2000, University of Groningen, The Netherlands.\n",
      "Copyright (c) 2001-2019, The GROMACS development team at\n",
      "Uppsala University, Stockholm University and\n",
      "the Royal Institute of Technology, Sweden.\n",
      "check out http://www.gromacs.org for more information.\n",
      "\n",
      "GROMACS is free software; you can redistribute it and/or modify it\n",
      "under the terms of the GNU Lesser General Public License\n",
      "as published by the Free Software Foundation; either version 2.1\n",
      "of the License, or (at your option) any later version.\n",
      "\n",
      "GROMACS:      gmx grompp, version 2021.2\n",
      "Executable:   /usr/local/gromacs/bin/gmx\n",
      "Data prefix:  /usr/local/gromacs\n",
      "Working dir:  /home/karthi/python_documents/project_for_md/LK01_new\n",
      "Command line:\n",
      "  gmx grompp -f ions.mdp -c complex_solv.gro -p topol.top -o ions.tpr\n",
      "\n",
      "Ignoring obsolete mdp entry 'title'\n",
      "Ignoring obsolete mdp entry 'ns_type'\n",
      "\n",
      "NOTE 1 [file ions.mdp]:\n",
      "  With Verlet lists the optimal nstlist is >= 10, with GPUs >= 20. Note\n",
      "  that with the Verlet scheme, nstlist has no effect on the accuracy of\n",
      "  your simulation.\n",
      "\n",
      "Setting the LD random seed to -1180371\n",
      "\n",
      "Generated 100465 of the 100576 non-bonded parameter combinations\n",
      "Generating 1-4 interactions: fudge = 1\n",
      "\n",
      "Generated 66298 of the 100576 1-4 parameter combinations\n",
      "\n",
      "Excluding 3 bonded neighbours molecule type 'Protein_chain_A'\n",
      "\n",
      "Excluding 3 bonded neighbours molecule type 'ligand'\n",
      "\n",
      "Excluding 2 bonded neighbours molecule type 'SOL'\n",
      "\n",
      "NOTE 2 [file topol.top, line 73205]:\n",
      "  System has non-zero total charge: -24.000000\n",
      "  Total charge should normally be an integer. See\n",
      "  http://www.gromacs.org/Documentation/Floating_Point_Arithmetic\n",
      "  for discussion on how close it should be to an integer.\n",
      "  \n",
      "\n",
      "\n",
      "Analysing residue names:\n",
      "There are:   512    Protein residues\n",
      "There are:     1      Other residues\n",
      "There are: 604626      Water residues\n",
      "Analysing Protein...\n",
      "Analysing residues not classified as Protein/DNA/RNA/Water and splitting into groups...\n",
      "Number of degrees of freedom in T-Coupling group rest is 3651093.00\n",
      "\n",
      "NOTE 3 [file ions.mdp]:\n",
      "  You are using a plain Coulomb cut-off, which might produce artifacts.\n",
      "  You might want to consider using PME electrostatics.\n",
      "\n",
      "\n",
      "\n",
      "This run will generate roughly 139 Mb of data\n",
      "\n",
      "There were 3 notes\n",
      "\n",
      "GROMACS reminds you: \"One Ripple At a Time\" (Bianca's Smut Shack)\n",
      "\n"
     ]
    }
   ],
   "source": [
    "! gmx grompp -f ions.mdp -c complex_solv.gro -p topol.top -o ions.tpr\n",
    "# gromacs preprocessor to create binary file(.tpr)\n",
    "# f - grompp input file with MD parameters(.mdp file)"
   ]
  },
  {
   "cell_type": "code",
   "execution_count": 17,
   "metadata": {
    "scrolled": true
   },
   "outputs": [
    {
     "name": "stdout",
     "output_type": "stream",
     "text": [
      "                      :-) GROMACS - gmx genion, 2021.2 (-:\n",
      "\n",
      "                            GROMACS is written by:\n",
      "     Andrey Alekseenko              Emile Apol              Rossen Apostolov     \n",
      "         Paul Bauer           Herman J.C. Berendsen           Par Bjelkmar       \n",
      "       Christian Blau           Viacheslav Bolnykh             Kevin Boyd        \n",
      "     Aldert van Buuren           Rudi van Drunen             Anton Feenstra      \n",
      "    Gilles Gouaillardet             Alan Gray               Gerrit Groenhof      \n",
      "       Anca Hamuraru            Vincent Hindriksen          M. Eric Irrgang      \n",
      "      Aleksei Iupinov           Christoph Junghans             Joe Jordan        \n",
      "    Dimitrios Karkoulis            Peter Kasson                Jiri Kraus        \n",
      "      Carsten Kutzner              Per Larsson              Justin A. Lemkul     \n",
      "       Viveca Lindahl            Magnus Lundborg             Erik Marklund       \n",
      "        Pascal Merz             Pieter Meulenhoff            Teemu Murtola       \n",
      "        Szilard Pall               Sander Pronk              Roland Schulz       \n",
      "       Michael Shirts            Alexey Shvetsov             Alfons Sijbers      \n",
      "       Peter Tieleman              Jon Vincent              Teemu Virolainen     \n",
      "     Christian Wennberg            Maarten Wolf              Artem Zhmurov       \n",
      "                           and the project leaders:\n",
      "        Mark Abraham, Berk Hess, Erik Lindahl, and David van der Spoel\n",
      "\n",
      "Copyright (c) 1991-2000, University of Groningen, The Netherlands.\n",
      "Copyright (c) 2001-2019, The GROMACS development team at\n",
      "Uppsala University, Stockholm University and\n",
      "the Royal Institute of Technology, Sweden.\n",
      "check out http://www.gromacs.org for more information.\n",
      "\n",
      "GROMACS is free software; you can redistribute it and/or modify it\n",
      "under the terms of the GNU Lesser General Public License\n",
      "as published by the Free Software Foundation; either version 2.1\n",
      "of the License, or (at your option) any later version.\n",
      "\n",
      "GROMACS:      gmx genion, version 2021.2\n",
      "Executable:   /usr/local/gromacs/bin/gmx\n",
      "Data prefix:  /usr/local/gromacs\n",
      "Working dir:  /home/karthi/python_documents/project_for_md/LK01_new\n",
      "Command line:\n",
      "  gmx genion -s ions.tpr -o complex_solv_ions.gro -p topol.top -pname NA -nname CL -neutral\n",
      "\n",
      "Reading file ions.tpr, VERSION 2021.2 (single precision)\n",
      "Reading file ions.tpr, VERSION 2021.2 (single precision)\n",
      "Will try to add 24 NA ions and 0 CL ions.\n",
      "Select a continuous group of solvent molecules\n",
      "Group     0 (         System) has 1821658 elements\n",
      "Group     1 (        Protein) has  7743 elements\n",
      "Group     2 (      Protein-H) has  3872 elements\n",
      "Group     3 (        C-alpha) has   512 elements\n",
      "Group     4 (       Backbone) has  1536 elements\n",
      "Group     5 (      MainChain) has  2047 elements\n",
      "Group     6 (   MainChain+Cb) has  2510 elements\n",
      "Group     7 (    MainChain+H) has  2541 elements\n",
      "Group     8 (      SideChain) has  5202 elements\n",
      "Group     9 (    SideChain-H) has  1825 elements\n",
      "Group    10 (    Prot-Masses) has  7743 elements\n",
      "Group    11 (    non-Protein) has 1813915 elements\n",
      "Group    12 (          Other) has    37 elements\n",
      "Group    13 (         ligand) has    37 elements\n",
      "Group    14 (          Water) has 1813878 elements\n",
      "Group    15 (            SOL) has 1813878 elements\n",
      "Group    16 (      non-Water) has  7780 elements\n",
      "Select a group: Selected 15: 'SOL'\n",
      "Number of (3-atomic) solvent molecules: 604626\n",
      "\n",
      "Processing topology\n",
      "Replacing 24 solute molecules in topology file (topol.top)  by 24 NA and 0 CL ions.\n",
      "\n",
      "Back Off! I just backed up topol.top to ./#topol.top.2#\n",
      "Using random seed -472770579.\n",
      "Replacing solvent molecule 144447 (atom 441121) with NA\n",
      "Replacing solvent molecule 531176 (atom 1601308) with NA\n",
      "Replacing solvent molecule 586108 (atom 1766104) with NA\n",
      "Replacing solvent molecule 135486 (atom 414238) with NA\n",
      "Replacing solvent molecule 76854 (atom 238342) with NA\n",
      "Replacing solvent molecule 252182 (atom 764326) with NA\n",
      "Replacing solvent molecule 57457 (atom 180151) with NA\n",
      "Replacing solvent molecule 60530 (atom 189370) with NA\n",
      "Replacing solvent molecule 576156 (atom 1736248) with NA\n",
      "Replacing solvent molecule 548507 (atom 1653301) with NA\n",
      "Replacing solvent molecule 126334 (atom 386782) with NA\n",
      "Replacing solvent molecule 121976 (atom 373708) with NA\n",
      "Replacing solvent molecule 247972 (atom 751696) with NA\n",
      "Replacing solvent molecule 327981 (atom 991723) with NA\n",
      "Replacing solvent molecule 92380 (atom 284920) with NA\n",
      "Replacing solvent molecule 270157 (atom 818251) with NA\n",
      "Replacing solvent molecule 257679 (atom 780817) with NA\n",
      "Replacing solvent molecule 324757 (atom 982051) with NA\n",
      "Replacing solvent molecule 525861 (atom 1585363) with NA\n",
      "Replacing solvent molecule 506480 (atom 1527220) with NA\n",
      "Replacing solvent molecule 65831 (atom 205273) with NA\n",
      "Replacing solvent molecule 130807 (atom 400201) with NA\n",
      "Replacing solvent molecule 499266 (atom 1505578) with NA\n",
      "Replacing solvent molecule 415330 (atom 1253770) with NA\n",
      "\n",
      "\n",
      "GROMACS reminds you: \"All Beauty Must Die\" (Nick Cave)\n",
      "\n"
     ]
    }
   ],
   "source": [
    "# We now pass our .tpr file to genion\n",
    "! printf \"15\" | gmx genion -s ions.tpr -o complex_solv_ions.gro -p topol.top -pname NA -nname CL -neutral\n",
    "# The specified atom names are always the elemental symbol in all capital letters, along with the [ moleculetype]. \n",
    "    #Residue names may or may not append the sign 1of the charge (+/-). \n",
    "    #Refer to ions.itp for proper nomenclature if you encounter difficulties."
   ]
  },
  {
   "cell_type": "code",
   "execution_count": 18,
   "metadata": {
    "scrolled": true
   },
   "outputs": [
    {
     "name": "stdout",
     "output_type": "stream",
     "text": [
      "[ system ]\r\n",
      "; Name\r\n",
      "Protein in water\r\n",
      "\r\n",
      "[ molecules ]\r\n",
      "; Compound        #mols\r\n",
      "Protein_chain_A 1\r\n",
      "ligand  1\r\n",
      "SOL         604602\r\n",
      "NA               24\r\n"
     ]
    }
   ],
   "source": [
    "# check Your [ molecules ] directive for ions\n",
    "! tail topol.top"
   ]
  },
  {
   "cell_type": "markdown",
   "metadata": {},
   "source": [
    "#### 5. Energy Minimization"
   ]
  },
  {
   "cell_type": "code",
   "execution_count": 26,
   "metadata": {
    "scrolled": true
   },
   "outputs": [
    {
     "name": "stdout",
     "output_type": "stream",
     "text": [
      "                      :-) GROMACS - gmx grompp, 2021.2 (-:\n",
      "\n",
      "                            GROMACS is written by:\n",
      "     Andrey Alekseenko              Emile Apol              Rossen Apostolov     \n",
      "         Paul Bauer           Herman J.C. Berendsen           Par Bjelkmar       \n",
      "       Christian Blau           Viacheslav Bolnykh             Kevin Boyd        \n",
      "     Aldert van Buuren           Rudi van Drunen             Anton Feenstra      \n",
      "    Gilles Gouaillardet             Alan Gray               Gerrit Groenhof      \n",
      "       Anca Hamuraru            Vincent Hindriksen          M. Eric Irrgang      \n",
      "      Aleksei Iupinov           Christoph Junghans             Joe Jordan        \n",
      "    Dimitrios Karkoulis            Peter Kasson                Jiri Kraus        \n",
      "      Carsten Kutzner              Per Larsson              Justin A. Lemkul     \n",
      "       Viveca Lindahl            Magnus Lundborg             Erik Marklund       \n",
      "        Pascal Merz             Pieter Meulenhoff            Teemu Murtola       \n",
      "        Szilard Pall               Sander Pronk              Roland Schulz       \n",
      "       Michael Shirts            Alexey Shvetsov             Alfons Sijbers      \n",
      "       Peter Tieleman              Jon Vincent              Teemu Virolainen     \n",
      "     Christian Wennberg            Maarten Wolf              Artem Zhmurov       \n",
      "                           and the project leaders:\n",
      "        Mark Abraham, Berk Hess, Erik Lindahl, and David van der Spoel\n",
      "\n",
      "Copyright (c) 1991-2000, University of Groningen, The Netherlands.\n",
      "Copyright (c) 2001-2019, The GROMACS development team at\n",
      "Uppsala University, Stockholm University and\n",
      "the Royal Institute of Technology, Sweden.\n",
      "check out http://www.gromacs.org for more information.\n",
      "\n",
      "GROMACS is free software; you can redistribute it and/or modify it\n",
      "under the terms of the GNU Lesser General Public License\n",
      "as published by the Free Software Foundation; either version 2.1\n",
      "of the License, or (at your option) any later version.\n",
      "\n",
      "GROMACS:      gmx grompp, version 2021.2\n",
      "Executable:   /usr/local/gromacs/bin/gmx\n",
      "Data prefix:  /usr/local/gromacs\n",
      "Working dir:  /home/karthi/python_documents/project_for_md/LK01_new\n",
      "Command line:\n",
      "  gmx grompp -f em.mdp -c complex_solv_ions.gro -p topol.top -o em.tpr\n",
      "\n",
      "Ignoring obsolete mdp entry 'title'\n",
      "Ignoring obsolete mdp entry 'ns_type'\n",
      "\n",
      "NOTE 1 [file em.mdp]:\n",
      "  With Verlet lists the optimal nstlist is >= 10, with GPUs >= 20. Note\n",
      "  that with the Verlet scheme, nstlist has no effect on the accuracy of\n",
      "  your simulation.\n",
      "\n",
      "Setting the LD random seed to 1537474367\n",
      "\n",
      "Generated 100465 of the 100576 non-bonded parameter combinations\n",
      "Generating 1-4 interactions: fudge = 1\n",
      "\n",
      "Generated 66298 of the 100576 1-4 parameter combinations\n",
      "\n",
      "Excluding 3 bonded neighbours molecule type 'Protein_chain_A'\n",
      "\n",
      "Excluding 3 bonded neighbours molecule type 'ligand'\n",
      "\n",
      "Excluding 2 bonded neighbours molecule type 'SOL'\n",
      "\n",
      "Excluding 1 bonded neighbours molecule type 'NA'\n",
      "Analysing residue names:\n",
      "There are:   512    Protein residues\n",
      "There are:     1      Other residues\n",
      "There are: 604602      Water residues\n",
      "There are:    24        Ion residues\n",
      "Analysing Protein...\n",
      "Analysing residues not classified as Protein/DNA/RNA/Water and splitting into groups...\n",
      "Analysing residues not classified as Protein/DNA/RNA/Water and splitting into groups...\n",
      "Number of degrees of freedom in T-Coupling group rest is 5464827.00\n",
      "Calculating fourier grid dimensions for X Y Z\n",
      "Using a fourier grid of 256x256x256, spacing 0.116 0.116 0.116\n",
      "\n",
      "Estimate for the relative computational load of the PME mesh part: 0.22\n",
      "\n",
      "This run will generate roughly 139 Mb of data\n",
      "\n",
      "There was 1 note\n",
      "\n",
      "Back Off! I just backed up em.tpr to ./#em.tpr.3#\n",
      "\n",
      "GROMACS reminds you: \"I Have a Bad Case Of Purple Diarrhea\" (Urban Dance Squad)\n",
      "\n",
      "                      :-) GROMACS - gmx mdrun, 2021.2 (-:\n",
      "\n",
      "                            GROMACS is written by:\n",
      "     Andrey Alekseenko              Emile Apol              Rossen Apostolov     \n",
      "         Paul Bauer           Herman J.C. Berendsen           Par Bjelkmar       \n",
      "       Christian Blau           Viacheslav Bolnykh             Kevin Boyd        \n",
      "     Aldert van Buuren           Rudi van Drunen             Anton Feenstra      \n",
      "    Gilles Gouaillardet             Alan Gray               Gerrit Groenhof      \n",
      "       Anca Hamuraru            Vincent Hindriksen          M. Eric Irrgang      \n",
      "      Aleksei Iupinov           Christoph Junghans             Joe Jordan        \n",
      "    Dimitrios Karkoulis            Peter Kasson                Jiri Kraus        \n",
      "      Carsten Kutzner              Per Larsson              Justin A. Lemkul     \n",
      "       Viveca Lindahl            Magnus Lundborg             Erik Marklund       \n",
      "        Pascal Merz             Pieter Meulenhoff            Teemu Murtola       \n",
      "        Szilard Pall               Sander Pronk              Roland Schulz       \n",
      "       Michael Shirts            Alexey Shvetsov             Alfons Sijbers      \n",
      "       Peter Tieleman              Jon Vincent              Teemu Virolainen     \n",
      "     Christian Wennberg            Maarten Wolf              Artem Zhmurov       \n",
      "                           and the project leaders:\n",
      "        Mark Abraham, Berk Hess, Erik Lindahl, and David van der Spoel\n",
      "\n",
      "Copyright (c) 1991-2000, University of Groningen, The Netherlands.\n",
      "Copyright (c) 2001-2019, The GROMACS development team at\n",
      "Uppsala University, Stockholm University and\n",
      "the Royal Institute of Technology, Sweden.\n",
      "check out http://www.gromacs.org for more information.\n",
      "\n",
      "GROMACS is free software; you can redistribute it and/or modify it\n",
      "under the terms of the GNU Lesser General Public License\n",
      "as published by the Free Software Foundation; either version 2.1\n",
      "of the License, or (at your option) any later version.\n",
      "\n",
      "GROMACS:      gmx mdrun, version 2021.2\n",
      "Executable:   /usr/local/gromacs/bin/gmx\n",
      "Data prefix:  /usr/local/gromacs\n",
      "Working dir:  /home/karthi/python_documents/project_for_md/LK01_new\n",
      "Command line:\n",
      "  gmx mdrun -v -deffnm em\n",
      "\n",
      "\n",
      "Back Off! I just backed up em.log to ./#em.log.5#\n",
      "Reading file em.tpr, VERSION 2021.2 (single precision)\n",
      "Using 1 MPI thread\n",
      "Using 8 OpenMP threads \n",
      "\n",
      "\n",
      "Back Off! I just backed up em.trr to ./#em.trr.5#\n",
      "\n",
      "Back Off! I just backed up em.edr to ./#em.edr.5#\n",
      "\n",
      "Steepest Descents:\n",
      "   Tolerance (Fmax)   =  1.00000e+03\n",
      "   Number of steps    =        50000\n",
      "\n",
      "WARNING: Listed nonbonded interaction between particles 7744 and 7749\n",
      "at distance 7.146 which is larger than the table limit 2.200 nm.\n",
      "\n",
      "This is likely either a 1,4 interaction, or a listed interaction inside\n",
      "a smaller molecule you are decoupling during a free energy calculation.\n",
      "Since interactions at distances beyond the table cannot be computed,\n",
      "they are skipped until they are inside the table limit again. You will\n",
      "only see this message once, even if it occurs for several interactions.\n",
      "\n",
      "IMPORTANT: This should not happen in a stable simulation, so there is\n",
      "probably something wrong with your system. Only change the table-extension\n",
      "distance in the mdp file if you are really sure that is the reason.\n",
      "\n",
      "\n",
      "Step=    0, Dmax= 1.0e-02 nm, Epot=  1.88573e+08 Fmax= 8.06579e+06, atom= 7758\n",
      "Step=    1, Dmax= 1.0e-02 nm, Epot=  1.88002e+08 Fmax= 8.05212e+06, atom= 7758\n",
      "Step=    2, Dmax= 1.2e-02 nm, Epot=  1.87319e+08 Fmax= 8.03621e+06, atom= 7758\n",
      "Step=    3, Dmax= 1.4e-02 nm, Epot=  1.86501e+08 Fmax= 8.01752e+06, atom= 7758\n",
      "Step=    4, Dmax= 1.7e-02 nm, Epot=  1.85522e+08 Fmax= 7.99541e+06, atom= 7758\n",
      "Step=    5, Dmax= 2.1e-02 nm, Epot=  1.84352e+08 Fmax= 7.96906e+06, atom= 7758\n",
      "Step=    6, Dmax= 2.5e-02 nm, Epot=  1.82954e+08 Fmax= 7.93750e+06, atom= 7758\n",
      "Step=    7, Dmax= 3.0e-02 nm, Epot=  1.81286e+08 Fmax= 7.89947e+06, atom= 7758\n",
      "Step=    8, Dmax= 3.6e-02 nm, Epot=  1.79299e+08 Fmax= 7.85309e+06, atom= 7758\n",
      "Step=    9, Dmax= 4.3e-02 nm, Epot=  1.76950e+08 Fmax= 7.79494e+06, atom= 7758\n",
      "Step=   10, Dmax= 5.2e-02 nm, Epot=  1.74204e+08 Fmax= 7.72000e+06, atom= 7758\n",
      "Step=   11, Dmax= 6.2e-02 nm, Epot=  1.71087e+08 Fmax= 7.64147e+06, atom= 7758\n",
      "Step=   12, Dmax= 7.4e-02 nm, Epot=  1.67620e+08 Fmax= 7.58379e+06, atom= 7758\n",
      "Step=   13, Dmax= 8.9e-02 nm, Epot=  1.63176e+08 Fmax= 7.45348e+06, atom= 7758\n",
      "Step=   14, Dmax= 1.1e-01 nm, Epot=  1.57740e+08 Fmax= 7.56325e+06, atom= 7750\n",
      "Step=   15, Dmax= 1.3e-01 nm, Epot=  1.51615e+08 Fmax= 9.15340e+06, atom= 579548\n"
     ]
    },
    {
     "name": "stdout",
     "output_type": "stream",
     "text": [
      "Step=   16, Dmax= 1.5e-01 nm, Epot=  1.46252e+08 Fmax= 1.69448e+07, atom= 577418\n",
      "Step=   17, Dmax= 1.8e-01 nm, Epot=  1.42559e+08 Fmax= 6.91169e+06, atom= 7758\n",
      "Step=   19, Dmax= 1.1e-01 nm, Epot=  1.37958e+08 Fmax= 8.18854e+07, atom= 572042\n",
      "Step=   20, Dmax= 1.3e-01 nm, Epot=  1.37372e+08 Fmax= 6.52219e+06, atom= 7758\n",
      "Step=   21, Dmax= 1.6e-01 nm, Epot=  1.30040e+08 Fmax= 1.83704e+07, atom= 7758\n",
      "Step=   22, Dmax= 1.9e-01 nm, Epot=  1.27550e+08 Fmax= 3.03149e+07, atom= 475580\n",
      "Step=   23, Dmax= 2.3e-01 nm, Epot=  1.24546e+08 Fmax= 6.72917e+06, atom= 476414\n",
      "Step=   25, Dmax= 1.4e-01 nm, Epot=  1.18699e+08 Fmax= 6.19405e+06, atom= 775862\n",
      "Step=   27, Dmax= 8.3e-02 nm, Epot=  1.16535e+08 Fmax= 1.35138e+08, atom= 571862\n",
      "Step=   28, Dmax= 9.9e-02 nm, Epot=  1.15641e+08 Fmax= 5.93854e+06, atom= 7750\n",
      "Step=   29, Dmax= 1.2e-01 nm, Epot=  1.11458e+08 Fmax= 5.77270e+07, atom= 475766\n",
      "Step=   30, Dmax= 1.4e-01 nm, Epot=  1.10701e+08 Fmax= 6.00278e+06, atom= 7758\n",
      "Step=   32, Dmax= 8.6e-02 nm, Epot=  1.07842e+08 Fmax= 8.32607e+07, atom= 571862\n",
      "Step=   33, Dmax= 1.0e-01 nm, Epot=  1.07188e+08 Fmax= 5.86086e+06, atom= 7758\n",
      "Step=   34, Dmax= 1.2e-01 nm, Epot=  1.02123e+08 Fmax= 1.36189e+07, atom= 7745\n",
      "Step=   35, Dmax= 1.5e-01 nm, Epot=  9.98493e+07 Fmax= 5.60943e+06, atom= 7758\n",
      "Step=   37, Dmax= 8.9e-02 nm, Epot=  9.61543e+07 Fmax= 5.29831e+06, atom= 775090\n",
      "Step=   38, Dmax= 1.1e-01 nm, Epot=  9.31206e+07 Fmax= 1.26860e+08, atom= 475790\n",
      "Step=   39, Dmax= 1.3e-01 nm, Epot=  9.23780e+07 Fmax= 5.52416e+06, atom= 7758\n",
      "Step=   40, Dmax= 1.5e-01 nm, Epot=  8.69533e+07 Fmax= 7.93215e+06, atom= 569936\n",
      "Step=   41, Dmax= 1.8e-01 nm, Epot=  8.30451e+07 Fmax= 5.82942e+06, atom= 7758\n",
      "Step=   42, Dmax= 2.2e-01 nm, Epot=  7.75067e+07 Fmax= 2.68209e+07, atom= 585869\n",
      "Step=   44, Dmax= 1.3e-01 nm, Epot=  7.65237e+07 Fmax= 1.63021e+07, atom= 585869\n",
      "Step=   45, Dmax= 1.6e-01 nm, Epot=  7.45462e+07 Fmax= 4.55909e+06, atom= 7750\n",
      "Step=   47, Dmax= 9.6e-02 nm, Epot=  7.19850e+07 Fmax= 9.69454e+07, atom= 475370\n",
      "Step=   48, Dmax= 1.1e-01 nm, Epot=  7.13072e+07 Fmax= 4.97634e+06, atom= 7758\n",
      "Step=   49, Dmax= 1.4e-01 nm, Epot=  6.66255e+07 Fmax= 4.72909e+06, atom= 7758\n",
      "Step=   50, Dmax= 1.7e-01 nm, Epot=  6.23772e+07 Fmax= 1.01694e+08, atom= 475370\n",
      "Step=   53, Dmax= 5.0e-02 nm, Epot=  6.14608e+07 Fmax= 2.16935e+07, atom= 775870\n",
      "Step=   54, Dmax= 6.0e-02 nm, Epot=  6.07650e+07 Fmax= 4.81810e+06, atom= 7758\n",
      "Step=   55, Dmax= 7.1e-02 nm, Epot=  5.87180e+07 Fmax= 4.44596e+06, atom= 7758\n",
      "Step=   56, Dmax= 8.6e-02 nm, Epot=  5.62394e+07 Fmax= 4.14971e+06, atom= 7758\n",
      "Step=   57, Dmax= 1.0e-01 nm, Epot=  5.33302e+07 Fmax= 4.20644e+06, atom= 7758\n",
      "Step=   58, Dmax= 1.2e-01 nm, Epot=  5.06161e+07 Fmax= 6.52363e+07, atom= 475634\n",
      "Step=   59, Dmax= 1.5e-01 nm, Epot=  4.97420e+07 Fmax= 4.11558e+06, atom= 7758\n",
      "Step=   60, Dmax= 1.8e-01 nm, Epot=  4.90138e+07 Fmax= 3.62711e+08, atom= 591074\n",
      "Step=   61, Dmax= 2.1e-01 nm, Epot=  4.52406e+07 Fmax= 4.05402e+06, atom= 7758\n",
      "Step=   63, Dmax= 1.3e-01 nm, Epot=  4.19180e+07 Fmax= 3.87546e+06, atom= 775824\n",
      "Step=   65, Dmax= 7.7e-02 nm, Epot=  4.01459e+07 Fmax= 1.08598e+07, atom= 571205\n",
      "Step=   66, Dmax= 9.2e-02 nm, Epot=  3.95680e+07 Fmax= 3.75915e+06, atom= 7758\n",
      "Step=   68, Dmax= 5.5e-02 nm, Epot=  3.81381e+07 Fmax= 3.30231e+06, atom= 775024\n",
      "Step=   69, Dmax= 6.6e-02 nm, Epot=  3.64441e+07 Fmax= 3.66900e+06, atom= 7758\n",
      "Step=   70, Dmax= 8.0e-02 nm, Epot=  3.47121e+07 Fmax= 2.05553e+07, atom= 475724\n",
      "Step=   72, Dmax= 4.8e-02 nm, Epot=  3.44479e+07 Fmax= 3.62774e+06, atom= 775824\n",
      "Step=   73, Dmax= 5.7e-02 nm, Epot=  3.30416e+07 Fmax= 2.53233e+06, atom= 7750\n",
      "Step=   74, Dmax= 6.9e-02 nm, Epot=  3.09305e+07 Fmax= 4.95953e+06, atom= 579005\n",
      "Step=   75, Dmax= 8.3e-02 nm, Epot=  3.04931e+07 Fmax= 9.32362e+07, atom= 475724\n",
      "Step=   76, Dmax= 9.9e-02 nm, Epot=  2.98191e+07 Fmax= 1.81031e+07, atom= 475772\n",
      "Step=   77, Dmax= 1.2e-01 nm, Epot=  2.93734e+07 Fmax= 3.52577e+06, atom= 7758\n",
      "Step=   78, Dmax= 1.4e-01 nm, Epot=  2.63019e+07 Fmax= 1.84281e+07, atom= 577490\n",
      "Step=   79, Dmax= 1.7e-01 nm, Epot=  2.57092e+07 Fmax= 3.32520e+06, atom= 7758\n",
      "Step=   80, Dmax= 2.1e-01 nm, Epot=  2.21115e+07 Fmax= 2.25389e+07, atom= 578351\n",
      "Step=   82, Dmax= 1.2e-01 nm, Epot=  2.13576e+07 Fmax= 3.13234e+06, atom= 7758\n",
      "Step=   83, Dmax= 1.5e-01 nm, Epot=  1.84479e+07 Fmax= 4.71404e+06, atom= 577397\n",
      "Step=   85, Dmax= 8.9e-02 nm, Epot=  1.73638e+07 Fmax= 2.78068e+06, atom= 7758\n",
      "Step=   86, Dmax= 1.1e-01 nm, Epot=  1.53210e+07 Fmax= 2.46839e+06, atom= 7758\n",
      "Step=   87, Dmax= 1.3e-01 nm, Epot=  1.29664e+07 Fmax= 4.64917e+06, atom= 577844\n",
      "Step=   88, Dmax= 1.5e-01 nm, Epot=  1.15918e+07 Fmax= 6.93901e+06, atom= 578729\n",
      "Step=   90, Dmax= 9.2e-02 nm, Epot=  1.10634e+07 Fmax= 2.85689e+06, atom= 7750\n",
      "Step=   91, Dmax= 1.1e-01 nm, Epot=  9.34735e+06 Fmax= 2.84323e+06, atom= 578891\n",
      "Step=   92, Dmax= 1.3e-01 nm, Epot=  7.73801e+06 Fmax= 4.11571e+06, atom= 578729\n",
      "Step=   93, Dmax= 1.6e-01 nm, Epot=  6.32367e+06 Fmax= 2.08361e+06, atom= 7758\n",
      "Step=   94, Dmax= 1.9e-01 nm, Epot=  3.13372e+06 Fmax= 1.88635e+06, atom= 7758\n",
      "Step=   96, Dmax= 1.1e-01 nm, Epot=  1.90815e+06 Fmax= 5.76514e+07, atom= 577673\n",
      "Step=   97, Dmax= 1.4e-01 nm, Epot=  1.44837e+06 Fmax= 1.61098e+06, atom= 7750\n",
      "Step=   99, Dmax= 8.2e-02 nm, Epot=  9.78650e+04 Fmax= 7.82852e+06, atom= 477656\n",
      "Step=  100, Dmax= 9.9e-02 nm, Epot= -2.05024e+05 Fmax= 1.58330e+06, atom= 7758\n",
      "Step=  101, Dmax= 1.2e-01 nm, Epot= -2.09723e+06 Fmax= 1.32168e+06, atom= 7750\n",
      "Step=  102, Dmax= 1.4e-01 nm, Epot= -4.25829e+06 Fmax= 5.80924e+06, atom= 577571\n",
      "Step=  103, Dmax= 1.7e-01 nm, Epot= -4.73876e+06 Fmax= 3.26861e+06, atom= 7753\n",
      "Step=  105, Dmax= 1.0e-01 nm, Epot= -5.39441e+06 Fmax= 3.35216e+06, atom= 577175\n",
      "Step=  106, Dmax= 1.2e-01 nm, Epot= -6.09091e+06 Fmax= 1.18211e+06, atom= 7758\n",
      "Step=  107, Dmax= 1.5e-01 nm, Epot= -6.55470e+06 Fmax= 9.52105e+07, atom= 576920\n",
      "Step=  109, Dmax= 8.9e-02 nm, Epot= -7.94242e+06 Fmax= 2.22721e+06, atom= 578030\n",
      "Step=  110, Dmax= 1.1e-01 nm, Epot= -8.09692e+06 Fmax= 4.54397e+07, atom= 7754\n",
      "Step=  111, Dmax= 1.3e-01 nm, Epot= -8.59014e+06 Fmax= 2.10887e+06, atom= 577820\n",
      "Step=  112, Dmax= 1.5e-01 nm, Epot= -9.46995e+06 Fmax= 1.47799e+06, atom= 7764\n",
      "Step=  113, Dmax= 1.8e-01 nm, Epot= -1.00377e+07 Fmax= 6.91827e+07, atom= 577022\n",
      "Step=  114, Dmax= 2.2e-01 nm, Epot= -1.07258e+07 Fmax= 9.94156e+05, atom= 7769\n",
      "Step=  116, Dmax= 1.3e-01 nm, Epot= -1.19970e+07 Fmax= 5.24520e+06, atom= 584102\n",
      "^C\n"
     ]
    }
   ],
   "source": [
    "! gmx grompp -f em.mdp -c complex_solv_ions.gro -p topol.top -o em.tpr\n",
    "\n",
    "! gmx mdrun -v -deffnm em\n",
    "# ! gmx mdrun -v -deffnm em -nt 8 &\n",
    "# ampersand used to continue running even the shell is closed in linux shells in general"
   ]
  },
  {
   "cell_type": "markdown",
   "metadata": {},
   "source": [
    "#### View potential graph of Energy minimisation"
   ]
  },
  {
   "cell_type": "code",
   "execution_count": 23,
   "metadata": {
    "scrolled": true
   },
   "outputs": [
    {
     "name": "stdout",
     "output_type": "stream",
     "text": [
      "                      :-) GROMACS - gmx energy, 2021.2 (-:\r\n",
      "\r\n",
      "                            GROMACS is written by:\r\n",
      "     Andrey Alekseenko              Emile Apol              Rossen Apostolov     \r\n",
      "         Paul Bauer           Herman J.C. Berendsen           Par Bjelkmar       \r\n",
      "       Christian Blau           Viacheslav Bolnykh             Kevin Boyd        \r\n",
      "     Aldert van Buuren           Rudi van Drunen             Anton Feenstra      \r\n",
      "    Gilles Gouaillardet             Alan Gray               Gerrit Groenhof      \r\n",
      "       Anca Hamuraru            Vincent Hindriksen          M. Eric Irrgang      \r\n",
      "      Aleksei Iupinov           Christoph Junghans             Joe Jordan        \r\n",
      "    Dimitrios Karkoulis            Peter Kasson                Jiri Kraus        \r\n",
      "      Carsten Kutzner              Per Larsson              Justin A. Lemkul     \r\n",
      "       Viveca Lindahl            Magnus Lundborg             Erik Marklund       \r\n",
      "        Pascal Merz             Pieter Meulenhoff            Teemu Murtola       \r\n",
      "        Szilard Pall               Sander Pronk              Roland Schulz       \r\n",
      "       Michael Shirts            Alexey Shvetsov             Alfons Sijbers      \r\n",
      "       Peter Tieleman              Jon Vincent              Teemu Virolainen     \r\n",
      "     Christian Wennberg            Maarten Wolf              Artem Zhmurov       \r\n",
      "                           and the project leaders:\r\n",
      "        Mark Abraham, Berk Hess, Erik Lindahl, and David van der Spoel\r\n",
      "\r\n",
      "Copyright (c) 1991-2000, University of Groningen, The Netherlands.\r\n",
      "Copyright (c) 2001-2019, The GROMACS development team at\r\n",
      "Uppsala University, Stockholm University and\r\n",
      "the Royal Institute of Technology, Sweden.\r\n",
      "check out http://www.gromacs.org for more information.\r\n",
      "\r\n",
      "GROMACS is free software; you can redistribute it and/or modify it\r\n",
      "under the terms of the GNU Lesser General Public License\r\n",
      "as published by the Free Software Foundation; either version 2.1\r\n",
      "of the License, or (at your option) any later version.\r\n",
      "\r\n",
      "GROMACS:      gmx energy, version 2021.2\r\n",
      "Executable:   /usr/local/gromacs/bin/gmx\r\n",
      "Data prefix:  /usr/local/gromacs\r\n",
      "Working dir:  /home/karthi/python_documents/project_for_md/LK01_new\r\n",
      "Command line:\r\n",
      "  gmx energy -f em.edr -o potential.xvg\r\n",
      "\r\n",
      "Opened em.edr as single precision energy file\r\n",
      "\r\n",
      "Select the terms you want from the following list by\r\n",
      "selecting either (part of) the name or the number or a combination.\r\n",
      "End your selection with an empty line or a zero.\r\n",
      "-------------------------------------------------------------------\r\n",
      "  1  Bond             2  Angle            3  U-B              4  Proper-Dih.   \r\n",
      "  5  Improper-Dih.    6  CMAP-Dih.        7  LJ-14            8  Coulomb-14    \r\n",
      "  9  LJ-(SR)         10  Coulomb-(SR)    11  Potential       12  Pressure      \r\n",
      " 13  Vir-XX          14  Vir-XY          15  Vir-XZ          16  Vir-YX        \r\n",
      " 17  Vir-YY          18  Vir-YZ          19  Vir-ZX          20  Vir-ZY        \r\n",
      " 21  Vir-ZZ          22  Pres-XX         23  Pres-XY         24  Pres-XZ       \r\n",
      " 25  Pres-YX         26  Pres-YY         27  Pres-YZ         28  Pres-ZX       \r\n",
      " 29  Pres-ZY         30  Pres-ZZ         31  #Surf*SurfTen   32  T-rest        \r\n",
      "\r\n",
      "\r\n",
      "Reading energy frame      0 time    0.000         \r\n",
      "Reading energy frame      1 time   61.000         \r\n",
      "Last energy frame read 1 time   61.000         \r\n",
      "\r\n",
      "Statistics over 62 steps [ 0.0000 through 61.0000 ps ], 1 data sets\r\n",
      "All statistics are over 2 points (frames)\r\n",
      "\r\n",
      "Energy                      Average   Err.Est.       RMSD  Tot-Drift\r\n",
      "-------------------------------------------------------------------------------\r\n",
      "Potential                7.55287e+08         -- 5.66651e+08 2.2666e+09  (kJ/mol)\r\n",
      "\r\n",
      "GROMACS reminds you: \"Good Music Saves your Soul\" (Lemmy)\r\n",
      "\r\n"
     ]
    }
   ],
   "source": [
    "# view potential after energy minimization\n",
    "# run in terminal\n",
    "! printf \"11\" | gmx energy -f em.edr -o potential.xvg"
   ]
  },
  {
   "cell_type": "code",
   "execution_count": 24,
   "metadata": {
    "scrolled": true
   },
   "outputs": [
    {
     "data": {
      "text/plain": [
       "Text(0, 0.5, 'potential')"
      ]
     },
     "execution_count": 24,
     "metadata": {},
     "output_type": "execute_result"
    },
    {
     "data": {
      "image/png": "[encoded data removed]",
      "text/plain": [
       "<Figure size 432x288 with 1 Axes>"
      ]
     },
     "metadata": {
      "needs_background": "light"
     },
     "output_type": "display_data"
    }
   ],
   "source": [
    "potential = np.genfromtxt([i for i in open('potential.xvg').read().splitlines() \n",
    "    if not i.startswith(('#','@'))])\n",
    "\n",
    "plt.plot(*potential.T)\n",
    "plt.xlabel('stop')\n",
    "plt.ylabel('potential')"
   ]
  },
  {
   "cell_type": "markdown",
   "metadata": {},
   "source": [
    "#### 6. Equilibration"
   ]
  },
  {
   "cell_type": "code",
   "execution_count": null,
   "metadata": {
    "scrolled": true
   },
   "outputs": [],
   "source": [
    "# There are a few special considerations, in this case:\n",
    "\n",
    "# 1. Applying restraints to the ligand\n",
    "# 2. Treatment of temperature coupling groups"
   ]
  },
  {
   "cell_type": "markdown",
   "metadata": {},
   "source": [
    "##### Restraining the Ligand"
   ]
  },
  {
   "cell_type": "code",
   "execution_count": null,
   "metadata": {
    "scrolled": true
   },
   "outputs": [],
   "source": [
    "# Run in terminal\n",
    "\n",
    "# To restrain the ligand, we will need to generate a position restraint topology for it. \n",
    "#    First, create an index group for JZ4 that contains only its non-hydrogen atoms:\n",
    "! gmx make_ndx -f ligand.gro -o index_ligand.ndx\n",
    "# ...\n",
    "# > 0 & ! a H*\n",
    "# > q\n",
    "# "
   ]
  },
  {
   "cell_type": "code",
   "execution_count": null,
   "metadata": {
    "scrolled": true
   },
   "outputs": [],
   "source": [
    "# Run in terminal\n",
    "\n",
    "# Then, execute the genrestr module and give this newly created index group \n",
    "    #(which will be group 3 in the index_jz4.ndx file)\n",
    "\n",
    "! printf \"3\" | gmx genrestr -f ligand.gro -n index_ligand.ndx -o posre_jz4.itp -fc 1000 1000 1000"
   ]
  },
  {
   "cell_type": "code",
   "execution_count": null,
   "metadata": {
    "scrolled": true
   },
   "outputs": [],
   "source": [
    "# Now, we need to include this information in our topology. \n",
    "    #We can do this in several ways, depending upon the conditions we wish to use. \n",
    "    #If we simply want to restrain the ligand whenever the protein is also restrained, \n",
    "    #add the following lines to your topology in the location indicated\n"
   ]
  },
  {
   "cell_type": "code",
   "execution_count": null,
   "metadata": {
    "scrolled": true
   },
   "outputs": [],
   "source": [
    "---> ; Include Position restraint file\n",
    "#ifdef POSRES\n",
    "#include \"posre.itp\"\n",
    "#endif\n",
    "\n",
    "; Include ligand topology\n",
    "#include \"jz4.itp\"\n",
    "\n",
    "; Include water topology\n",
    "#include \"./charmm36-mar2019.ff/tip3p.itp\""
   ]
  },
  {
   "cell_type": "markdown",
   "metadata": {},
   "source": [
    "##### Thermostats"
   ]
  },
  {
   "cell_type": "code",
   "execution_count": null,
   "metadata": {
    "scrolled": true
   },
   "outputs": [],
   "source": [
    "# Run in terminal\n",
    "# Coupling every moleculetype to its own thermostatting group is a bad idea. For instance, if you do the following:\n",
    "    #tc-grps = Protein JZ4 SOL CL\n",
    "    # Your system will probably blow up, since the temperature coupling algorithms\n",
    "    #are not stable enough to control the fluctuations in kinetic energy that groups with a few atoms \n",
    "    #(i.e., JZ4 and CL) will produce. Do not couple every single species in your system separately.\n",
    "\n",
    "# create an index which contain protein and ligand for the purpose of thermostats\n",
    "    # this is for temperature coupling \n",
    "! gmx make_ndx -f em.gro -o Protein_LK01.ndx\n",
    "# > 1 | 13\n",
    "# > q\n"
   ]
  },
  {
   "cell_type": "markdown",
   "metadata": {},
   "source": [
    "##### NVT equilibration"
   ]
  },
  {
   "cell_type": "code",
   "execution_count": null,
   "metadata": {
    "scrolled": true
   },
   "outputs": [],
   "source": [
    "# ampersand may be used to continue running even the shell is closed in linux shells in general\n",
    "! gmx grompp -f nvt.mdp -c em.gro -r em.gro -p topol.top -n Protein_LK01 -o nvt.tpr\n",
    "#! gmx mdrun -v -deffnm nvt"
   ]
  },
  {
   "cell_type": "code",
   "execution_count": null,
   "metadata": {
    "scrolled": true
   },
   "outputs": [],
   "source": [
    "# ! gmx mdrun -v -deffnm nvt -cpi nvt.cpt -nt 6\n",
    "# if md run is interruprted then uncomment and excecute this cell to continue operation "
   ]
  },
  {
   "cell_type": "markdown",
   "metadata": {},
   "source": [
    "#### view Temperature graph after NVT equilibration"
   ]
  },
  {
   "cell_type": "code",
   "execution_count": null,
   "metadata": {
    "scrolled": true
   },
   "outputs": [],
   "source": [
    "# Preferably run in terminal\n",
    "! printf \"15 0\" | gmx energy -f nvt.edr -o temperature.xvg "
   ]
  },
  {
   "cell_type": "code",
   "execution_count": null,
   "metadata": {
    "scrolled": true
   },
   "outputs": [],
   "source": [
    "temperature = np.genfromtxt([i for i in open('temperature.xvg').read().splitlines() \n",
    "    if not i.startswith(('#','@'))]) \n",
    "\n",
    "plt.plot(*temperature.T)\n",
    "plt.xlabel('stop')\n",
    "plt.ylabel('temperature')"
   ]
  },
  {
   "cell_type": "markdown",
   "metadata": {},
   "source": [
    "##### 7. NPT equilibration"
   ]
  },
  {
   "cell_type": "code",
   "execution_count": null,
   "metadata": {
    "scrolled": true
   },
   "outputs": [],
   "source": [
    "# ampersand may be used to continue running even the shell is closed in linux shells in general\n",
    "! gmx grompp -f npt.mdp -c nvt.gro -t nvt.cpt -r nvt.gro -p topol.top -n index_protein_ligand.ndx -o npt.tpr\n",
    "! gmx mdrun -v -deffnm npt"
   ]
  },
  {
   "cell_type": "code",
   "execution_count": null,
   "metadata": {
    "scrolled": true
   },
   "outputs": [],
   "source": [
    "# if md run is interruprted continue operation like previous command"
   ]
  },
  {
   "cell_type": "markdown",
   "metadata": {},
   "source": [
    "#### View Pressure and Density graph after NVT equilibration"
   ]
  },
  {
   "cell_type": "code",
   "execution_count": null,
   "metadata": {
    "scrolled": true
   },
   "outputs": [],
   "source": [
    "# Preferably run in terminal\n",
    "! printf \"17 0\" | gmx energy -f npt.edr -o pressure.xvg "
   ]
  },
  {
   "cell_type": "code",
   "execution_count": null,
   "metadata": {
    "scrolled": true
   },
   "outputs": [],
   "source": [
    "pressure = np.genfromtxt([i for i in open('pressure.xvg').read().splitlines() \n",
    "    if not i.startswith(('#','@'))])\n",
    "\n",
    "plt.plot(*pressure.T)\n",
    "plt.xlabel('stop')\n",
    "plt.ylabel('pressure')"
   ]
  },
  {
   "cell_type": "code",
   "execution_count": null,
   "metadata": {
    "scrolled": true
   },
   "outputs": [],
   "source": [
    "# Preferably run in terminal\n",
    "! printf \"24 0\" | gmx energy -f npt.edr -o density.xvg "
   ]
  },
  {
   "cell_type": "code",
   "execution_count": null,
   "metadata": {
    "scrolled": true
   },
   "outputs": [],
   "source": [
    "density = np.genfromtxt([i for i in open('density.xvg').read().splitlines() \n",
    "    if not i.startswith(('#','@'))]) \n",
    "\n",
    "plt.plot(*density.T)\n",
    "plt.xlabel('stop')\n",
    "plt.ylabel('density')"
   ]
  },
  {
   "cell_type": "markdown",
   "metadata": {},
   "source": [
    "#### 8. Production MD"
   ]
  },
  {
   "cell_type": "code",
   "execution_count": null,
   "metadata": {
    "scrolled": true
   },
   "outputs": [],
   "source": [
    "# ampersand may be used to continue running even the shell is closed in linux shells in general\n",
    "! gmx grompp -f md.mdp -c npt.gro -t npt.cpt -p topol.top -n index.ndx -o md.tpr\n",
    "! gmx mdrun -v -deffnm md\n",
    "\n",
    "# if md run is interruprted continue operation like previous command"
   ]
  },
  {
   "cell_type": "markdown",
   "metadata": {},
   "source": [
    "#### 9. Analysis"
   ]
  },
  {
   "cell_type": "markdown",
   "metadata": {},
   "source": [
    "#### Removing periodicities in the trajectories"
   ]
  },
  {
   "cell_type": "code",
   "execution_count": null,
   "metadata": {
    "scrolled": true
   },
   "outputs": [],
   "source": [
    "# correct trajectory of nvt\n",
    "# when prompted give 1,1 for protein only or 0,0 for System itself\n",
    "# change printf statement if you want\n",
    "\n",
    "! printf \"System \\n System \\n\" | gmx trjconv -s nvt.tpr -f nvt.xtc -o nvt_corrected.xtc -pbc mol -ur compact -center\n"
   ]
  },
  {
   "cell_type": "code",
   "execution_count": null,
   "metadata": {
    "scrolled": true
   },
   "outputs": [],
   "source": [
    "# correct trajectory of npt\n",
    "# when prompted give 1,1 for Protein only or 0,0 for system itself\n",
    "# change printf statement if you want\n",
    "\n",
    "! printf \"Protein \\n Protein \\n\" | gmx trjconv -s npt.tpr -f npt.xtc -o npt_corrected.xtc -pbc mol -ur compact -center\n"
   ]
  },
  {
   "cell_type": "code",
   "execution_count": null,
   "metadata": {
    "scrolled": true
   },
   "outputs": [],
   "source": [
    "# correct trajectory of md\n",
    "# when prompted give 1,1 for protein only or 0,0 for System itself\n",
    "# change printf statement if you want\n",
    "\n",
    "! printf \"System \\n System \\n\" | gmx trjconv -s md.tpr -f md.xtc -o md_corrected.xtc -pbc mol -ur compact -center"
   ]
  },
  {
   "cell_type": "code",
   "execution_count": null,
   "metadata": {
    "scrolled": true
   },
   "outputs": [],
   "source": [
    "# For even smoother visualization, it may be beneficial to perform rotational and translational fitting. Execute trjconv as follows:\n",
    "# Choose \"Backbone\" to perform least-squares fitting to the protein backbone, and \"System\" for output. \n",
    "# change printf statement if you want\n",
    "\n",
    "! printf \"Backbone \\n System \\n\" | gmx trjconv -s md.tpr -f md_corrected.xtc -o md_fit.xtc -fit rot+trans"
   ]
  },
  {
   "cell_type": "markdown",
   "metadata": {},
   "source": [
    "#### RMSD, RMSF, Gyrate, HBonds"
   ]
  },
  {
   "cell_type": "code",
   "execution_count": null,
   "metadata": {
    "scrolled": true
   },
   "outputs": [],
   "source": [
    "# RMSD: Root Mean Square Deviation\n",
    "# Enter what w.r.t what\n",
    "# change printf statement\n",
    "# when prompted give 4,4 for Backbone\n",
    "\n",
    "! printf \"Backbone \\n Backbone \\n\" | gmx rms -s md.tpr -f md_corrected.xtc -o rmsd.xvg\n",
    "\n",
    "xvg_file = np.genfromtxt([i for i in open(\"rmsd.xvg\").read().splitlines() \n",
    "    if not i.startswith(('#','@'))]) \n",
    "plt.plot(*xvg_file.T)"
   ]
  },
  {
   "cell_type": "code",
   "execution_count": null,
   "metadata": {
    "scrolled": true
   },
   "outputs": [],
   "source": [
    "# RMSF: Root Mean Square Fluctuation\n",
    "# Enter what w.r.t what\n",
    "# change printf statement\n",
    "# when prompted give 3,3 for C-alpha\n",
    "\n",
    "! printf \"C-alpha \\n C-alpha \\n\" | gmx rmsf -s md.tpr -f md_corrected.xtc -o rmsf.xvg -res \n",
    "\n",
    "xvg_file = np.genfromtxt([i for i in open(\"rmsf.xvg\").read().splitlines() \n",
    "    if not i.startswith(('#','@'))]) \n",
    "plt.plot(*xvg_file.T)"
   ]
  },
  {
   "cell_type": "code",
   "execution_count": null,
   "metadata": {
    "scrolled": true
   },
   "outputs": [],
   "source": [
    "# Gyrate: Radius of Gyration\n",
    "# when prompted give 1,1 for Protein \n",
    "\n",
    "! printf \"Protein \\n Protein \\n\" | gmx gyrate -s md_corrected.xtc -f md_corrected.xtc -o gyration.xvg\n",
    "\n",
    "xvg_file = np.genfromtxt([i for i in open(\"gyration.xvg\").read().splitlines() \n",
    "    if not i.startswith(('#','@'))]) \n",
    "plt.plot(*xvg_file.T)"
   ]
  },
  {
   "cell_type": "code",
   "execution_count": null,
   "metadata": {
    "scrolled": true
   },
   "outputs": [],
   "source": [
    "# hbonds: Hydrogen Bonds\n",
    "# Enter what w.r.t what\n",
    "# change printf statement\n",
    "# when prompted give 1,1 for Protein\n",
    "\n",
    "! printf \"Protein \\n Protein \\n\" | gmx hbond -s md.tpr -f md_corrected.xtc -num hbond.xvg\n",
    "\n",
    "xvg_file = np.genfromtxt([i for i in open(\"hbond.xvg\").read().splitlines() \n",
    "    if not i.startswith(('#','@'))]) \n",
    "plt.plot(*xvg_file.T)"
   ]
  },
  {
   "cell_type": "code",
   "execution_count": null,
   "metadata": {
    "scrolled": true
   },
   "outputs": [],
   "source": []
  }
 ],
 "metadata": {
  "interpreter": {
   "hash": "71aecfd13c06d9860e97006eb09fbdbed6c053b19fa8fb509513eff45f012d82"
  },
  "kernelspec": {
   "display_name": "Python 3",
   "language": "python",
   "name": "python3"
  },
  "language_info": {
   "codemirror_mode": {
    "name": "ipython",
    "version": 3
   },
   "file_extension": ".py",
   "mimetype": "text/x-python",
   "name": "python",
   "nbconvert_exporter": "python",
   "pygments_lexer": "ipython3",
   "version": "3.8.8"
  }
 },
 "nbformat": 4,
 "nbformat_minor": 2
}
